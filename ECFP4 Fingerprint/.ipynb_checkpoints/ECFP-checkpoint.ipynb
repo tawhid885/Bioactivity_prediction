{
 "cells": [
  {
   "cell_type": "markdown",
   "id": "4b7f6628",
   "metadata": {},
   "source": [
    "# Evaluation of Machine Learning Classifiers for Bioactivity Prediction "
   ]
  },
  {
   "cell_type": "markdown",
   "id": "d4ba9351",
   "metadata": {},
   "source": [
    "This Jupyter Notebook presents a comprehensive study focused on predicting the bioactivity of natural compounds extracted from Bangladeshi plants. Utilizing the ChEMBL database, the dataset consists of 13,999 samples and 47 features, specifically aimed at evaluating the potential of these compounds as drug candidates.\n",
    "\n",
    "The process encompasses several key steps that include data preprocessing, molecular fingerprint calculation, and model training using various classification algorithms. Special emphasis is placed on quantitative structure-activity relationship (QSAR) analysis by applying similarity measures such as Tanimoto with MACCS, Dice with MACCS, Tanimoto with Morgan, and Dice with Morgan. Additionally, Lipinski's Rule of Five is employed to filter compounds identified as drug-like, which ensures their suitability for further studies.\n",
    "\n",
    "Ultimately, this work aims to identify biologically active compounds that could serve as effective agents in drug development, providing valuable insights into their efficacy and potential applications."
   ]
  },
  {
   "cell_type": "markdown",
   "id": "00b096a9",
   "metadata": {},
   "source": [
    "In this work, we will evaluate the performance of various machine learning classifiers on a bioactivity prediction dataset. The analysis will involve:  \n",
    "\n",
    "## 1. Data Preparation  \n",
    "- **Importing the dataset:** Load the bioactivity dataset for analysis.  \n",
    "- **Calculating molecular fingerprints:** Generate Extended-Connectivity Fingerprints (ECFP4) molecular fingerprints necessary for feature extraction.  \n",
    "- **Splitting the data:** Divide the dataset into training and testing sets for model evaluation. \n",
    "\n",
    "## 2. Model Training and Evaluation  \n",
    "We will implement different classifiers, including:  \n",
    "- **Random Forest**  \n",
    "- **AdaBoost**  \n",
    "- **Bagging**  \n",
    "- **Extra Trees**  \n",
    "- **Gradient Boosting**  \n",
    "- **XGBoost**  \n",
    "- **Support Vector Machine (SVM)**   \n",
    "\n",
    "We will assess their performance using metrics such as:  \n",
    "- **Accuracy**  \n",
    "- **Precision**  \n",
    "- **Recall**  \n",
    "- **F1 Score**  \n",
    "- **Matthews Correlation Coefficient (MCC)**  \n",
    "- **ROC AUC**  \n",
    "\n",
    "## 3. Visualization  \n",
    "- **ROC Curves:** Generate Receiver Operating Characteristic (ROC) curves to visualize the classifiers' performances.  \n",
    "- **Accuracy Comparison Plots:** Create plots to compare the accuracy of the different models visually.  \n",
    "\n",
    "The goal of this analysis is to identify the most effective model for predicting the bioactivity of natural compounds which could provide valuable insights for drug discovery applications."
   ]
  },
  {
   "cell_type": "code",
   "execution_count": 1,
   "id": "68f27465",
   "metadata": {},
   "outputs": [],
   "source": [
    "# Import essential libraries for data manipulation and analysis\n",
    "import pandas as pd\n",
    "import numpy as np\n",
    "\n",
    "\n",
    "import matplotlib.pyplot as plt\n",
    "%matplotlib inline\n",
    "import seaborn as sns\n",
    "import plotly.express as px\n",
    "import requests\n",
    "\n",
    "from rdkit import Chem\n",
    "from rdkit.Chem import AllChem, DataStructs, Descriptors, MACCSkeys, Draw, rdFMCS\n",
    "from rdkit.DataStructs import TanimotoSimilarity, DiceSimilarity\n",
    "\n",
    "\n",
    "from sklearn.model_selection import cross_val_score, KFold, train_test_split, GridSearchCV\n",
    "\n",
    "from sklearn import metrics\n",
    "from sklearn.metrics import (\n",
    "    accuracy_score, \n",
    "    log_loss,\n",
    "    precision_score, \n",
    "    recall_score, \n",
    "    f1_score, \n",
    "    matthews_corrcoef,\n",
    "    confusion_matrix,\n",
    "    ConfusionMatrixDisplay,\n",
    "    roc_auc_score, \n",
    "    roc_curve, \n",
    "    auc,\n",
    "   )  \n",
    "\n",
    "\n",
    "from sklearn.ensemble import (  \n",
    "    RandomForestClassifier,  \n",
    "    AdaBoostClassifier,  \n",
    "    BaggingClassifier,  \n",
    "    ExtraTreesClassifier,  \n",
    "    GradientBoostingClassifier,  \n",
    ")  \n",
    "from sklearn.svm import SVC  \n",
    "from xgboost import XGBClassifier\n",
    "\n",
    "# Importing the time module to measure execution time of model training and evaluation\n",
    "import time  "
   ]
  },
  {
   "cell_type": "markdown",
   "id": "af6560b8",
   "metadata": {},
   "source": [
    "## Loading ChEMBL Bioactivity Dataset for COX-2 inhibitors\n",
    "\n",
    "This dataset, sourced from the ChEMBL database, contains bioactivity data with 13,999 samples (rows) and 47 features (columns). The data is loaded into a pandas DataFrame and prepared for preprocessing and subsequent machine learning analysis."
   ]
  },
  {
   "cell_type": "code",
   "execution_count": 2,
   "id": "9a2ef2cf",
   "metadata": {},
   "outputs": [],
   "source": [
    "my_df = pd.read_csv('Cyclooxygenase-2.csv')"
   ]
  },
  {
   "cell_type": "code",
   "execution_count": 3,
   "id": "81b819b0",
   "metadata": {},
   "outputs": [
    {
     "data": {
      "text/html": [
       "<div>\n",
       "<style scoped>\n",
       "    .dataframe tbody tr th:only-of-type {\n",
       "        vertical-align: middle;\n",
       "    }\n",
       "\n",
       "    .dataframe tbody tr th {\n",
       "        vertical-align: top;\n",
       "    }\n",
       "\n",
       "    .dataframe thead th {\n",
       "        text-align: right;\n",
       "    }\n",
       "</style>\n",
       "<table border=\"1\" class=\"dataframe\">\n",
       "  <thead>\n",
       "    <tr style=\"text-align: right;\">\n",
       "      <th></th>\n",
       "      <th>Molecule ChEMBL ID</th>\n",
       "      <th>Molecule Name</th>\n",
       "      <th>Molecule Max Phase</th>\n",
       "      <th>Molecular Weight</th>\n",
       "      <th>#RO5 Violations</th>\n",
       "      <th>AlogP</th>\n",
       "      <th>Compound Key</th>\n",
       "      <th>Smiles</th>\n",
       "      <th>Standard Type</th>\n",
       "      <th>Standard Relation</th>\n",
       "      <th>...</th>\n",
       "      <th>Target Type</th>\n",
       "      <th>Document ChEMBL ID</th>\n",
       "      <th>Source ID</th>\n",
       "      <th>Source Description</th>\n",
       "      <th>Document Journal</th>\n",
       "      <th>Document Year</th>\n",
       "      <th>Cell ChEMBL ID</th>\n",
       "      <th>Properties</th>\n",
       "      <th>Action Type</th>\n",
       "      <th>Standard Text Value</th>\n",
       "    </tr>\n",
       "  </thead>\n",
       "  <tbody>\n",
       "    <tr>\n",
       "      <th>0</th>\n",
       "      <td>CHEMBL1200623</td>\n",
       "      <td>ETHYLESTRENOL</td>\n",
       "      <td>4.0</td>\n",
       "      <td>288.48</td>\n",
       "      <td>1.0</td>\n",
       "      <td>5.09</td>\n",
       "      <td>ETHYLESTRENOL</td>\n",
       "      <td>CC[C@]1(O)CC[C@H]2[C@@H]3CCC4=CCCC[C@@H]4[C@H]...</td>\n",
       "      <td>Ki</td>\n",
       "      <td>NaN</td>\n",
       "      <td>...</td>\n",
       "      <td>SINGLE PROTEIN</td>\n",
       "      <td>CHEMBL1909046</td>\n",
       "      <td>15</td>\n",
       "      <td>DrugMatrix</td>\n",
       "      <td>NaN</td>\n",
       "      <td>NaN</td>\n",
       "      <td>CHEMBL4106362</td>\n",
       "      <td>NaN</td>\n",
       "      <td>NaN</td>\n",
       "      <td>NaN</td>\n",
       "    </tr>\n",
       "    <tr>\n",
       "      <th>1</th>\n",
       "      <td>CHEMBL404811</td>\n",
       "      <td>DIGITONIN</td>\n",
       "      <td>NaN</td>\n",
       "      <td>1229.32</td>\n",
       "      <td>NaN</td>\n",
       "      <td>NaN</td>\n",
       "      <td>DIGITONIN</td>\n",
       "      <td>C[C@@H]1CC[C@@]2(OC1)O[C@H]1[C@@H](O)[C@H]3[C@...</td>\n",
       "      <td>IC50</td>\n",
       "      <td>NaN</td>\n",
       "      <td>...</td>\n",
       "      <td>SINGLE PROTEIN</td>\n",
       "      <td>CHEMBL1909046</td>\n",
       "      <td>15</td>\n",
       "      <td>DrugMatrix</td>\n",
       "      <td>NaN</td>\n",
       "      <td>NaN</td>\n",
       "      <td>CHEMBL4106362</td>\n",
       "      <td>NaN</td>\n",
       "      <td>NaN</td>\n",
       "      <td>NaN</td>\n",
       "    </tr>\n",
       "    <tr>\n",
       "      <th>2</th>\n",
       "      <td>CHEMBL416126</td>\n",
       "      <td>NaN</td>\n",
       "      <td>NaN</td>\n",
       "      <td>388.39</td>\n",
       "      <td>0.0</td>\n",
       "      <td>4.43</td>\n",
       "      <td>20j</td>\n",
       "      <td>CS(=O)(=O)c1ccc(-c2cc(F)c(F)cc2-c2ccc3c(c2)OCO...</td>\n",
       "      <td>IC50</td>\n",
       "      <td>'='</td>\n",
       "      <td>...</td>\n",
       "      <td>SINGLE PROTEIN</td>\n",
       "      <td>CHEMBL1129066</td>\n",
       "      <td>1</td>\n",
       "      <td>Scientific Literature</td>\n",
       "      <td>J Med Chem</td>\n",
       "      <td>1996.0</td>\n",
       "      <td>NaN</td>\n",
       "      <td>NaN</td>\n",
       "      <td>NaN</td>\n",
       "      <td>NaN</td>\n",
       "    </tr>\n",
       "    <tr>\n",
       "      <th>3</th>\n",
       "      <td>CHEMBL1413</td>\n",
       "      <td>CICLOPIROX</td>\n",
       "      <td>4.0</td>\n",
       "      <td>207.27</td>\n",
       "      <td>0.0</td>\n",
       "      <td>2.44</td>\n",
       "      <td>CICLOPIROX</td>\n",
       "      <td>Cc1cc(C2CCCCC2)n(O)c(=O)c1</td>\n",
       "      <td>IC50</td>\n",
       "      <td>NaN</td>\n",
       "      <td>...</td>\n",
       "      <td>SINGLE PROTEIN</td>\n",
       "      <td>CHEMBL1909046</td>\n",
       "      <td>15</td>\n",
       "      <td>DrugMatrix</td>\n",
       "      <td>NaN</td>\n",
       "      <td>NaN</td>\n",
       "      <td>CHEMBL4106362</td>\n",
       "      <td>NaN</td>\n",
       "      <td>NaN</td>\n",
       "      <td>NaN</td>\n",
       "    </tr>\n",
       "    <tr>\n",
       "      <th>4</th>\n",
       "      <td>CHEMBL143776</td>\n",
       "      <td>NaN</td>\n",
       "      <td>NaN</td>\n",
       "      <td>321.37</td>\n",
       "      <td>1.0</td>\n",
       "      <td>5.99</td>\n",
       "      <td>32</td>\n",
       "      <td>Fc1ccc(-c2[nH]c(-c3ccc(F)cc3)c3c2C2CCC3C2)cc1</td>\n",
       "      <td>IC50</td>\n",
       "      <td>'='</td>\n",
       "      <td>...</td>\n",
       "      <td>SINGLE PROTEIN</td>\n",
       "      <td>CHEMBL1133534</td>\n",
       "      <td>1</td>\n",
       "      <td>Scientific Literature</td>\n",
       "      <td>J Med Chem</td>\n",
       "      <td>2000.0</td>\n",
       "      <td>NaN</td>\n",
       "      <td>NaN</td>\n",
       "      <td>NaN</td>\n",
       "      <td>NaN</td>\n",
       "    </tr>\n",
       "  </tbody>\n",
       "</table>\n",
       "<p>5 rows × 47 columns</p>\n",
       "</div>"
      ],
      "text/plain": [
       "  Molecule ChEMBL ID  Molecule Name  Molecule Max Phase  Molecular Weight  \\\n",
       "0      CHEMBL1200623  ETHYLESTRENOL                 4.0            288.48   \n",
       "1       CHEMBL404811      DIGITONIN                 NaN           1229.32   \n",
       "2       CHEMBL416126            NaN                 NaN            388.39   \n",
       "3         CHEMBL1413     CICLOPIROX                 4.0            207.27   \n",
       "4       CHEMBL143776            NaN                 NaN            321.37   \n",
       "\n",
       "   #RO5 Violations  AlogP   Compound Key  \\\n",
       "0              1.0   5.09  ETHYLESTRENOL   \n",
       "1              NaN    NaN      DIGITONIN   \n",
       "2              0.0   4.43            20j   \n",
       "3              0.0   2.44     CICLOPIROX   \n",
       "4              1.0   5.99             32   \n",
       "\n",
       "                                              Smiles Standard Type  \\\n",
       "0  CC[C@]1(O)CC[C@H]2[C@@H]3CCC4=CCCC[C@@H]4[C@H]...            Ki   \n",
       "1  C[C@@H]1CC[C@@]2(OC1)O[C@H]1[C@@H](O)[C@H]3[C@...          IC50   \n",
       "2  CS(=O)(=O)c1ccc(-c2cc(F)c(F)cc2-c2ccc3c(c2)OCO...          IC50   \n",
       "3                         Cc1cc(C2CCCCC2)n(O)c(=O)c1          IC50   \n",
       "4      Fc1ccc(-c2[nH]c(-c3ccc(F)cc3)c3c2C2CCC3C2)cc1          IC50   \n",
       "\n",
       "  Standard Relation  ...     Target Type Document ChEMBL ID  Source ID  \\\n",
       "0               NaN  ...  SINGLE PROTEIN      CHEMBL1909046         15   \n",
       "1               NaN  ...  SINGLE PROTEIN      CHEMBL1909046         15   \n",
       "2               '='  ...  SINGLE PROTEIN      CHEMBL1129066          1   \n",
       "3               NaN  ...  SINGLE PROTEIN      CHEMBL1909046         15   \n",
       "4               '='  ...  SINGLE PROTEIN      CHEMBL1133534          1   \n",
       "\n",
       "      Source Description Document Journal Document Year  Cell ChEMBL ID  \\\n",
       "0             DrugMatrix              NaN           NaN   CHEMBL4106362   \n",
       "1             DrugMatrix              NaN           NaN   CHEMBL4106362   \n",
       "2  Scientific Literature       J Med Chem        1996.0             NaN   \n",
       "3             DrugMatrix              NaN           NaN   CHEMBL4106362   \n",
       "4  Scientific Literature       J Med Chem        2000.0             NaN   \n",
       "\n",
       "   Properties  Action Type  Standard Text Value  \n",
       "0         NaN          NaN                  NaN  \n",
       "1         NaN          NaN                  NaN  \n",
       "2         NaN          NaN                  NaN  \n",
       "3         NaN          NaN                  NaN  \n",
       "4         NaN          NaN                  NaN  \n",
       "\n",
       "[5 rows x 47 columns]"
      ]
     },
     "execution_count": 3,
     "metadata": {},
     "output_type": "execute_result"
    }
   ],
   "source": [
    "my_df.head()"
   ]
  },
  {
   "cell_type": "code",
   "execution_count": 4,
   "id": "259037b8",
   "metadata": {},
   "outputs": [
    {
     "data": {
      "text/plain": [
       "(13999, 47)"
      ]
     },
     "execution_count": 4,
     "metadata": {},
     "output_type": "execute_result"
    }
   ],
   "source": [
    "my_df.shape"
   ]
  },
  {
   "cell_type": "code",
   "execution_count": 5,
   "id": "75d318b3",
   "metadata": {},
   "outputs": [
    {
     "data": {
      "text/plain": [
       "Index(['Molecule ChEMBL ID', 'Molecule Name', 'Molecule Max Phase',\n",
       "       'Molecular Weight', '#RO5 Violations', 'AlogP', 'Compound Key',\n",
       "       'Smiles', 'Standard Type', 'Standard Relation', 'Standard Value',\n",
       "       'Standard Units', 'pChEMBL Value', 'Data Validity Comment', 'Comment',\n",
       "       'Uo Units', 'Ligand Efficiency BEI', 'Ligand Efficiency LE',\n",
       "       'Ligand Efficiency LLE', 'Ligand Efficiency SEI', 'Potential Duplicate',\n",
       "       'Assay ChEMBL ID', 'Assay Description', 'Assay Type', 'BAO Format ID',\n",
       "       'BAO Label', 'Assay Organism', 'Assay Tissue ChEMBL ID',\n",
       "       'Assay Tissue Name', 'Assay Cell Type', 'Assay Subcellular Fraction',\n",
       "       'Assay Parameters', 'Assay Variant Accession', 'Assay Variant Mutation',\n",
       "       'Target ChEMBL ID', 'Target Name', 'Target Organism', 'Target Type',\n",
       "       'Document ChEMBL ID', 'Source ID', 'Source Description',\n",
       "       'Document Journal', 'Document Year', 'Cell ChEMBL ID', 'Properties',\n",
       "       'Action Type', 'Standard Text Value'],\n",
       "      dtype='object')"
      ]
     },
     "execution_count": 5,
     "metadata": {},
     "output_type": "execute_result"
    }
   ],
   "source": [
    "my_df.columns"
   ]
  },
  {
   "cell_type": "markdown",
   "id": "8ebc4fac",
   "metadata": {},
   "source": [
    "## Retain Relevant Columns\n",
    "\n",
    "Drop all irrelevant columns and keep only 'Molecule ChEMBL ID', 'Smiles', and 'Standard Value' columns for analysis.\n"
   ]
  },
  {
   "cell_type": "code",
   "execution_count": 6,
   "id": "6273679a",
   "metadata": {},
   "outputs": [],
   "source": [
    "my_df= my_df[['Molecule ChEMBL ID', 'Smiles', 'Standard Type', 'Standard Relation', 'Standard Units', 'Standard Value']]"
   ]
  },
  {
   "cell_type": "markdown",
   "id": "bd9b0c48",
   "metadata": {},
   "source": [
    "## Filter Data by Activity Parameters\n",
    "\n",
    "Filter the dataset to include only rows where 'Standard Type' is 'IC50', 'Standard Relation' is '=', and 'Standard Units' are 'nM'.\n"
   ]
  },
  {
   "cell_type": "code",
   "execution_count": 7,
   "id": "2f4f29a5",
   "metadata": {},
   "outputs": [
    {
     "data": {
      "text/plain": [
       "(7891, 6)"
      ]
     },
     "execution_count": 7,
     "metadata": {},
     "output_type": "execute_result"
    }
   ],
   "source": [
    "my_df = my_df[my_df['Standard Type']=='IC50']\n",
    "my_df.shape"
   ]
  },
  {
   "cell_type": "code",
   "execution_count": 8,
   "id": "91759b66",
   "metadata": {},
   "outputs": [
    {
     "data": {
      "text/plain": [
       "(6882, 6)"
      ]
     },
     "execution_count": 8,
     "metadata": {},
     "output_type": "execute_result"
    }
   ],
   "source": [
    "my_df= my_df[my_df['Standard Units']=='nM']\n",
    "my_df.shape"
   ]
  },
  {
   "cell_type": "code",
   "execution_count": 9,
   "id": "222adaf7",
   "metadata": {},
   "outputs": [
    {
     "data": {
      "text/plain": [
       "(5843, 6)"
      ]
     },
     "execution_count": 9,
     "metadata": {},
     "output_type": "execute_result"
    }
   ],
   "source": [
    "my_df=my_df[my_df['Standard Relation']==\"'='\"]\n",
    "my_df.shape"
   ]
  },
  {
   "cell_type": "markdown",
   "id": "691a200a",
   "metadata": {},
   "source": [
    "## Remove Null and Infinite Values\n",
    "\n",
    "Delete rows with null or infinite values to ensure data quality for analysis.\n"
   ]
  },
  {
   "cell_type": "code",
   "execution_count": 10,
   "id": "b1f092e9",
   "metadata": {},
   "outputs": [],
   "source": [
    "rows_with_null = my_df[my_df.isnull().any(axis=1)]"
   ]
  },
  {
   "cell_type": "code",
   "execution_count": 11,
   "id": "bd7d45b2",
   "metadata": {},
   "outputs": [
    {
     "data": {
      "text/html": [
       "<div>\n",
       "<style scoped>\n",
       "    .dataframe tbody tr th:only-of-type {\n",
       "        vertical-align: middle;\n",
       "    }\n",
       "\n",
       "    .dataframe tbody tr th {\n",
       "        vertical-align: top;\n",
       "    }\n",
       "\n",
       "    .dataframe thead th {\n",
       "        text-align: right;\n",
       "    }\n",
       "</style>\n",
       "<table border=\"1\" class=\"dataframe\">\n",
       "  <thead>\n",
       "    <tr style=\"text-align: right;\">\n",
       "      <th></th>\n",
       "      <th>Molecule ChEMBL ID</th>\n",
       "      <th>Smiles</th>\n",
       "      <th>Standard Type</th>\n",
       "      <th>Standard Relation</th>\n",
       "      <th>Standard Units</th>\n",
       "      <th>Standard Value</th>\n",
       "    </tr>\n",
       "  </thead>\n",
       "  <tbody>\n",
       "    <tr>\n",
       "      <th>12356</th>\n",
       "      <td>CHEMBL4527106</td>\n",
       "      <td>NaN</td>\n",
       "      <td>IC50</td>\n",
       "      <td>'='</td>\n",
       "      <td>nM</td>\n",
       "      <td>60.0</td>\n",
       "    </tr>\n",
       "  </tbody>\n",
       "</table>\n",
       "</div>"
      ],
      "text/plain": [
       "      Molecule ChEMBL ID Smiles Standard Type Standard Relation  \\\n",
       "12356      CHEMBL4527106    NaN          IC50               '='   \n",
       "\n",
       "      Standard Units  Standard Value  \n",
       "12356             nM            60.0  "
      ]
     },
     "execution_count": 11,
     "metadata": {},
     "output_type": "execute_result"
    }
   ],
   "source": [
    "rows_with_null"
   ]
  },
  {
   "cell_type": "code",
   "execution_count": 12,
   "id": "d7fa0c15",
   "metadata": {},
   "outputs": [],
   "source": [
    "clean_df = my_df.dropna()"
   ]
  },
  {
   "cell_type": "code",
   "execution_count": 13,
   "id": "0ebc25af",
   "metadata": {},
   "outputs": [],
   "source": [
    "rows_with_null = clean_df[clean_df.isnull().any(axis=1)]"
   ]
  },
  {
   "cell_type": "code",
   "execution_count": 14,
   "id": "749c333d",
   "metadata": {},
   "outputs": [
    {
     "data": {
      "text/html": [
       "<div>\n",
       "<style scoped>\n",
       "    .dataframe tbody tr th:only-of-type {\n",
       "        vertical-align: middle;\n",
       "    }\n",
       "\n",
       "    .dataframe tbody tr th {\n",
       "        vertical-align: top;\n",
       "    }\n",
       "\n",
       "    .dataframe thead th {\n",
       "        text-align: right;\n",
       "    }\n",
       "</style>\n",
       "<table border=\"1\" class=\"dataframe\">\n",
       "  <thead>\n",
       "    <tr style=\"text-align: right;\">\n",
       "      <th></th>\n",
       "      <th>Molecule ChEMBL ID</th>\n",
       "      <th>Smiles</th>\n",
       "      <th>Standard Type</th>\n",
       "      <th>Standard Relation</th>\n",
       "      <th>Standard Units</th>\n",
       "      <th>Standard Value</th>\n",
       "    </tr>\n",
       "  </thead>\n",
       "  <tbody>\n",
       "  </tbody>\n",
       "</table>\n",
       "</div>"
      ],
      "text/plain": [
       "Empty DataFrame\n",
       "Columns: [Molecule ChEMBL ID, Smiles, Standard Type, Standard Relation, Standard Units, Standard Value]\n",
       "Index: []"
      ]
     },
     "execution_count": 14,
     "metadata": {},
     "output_type": "execute_result"
    }
   ],
   "source": [
    "rows_with_null"
   ]
  },
  {
   "cell_type": "code",
   "execution_count": 15,
   "id": "9f0951a7",
   "metadata": {},
   "outputs": [
    {
     "data": {
      "text/plain": [
       "0"
      ]
     },
     "execution_count": 15,
     "metadata": {},
     "output_type": "execute_result"
    }
   ],
   "source": [
    "np.isinf(clean_df['Standard Value']).sum()"
   ]
  },
  {
   "cell_type": "markdown",
   "id": "1323e6dd",
   "metadata": {},
   "source": [
    "## Remove Duplicate SMILES Entries\n",
    "\n",
    "Eliminate duplicate SMILES data to maintain unique molecular representations in the dataset.\n"
   ]
  },
  {
   "cell_type": "code",
   "execution_count": 16,
   "id": "88d2c6dd",
   "metadata": {},
   "outputs": [
    {
     "data": {
      "text/plain": [
       "(4150, 6)"
      ]
     },
     "execution_count": 16,
     "metadata": {},
     "output_type": "execute_result"
    }
   ],
   "source": [
    "clean_df = clean_df.drop_duplicates(subset=['Smiles'])\n",
    "clean_df.shape"
   ]
  },
  {
   "cell_type": "markdown",
   "id": "217d064a",
   "metadata": {},
   "source": [
    "## Classify Compounds Based on IC50 Values\n",
    "\n",
    "**Classify compounds according to their standard values:**\n",
    "* \"Active\" if the IC50 value is less than or equal to 1000 nM (<= 1000 nM).\n",
    "* \"Inactive\" if the IC50 value is greater than or equal to 10000 nM (>= 10000 nM).\n",
    "* All other compounds are marked as \"Intermediate\".\n"
   ]
  },
  {
   "cell_type": "code",
   "execution_count": 17,
   "id": "9ff9b96d",
   "metadata": {},
   "outputs": [],
   "source": [
    "Activity_class=[]\n",
    "for i in clean_df['Standard Value']:\n",
    "    if (i <= 1000):\n",
    "        Activity_class.append('active')\n",
    "    elif (i>=10000):\n",
    "        Activity_class.append('inactive')\n",
    "    else:\n",
    "        Activity_class.append('intermediate')"
   ]
  },
  {
   "cell_type": "markdown",
   "id": "a998ef50",
   "metadata": {},
   "source": [
    "## Add Activity Class Column to DataFrame\n",
    "\n",
    "Introduce a new column, 'Activity_class', to the DataFrame to categorize compounds as \"Active,\" \"Inactive,\" or \"Intermediate\" based on their IC50 values."
   ]
  },
  {
   "cell_type": "code",
   "execution_count": 18,
   "id": "748661f6",
   "metadata": {},
   "outputs": [],
   "source": [
    "clean_df['Activity']= Activity_class"
   ]
  },
  {
   "cell_type": "code",
   "execution_count": 19,
   "id": "1aabb24d",
   "metadata": {},
   "outputs": [
    {
     "name": "stderr",
     "output_type": "stream",
     "text": [
      "/home/tawhid885/.local/lib/python3.10/site-packages/seaborn/_oldcore.py:1119: FutureWarning: use_inf_as_na option is deprecated and will be removed in a future version. Convert inf values to NaN before operating instead.\n",
      "  with pd.option_context('mode.use_inf_as_na', True):\n",
      "/home/tawhid885/.local/lib/python3.10/site-packages/seaborn/_oldcore.py:1075: FutureWarning: When grouping with a length-1 list-like, you will need to pass a length-1 tuple to get_group in a future version of pandas. Pass `(name,)` instead of `name` to silence this warning.\n",
      "  data_subset = grouped_data.get_group(pd_key)\n",
      "/home/tawhid885/.local/lib/python3.10/site-packages/seaborn/_oldcore.py:1075: FutureWarning: When grouping with a length-1 list-like, you will need to pass a length-1 tuple to get_group in a future version of pandas. Pass `(name,)` instead of `name` to silence this warning.\n",
      "  data_subset = grouped_data.get_group(pd_key)\n",
      "/home/tawhid885/.local/lib/python3.10/site-packages/seaborn/_oldcore.py:1075: FutureWarning: When grouping with a length-1 list-like, you will need to pass a length-1 tuple to get_group in a future version of pandas. Pass `(name,)` instead of `name` to silence this warning.\n",
      "  data_subset = grouped_data.get_group(pd_key)\n",
      "/home/tawhid885/.local/lib/python3.10/site-packages/seaborn/_oldcore.py:1075: FutureWarning: When grouping with a length-1 list-like, you will need to pass a length-1 tuple to get_group in a future version of pandas. Pass `(name,)` instead of `name` to silence this warning.\n",
      "  data_subset = grouped_data.get_group(pd_key)\n",
      "/home/tawhid885/.local/lib/python3.10/site-packages/seaborn/_oldcore.py:1075: FutureWarning: When grouping with a length-1 list-like, you will need to pass a length-1 tuple to get_group in a future version of pandas. Pass `(name,)` instead of `name` to silence this warning.\n",
      "  data_subset = grouped_data.get_group(pd_key)\n"
     ]
    },
    {
     "data": {
      "image/png": "[encoded data removed]",
      "text/plain": [
       "<Figure size 2400x1800 with 1 Axes>"
      ]
     },
     "metadata": {},
     "output_type": "display_data"
    }
   ],
   "source": [
    "sns.set(style=\"darkgrid\")\n",
    "\n",
    "#histogram\n",
    "plt.figure(figsize=(8, 6), dpi=300)\n",
    "\n",
    "unique_classes = clean_df['Activity'].unique()\n",
    "sns.histplot(data=clean_df, x='Activity', hue='Activity', bins=len(unique_classes), multiple='dodge', shrink=1, palette='viridis')\n",
    "\n",
    "# Add titles and labels\n",
    "plt.title('Distribution of Activity', fontsize=16, weight='bold')\n",
    "plt.xlabel('Activity', fontsize=14)\n",
    "plt.ylabel('Frequency', fontsize=14)\n",
    "\n",
    "# Adjust the ticks\n",
    "plt.xticks(fontsize=12)\n",
    "plt.yticks(fontsize=12)\n",
    "\n",
    "# Save image\n",
    "plt.savefig('activity_class.png', dpi = 300)\n",
    "\n",
    "# Show the plot\n",
    "plt.show()"
   ]
  },
  {
   "cell_type": "markdown",
   "id": "afc3ddf5",
   "metadata": {},
   "source": [
    "## Exclude Intermediate Activity Class and Encode Labels\n",
    "\n",
    "* Remove rows with the \"Intermediate\" activity class. \n",
    "* Encode 'Active' as 1 and 'Inactive' as 0 in the 'Activity' column for binary classification."
   ]
  },
  {
   "cell_type": "code",
   "execution_count": 20,
   "id": "1eb7d7d1",
   "metadata": {},
   "outputs": [
    {
     "data": {
      "text/plain": [
       "(2983, 7)"
      ]
     },
     "execution_count": 20,
     "metadata": {},
     "output_type": "execute_result"
    }
   ],
   "source": [
    "filtered_df = clean_df[clean_df['Activity'] != 'intermediate']\n",
    "filtered_df.shape"
   ]
  },
  {
   "cell_type": "code",
   "execution_count": 21,
   "id": "742ed1ac",
   "metadata": {},
   "outputs": [
    {
     "name": "stderr",
     "output_type": "stream",
     "text": [
      "/tmp/ipykernel_6271/1566645968.py:1: FutureWarning: Downcasting behavior in `replace` is deprecated and will be removed in a future version. To retain the old behavior, explicitly call `result.infer_objects(copy=False)`. To opt-in to the future behavior, set `pd.set_option('future.no_silent_downcasting', True)`\n",
      "  filtered_df['Activity'] = filtered_df['Activity'].replace({'active': 1, 'inactive': 0})\n",
      "/tmp/ipykernel_6271/1566645968.py:1: SettingWithCopyWarning: \n",
      "A value is trying to be set on a copy of a slice from a DataFrame.\n",
      "Try using .loc[row_indexer,col_indexer] = value instead\n",
      "\n",
      "See the caveats in the documentation: https://pandas.pydata.org/pandas-docs/stable/user_guide/indexing.html#returning-a-view-versus-a-copy\n",
      "  filtered_df['Activity'] = filtered_df['Activity'].replace({'active': 1, 'inactive': 0})\n"
     ]
    }
   ],
   "source": [
    "filtered_df['Activity'] = filtered_df['Activity'].replace({'active': 1, 'inactive': 0})"
   ]
  },
  {
   "cell_type": "code",
   "execution_count": 22,
   "id": "3edba909",
   "metadata": {
    "scrolled": true
   },
   "outputs": [
    {
     "data": {
      "text/html": [
       "<div>\n",
       "<style scoped>\n",
       "    .dataframe tbody tr th:only-of-type {\n",
       "        vertical-align: middle;\n",
       "    }\n",
       "\n",
       "    .dataframe tbody tr th {\n",
       "        vertical-align: top;\n",
       "    }\n",
       "\n",
       "    .dataframe thead th {\n",
       "        text-align: right;\n",
       "    }\n",
       "</style>\n",
       "<table border=\"1\" class=\"dataframe\">\n",
       "  <thead>\n",
       "    <tr style=\"text-align: right;\">\n",
       "      <th></th>\n",
       "      <th>Molecule ChEMBL ID</th>\n",
       "      <th>Smiles</th>\n",
       "      <th>Standard Type</th>\n",
       "      <th>Standard Relation</th>\n",
       "      <th>Standard Units</th>\n",
       "      <th>Standard Value</th>\n",
       "      <th>Activity</th>\n",
       "    </tr>\n",
       "  </thead>\n",
       "  <tbody>\n",
       "    <tr>\n",
       "      <th>2</th>\n",
       "      <td>CHEMBL416126</td>\n",
       "      <td>CS(=O)(=O)c1ccc(-c2cc(F)c(F)cc2-c2ccc3c(c2)OCO...</td>\n",
       "      <td>IC50</td>\n",
       "      <td>'='</td>\n",
       "      <td>nM</td>\n",
       "      <td>12.00</td>\n",
       "      <td>1</td>\n",
       "    </tr>\n",
       "    <tr>\n",
       "      <th>4</th>\n",
       "      <td>CHEMBL143776</td>\n",
       "      <td>Fc1ccc(-c2[nH]c(-c3ccc(F)cc3)c3c2C2CCC3C2)cc1</td>\n",
       "      <td>IC50</td>\n",
       "      <td>'='</td>\n",
       "      <td>nM</td>\n",
       "      <td>0.08</td>\n",
       "      <td>1</td>\n",
       "    </tr>\n",
       "    <tr>\n",
       "      <th>5</th>\n",
       "      <td>CHEMBL322276</td>\n",
       "      <td>CC1(C)OC(=O)C(Oc2ccc3[nH]ccc3c2)=C1c1ccc(S(C)(...</td>\n",
       "      <td>IC50</td>\n",
       "      <td>'='</td>\n",
       "      <td>nM</td>\n",
       "      <td>240.00</td>\n",
       "      <td>1</td>\n",
       "    </tr>\n",
       "    <tr>\n",
       "      <th>7</th>\n",
       "      <td>CHEMBL43864</td>\n",
       "      <td>Cc1ccc(-c2ccc(S(C)(=O)=O)cc2)n1C1CCCCC1</td>\n",
       "      <td>IC50</td>\n",
       "      <td>'='</td>\n",
       "      <td>nM</td>\n",
       "      <td>520.00</td>\n",
       "      <td>1</td>\n",
       "    </tr>\n",
       "    <tr>\n",
       "      <th>13</th>\n",
       "      <td>CHEMBL45090</td>\n",
       "      <td>CS(=O)(=O)c1ccc(-n2cc(C(F)(F)F)nc2-c2cc(Cl)cc(...</td>\n",
       "      <td>IC50</td>\n",
       "      <td>'='</td>\n",
       "      <td>nM</td>\n",
       "      <td>169.82</td>\n",
       "      <td>1</td>\n",
       "    </tr>\n",
       "  </tbody>\n",
       "</table>\n",
       "</div>"
      ],
      "text/plain": [
       "   Molecule ChEMBL ID                                             Smiles  \\\n",
       "2        CHEMBL416126  CS(=O)(=O)c1ccc(-c2cc(F)c(F)cc2-c2ccc3c(c2)OCO...   \n",
       "4        CHEMBL143776      Fc1ccc(-c2[nH]c(-c3ccc(F)cc3)c3c2C2CCC3C2)cc1   \n",
       "5        CHEMBL322276  CC1(C)OC(=O)C(Oc2ccc3[nH]ccc3c2)=C1c1ccc(S(C)(...   \n",
       "7         CHEMBL43864            Cc1ccc(-c2ccc(S(C)(=O)=O)cc2)n1C1CCCCC1   \n",
       "13        CHEMBL45090  CS(=O)(=O)c1ccc(-n2cc(C(F)(F)F)nc2-c2cc(Cl)cc(...   \n",
       "\n",
       "   Standard Type Standard Relation Standard Units  Standard Value  Activity  \n",
       "2           IC50               '='             nM           12.00         1  \n",
       "4           IC50               '='             nM            0.08         1  \n",
       "5           IC50               '='             nM          240.00         1  \n",
       "7           IC50               '='             nM          520.00         1  \n",
       "13          IC50               '='             nM          169.82         1  "
      ]
     },
     "execution_count": 22,
     "metadata": {},
     "output_type": "execute_result"
    }
   ],
   "source": [
    "filtered_df.head()"
   ]
  },
  {
   "cell_type": "code",
   "execution_count": 23,
   "id": "e3a31206",
   "metadata": {},
   "outputs": [
    {
     "data": {
      "text/plain": [
       "(2983, 7)"
      ]
     },
     "execution_count": 23,
     "metadata": {},
     "output_type": "execute_result"
    }
   ],
   "source": [
    "filtered_df.shape"
   ]
  },
  {
   "cell_type": "markdown",
   "id": "b36fd590",
   "metadata": {},
   "source": [
    "## Save DataFrame to File\n",
    "\n",
    "Save the updated DataFrame to a file for future use and analysis.\n"
   ]
  },
  {
   "cell_type": "code",
   "execution_count": 24,
   "id": "327c400c",
   "metadata": {},
   "outputs": [
    {
     "name": "stdout",
     "output_type": "stream",
     "text": [
      "Created successfully!\n"
     ]
    }
   ],
   "source": [
    "filtered_df.to_csv('standard_data_for_future_work.csv')\n",
    "print(\"Created successfully!\")"
   ]
  },
  {
   "cell_type": "markdown",
   "id": "afb74b59",
   "metadata": {},
   "source": [
    "## Generate SMILES Dataset for Molecular Fingerprint Calculation\n",
    "\n",
    "Create a dataset containing SMILES representations for the purpose of calculating molecular fingerprints.\n"
   ]
  },
  {
   "cell_type": "code",
   "execution_count": 25,
   "id": "bef10958",
   "metadata": {},
   "outputs": [
    {
     "data": {
      "text/html": [
       "<div>\n",
       "<style scoped>\n",
       "    .dataframe tbody tr th:only-of-type {\n",
       "        vertical-align: middle;\n",
       "    }\n",
       "\n",
       "    .dataframe tbody tr th {\n",
       "        vertical-align: top;\n",
       "    }\n",
       "\n",
       "    .dataframe thead th {\n",
       "        text-align: right;\n",
       "    }\n",
       "</style>\n",
       "<table border=\"1\" class=\"dataframe\">\n",
       "  <thead>\n",
       "    <tr style=\"text-align: right;\">\n",
       "      <th></th>\n",
       "      <th>Unnamed: 0</th>\n",
       "      <th>Molecule ChEMBL ID</th>\n",
       "      <th>Smiles</th>\n",
       "      <th>Standard Type</th>\n",
       "      <th>Standard Relation</th>\n",
       "      <th>Standard Units</th>\n",
       "      <th>Standard Value</th>\n",
       "      <th>Activity</th>\n",
       "    </tr>\n",
       "  </thead>\n",
       "  <tbody>\n",
       "    <tr>\n",
       "      <th>0</th>\n",
       "      <td>2</td>\n",
       "      <td>CHEMBL416126</td>\n",
       "      <td>CS(=O)(=O)c1ccc(-c2cc(F)c(F)cc2-c2ccc3c(c2)OCO...</td>\n",
       "      <td>IC50</td>\n",
       "      <td>'='</td>\n",
       "      <td>nM</td>\n",
       "      <td>12.00</td>\n",
       "      <td>1</td>\n",
       "    </tr>\n",
       "    <tr>\n",
       "      <th>1</th>\n",
       "      <td>4</td>\n",
       "      <td>CHEMBL143776</td>\n",
       "      <td>Fc1ccc(-c2[nH]c(-c3ccc(F)cc3)c3c2C2CCC3C2)cc1</td>\n",
       "      <td>IC50</td>\n",
       "      <td>'='</td>\n",
       "      <td>nM</td>\n",
       "      <td>0.08</td>\n",
       "      <td>1</td>\n",
       "    </tr>\n",
       "    <tr>\n",
       "      <th>2</th>\n",
       "      <td>5</td>\n",
       "      <td>CHEMBL322276</td>\n",
       "      <td>CC1(C)OC(=O)C(Oc2ccc3[nH]ccc3c2)=C1c1ccc(S(C)(...</td>\n",
       "      <td>IC50</td>\n",
       "      <td>'='</td>\n",
       "      <td>nM</td>\n",
       "      <td>240.00</td>\n",
       "      <td>1</td>\n",
       "    </tr>\n",
       "    <tr>\n",
       "      <th>3</th>\n",
       "      <td>7</td>\n",
       "      <td>CHEMBL43864</td>\n",
       "      <td>Cc1ccc(-c2ccc(S(C)(=O)=O)cc2)n1C1CCCCC1</td>\n",
       "      <td>IC50</td>\n",
       "      <td>'='</td>\n",
       "      <td>nM</td>\n",
       "      <td>520.00</td>\n",
       "      <td>1</td>\n",
       "    </tr>\n",
       "    <tr>\n",
       "      <th>4</th>\n",
       "      <td>13</td>\n",
       "      <td>CHEMBL45090</td>\n",
       "      <td>CS(=O)(=O)c1ccc(-n2cc(C(F)(F)F)nc2-c2cc(Cl)cc(...</td>\n",
       "      <td>IC50</td>\n",
       "      <td>'='</td>\n",
       "      <td>nM</td>\n",
       "      <td>169.82</td>\n",
       "      <td>1</td>\n",
       "    </tr>\n",
       "  </tbody>\n",
       "</table>\n",
       "</div>"
      ],
      "text/plain": [
       "   Unnamed: 0 Molecule ChEMBL ID  \\\n",
       "0           2       CHEMBL416126   \n",
       "1           4       CHEMBL143776   \n",
       "2           5       CHEMBL322276   \n",
       "3           7        CHEMBL43864   \n",
       "4          13        CHEMBL45090   \n",
       "\n",
       "                                              Smiles Standard Type  \\\n",
       "0  CS(=O)(=O)c1ccc(-c2cc(F)c(F)cc2-c2ccc3c(c2)OCO...          IC50   \n",
       "1      Fc1ccc(-c2[nH]c(-c3ccc(F)cc3)c3c2C2CCC3C2)cc1          IC50   \n",
       "2  CC1(C)OC(=O)C(Oc2ccc3[nH]ccc3c2)=C1c1ccc(S(C)(...          IC50   \n",
       "3            Cc1ccc(-c2ccc(S(C)(=O)=O)cc2)n1C1CCCCC1          IC50   \n",
       "4  CS(=O)(=O)c1ccc(-n2cc(C(F)(F)F)nc2-c2cc(Cl)cc(...          IC50   \n",
       "\n",
       "  Standard Relation Standard Units  Standard Value  Activity  \n",
       "0               '='             nM           12.00         1  \n",
       "1               '='             nM            0.08         1  \n",
       "2               '='             nM          240.00         1  \n",
       "3               '='             nM          520.00         1  \n",
       "4               '='             nM          169.82         1  "
      ]
     },
     "execution_count": 25,
     "metadata": {},
     "output_type": "execute_result"
    }
   ],
   "source": [
    "smiles_df = pd.read_csv(\"standard_data_for_future_work.csv\")\n",
    "smiles_df.head()"
   ]
  },
  {
   "cell_type": "code",
   "execution_count": 26,
   "id": "b17b06d5",
   "metadata": {},
   "outputs": [
    {
     "data": {
      "text/plain": [
       "(2983, 8)"
      ]
     },
     "execution_count": 26,
     "metadata": {},
     "output_type": "execute_result"
    }
   ],
   "source": [
    "smiles_df.shape"
   ]
  },
  {
   "cell_type": "code",
   "execution_count": 27,
   "id": "58ecc208",
   "metadata": {},
   "outputs": [],
   "source": [
    "#Generate Extended-Connectivity Fingerprints (ECFP) for a list of SMILES.\n",
    "def generate_ecfp4(smiles_list):\n",
    "    fingerprints =[]\n",
    "    for smiles in smiles_list:\n",
    "        mol = Chem.MolFromSmiles(smiles)\n",
    "        fp = AllChem.GetMorganFingerprintAsBitVect(mol, 2)\n",
    "        fp_array = np.zeros((1,))\n",
    "        DataStructs.ConvertToNumpyArray(fp, fp_array)\n",
    "        fingerprints.append(fp)\n",
    "    return np.array(fingerprints)"
   ]
  },
  {
   "cell_type": "code",
   "execution_count": 28,
   "id": "0cec066a",
   "metadata": {},
   "outputs": [],
   "source": [
    "smiles_data=[]\n",
    "for i in smiles_df['Smiles']:\n",
    "    smiles_data.append(i)"
   ]
  },
  {
   "cell_type": "code",
   "execution_count": 29,
   "id": "d5ee0e9b",
   "metadata": {},
   "outputs": [
    {
     "data": {
      "text/plain": [
       "2983"
      ]
     },
     "execution_count": 29,
     "metadata": {},
     "output_type": "execute_result"
    }
   ],
   "source": [
    "ecfp4_fingerprints = generate_ecfp4(smiles_data)\n",
    "len(ecfp4_fingerprints)"
   ]
  },
  {
   "cell_type": "code",
   "execution_count": 30,
   "id": "5796a53f",
   "metadata": {},
   "outputs": [
    {
     "data": {
      "text/html": [
       "<div>\n",
       "<style scoped>\n",
       "    .dataframe tbody tr th:only-of-type {\n",
       "        vertical-align: middle;\n",
       "    }\n",
       "\n",
       "    .dataframe tbody tr th {\n",
       "        vertical-align: top;\n",
       "    }\n",
       "\n",
       "    .dataframe thead th {\n",
       "        text-align: right;\n",
       "    }\n",
       "</style>\n",
       "<table border=\"1\" class=\"dataframe\">\n",
       "  <thead>\n",
       "    <tr style=\"text-align: right;\">\n",
       "      <th></th>\n",
       "      <th>0</th>\n",
       "      <th>1</th>\n",
       "      <th>2</th>\n",
       "      <th>3</th>\n",
       "      <th>4</th>\n",
       "      <th>5</th>\n",
       "      <th>6</th>\n",
       "      <th>7</th>\n",
       "      <th>8</th>\n",
       "      <th>9</th>\n",
       "      <th>...</th>\n",
       "      <th>2038</th>\n",
       "      <th>2039</th>\n",
       "      <th>2040</th>\n",
       "      <th>2041</th>\n",
       "      <th>2042</th>\n",
       "      <th>2043</th>\n",
       "      <th>2044</th>\n",
       "      <th>2045</th>\n",
       "      <th>2046</th>\n",
       "      <th>2047</th>\n",
       "    </tr>\n",
       "  </thead>\n",
       "  <tbody>\n",
       "    <tr>\n",
       "      <th>0</th>\n",
       "      <td>0</td>\n",
       "      <td>0</td>\n",
       "      <td>0</td>\n",
       "      <td>0</td>\n",
       "      <td>0</td>\n",
       "      <td>0</td>\n",
       "      <td>0</td>\n",
       "      <td>0</td>\n",
       "      <td>0</td>\n",
       "      <td>0</td>\n",
       "      <td>...</td>\n",
       "      <td>0</td>\n",
       "      <td>0</td>\n",
       "      <td>0</td>\n",
       "      <td>0</td>\n",
       "      <td>0</td>\n",
       "      <td>0</td>\n",
       "      <td>0</td>\n",
       "      <td>0</td>\n",
       "      <td>0</td>\n",
       "      <td>0</td>\n",
       "    </tr>\n",
       "    <tr>\n",
       "      <th>1</th>\n",
       "      <td>0</td>\n",
       "      <td>0</td>\n",
       "      <td>0</td>\n",
       "      <td>0</td>\n",
       "      <td>0</td>\n",
       "      <td>0</td>\n",
       "      <td>0</td>\n",
       "      <td>0</td>\n",
       "      <td>0</td>\n",
       "      <td>0</td>\n",
       "      <td>...</td>\n",
       "      <td>0</td>\n",
       "      <td>0</td>\n",
       "      <td>0</td>\n",
       "      <td>0</td>\n",
       "      <td>0</td>\n",
       "      <td>0</td>\n",
       "      <td>0</td>\n",
       "      <td>0</td>\n",
       "      <td>0</td>\n",
       "      <td>0</td>\n",
       "    </tr>\n",
       "    <tr>\n",
       "      <th>2</th>\n",
       "      <td>0</td>\n",
       "      <td>0</td>\n",
       "      <td>0</td>\n",
       "      <td>0</td>\n",
       "      <td>0</td>\n",
       "      <td>0</td>\n",
       "      <td>0</td>\n",
       "      <td>0</td>\n",
       "      <td>0</td>\n",
       "      <td>0</td>\n",
       "      <td>...</td>\n",
       "      <td>0</td>\n",
       "      <td>0</td>\n",
       "      <td>0</td>\n",
       "      <td>0</td>\n",
       "      <td>0</td>\n",
       "      <td>0</td>\n",
       "      <td>0</td>\n",
       "      <td>0</td>\n",
       "      <td>0</td>\n",
       "      <td>0</td>\n",
       "    </tr>\n",
       "    <tr>\n",
       "      <th>3</th>\n",
       "      <td>0</td>\n",
       "      <td>0</td>\n",
       "      <td>1</td>\n",
       "      <td>0</td>\n",
       "      <td>0</td>\n",
       "      <td>0</td>\n",
       "      <td>0</td>\n",
       "      <td>0</td>\n",
       "      <td>0</td>\n",
       "      <td>0</td>\n",
       "      <td>...</td>\n",
       "      <td>0</td>\n",
       "      <td>0</td>\n",
       "      <td>0</td>\n",
       "      <td>0</td>\n",
       "      <td>0</td>\n",
       "      <td>0</td>\n",
       "      <td>0</td>\n",
       "      <td>0</td>\n",
       "      <td>1</td>\n",
       "      <td>0</td>\n",
       "    </tr>\n",
       "    <tr>\n",
       "      <th>4</th>\n",
       "      <td>0</td>\n",
       "      <td>0</td>\n",
       "      <td>0</td>\n",
       "      <td>0</td>\n",
       "      <td>0</td>\n",
       "      <td>0</td>\n",
       "      <td>0</td>\n",
       "      <td>0</td>\n",
       "      <td>0</td>\n",
       "      <td>0</td>\n",
       "      <td>...</td>\n",
       "      <td>0</td>\n",
       "      <td>0</td>\n",
       "      <td>0</td>\n",
       "      <td>0</td>\n",
       "      <td>0</td>\n",
       "      <td>0</td>\n",
       "      <td>0</td>\n",
       "      <td>0</td>\n",
       "      <td>0</td>\n",
       "      <td>0</td>\n",
       "    </tr>\n",
       "  </tbody>\n",
       "</table>\n",
       "<p>5 rows × 2048 columns</p>\n",
       "</div>"
      ],
      "text/plain": [
       "   0     1     2     3     4     5     6     7     8     9     ...  2038  \\\n",
       "0     0     0     0     0     0     0     0     0     0     0  ...     0   \n",
       "1     0     0     0     0     0     0     0     0     0     0  ...     0   \n",
       "2     0     0     0     0     0     0     0     0     0     0  ...     0   \n",
       "3     0     0     1     0     0     0     0     0     0     0  ...     0   \n",
       "4     0     0     0     0     0     0     0     0     0     0  ...     0   \n",
       "\n",
       "   2039  2040  2041  2042  2043  2044  2045  2046  2047  \n",
       "0     0     0     0     0     0     0     0     0     0  \n",
       "1     0     0     0     0     0     0     0     0     0  \n",
       "2     0     0     0     0     0     0     0     0     0  \n",
       "3     0     0     0     0     0     0     0     1     0  \n",
       "4     0     0     0     0     0     0     0     0     0  \n",
       "\n",
       "[5 rows x 2048 columns]"
      ]
     },
     "execution_count": 30,
     "metadata": {},
     "output_type": "execute_result"
    }
   ],
   "source": [
    "fingerprint_df = pd.DataFrame(ecfp4_fingerprints)\n",
    "fingerprint_df.head()"
   ]
  },
  {
   "cell_type": "code",
   "execution_count": 31,
   "id": "0d54ea5b",
   "metadata": {},
   "outputs": [
    {
     "data": {
      "text/plain": [
       "(2983, 2048)"
      ]
     },
     "execution_count": 31,
     "metadata": {},
     "output_type": "execute_result"
    }
   ],
   "source": [
    "fingerprint_df.shape"
   ]
  },
  {
   "cell_type": "code",
   "execution_count": 32,
   "id": "cd5dcd14",
   "metadata": {},
   "outputs": [],
   "source": [
    "fingerprint_df[\"Name\"] = smiles_df[\"Molecule ChEMBL ID\"].to_list()"
   ]
  },
  {
   "cell_type": "code",
   "execution_count": 33,
   "id": "762ba00b",
   "metadata": {},
   "outputs": [
    {
     "data": {
      "text/html": [
       "<div>\n",
       "<style scoped>\n",
       "    .dataframe tbody tr th:only-of-type {\n",
       "        vertical-align: middle;\n",
       "    }\n",
       "\n",
       "    .dataframe tbody tr th {\n",
       "        vertical-align: top;\n",
       "    }\n",
       "\n",
       "    .dataframe thead th {\n",
       "        text-align: right;\n",
       "    }\n",
       "</style>\n",
       "<table border=\"1\" class=\"dataframe\">\n",
       "  <thead>\n",
       "    <tr style=\"text-align: right;\">\n",
       "      <th></th>\n",
       "      <th>0</th>\n",
       "      <th>1</th>\n",
       "      <th>2</th>\n",
       "      <th>3</th>\n",
       "      <th>4</th>\n",
       "      <th>5</th>\n",
       "      <th>6</th>\n",
       "      <th>7</th>\n",
       "      <th>8</th>\n",
       "      <th>9</th>\n",
       "      <th>...</th>\n",
       "      <th>2039</th>\n",
       "      <th>2040</th>\n",
       "      <th>2041</th>\n",
       "      <th>2042</th>\n",
       "      <th>2043</th>\n",
       "      <th>2044</th>\n",
       "      <th>2045</th>\n",
       "      <th>2046</th>\n",
       "      <th>2047</th>\n",
       "      <th>Name</th>\n",
       "    </tr>\n",
       "  </thead>\n",
       "  <tbody>\n",
       "    <tr>\n",
       "      <th>0</th>\n",
       "      <td>0</td>\n",
       "      <td>0</td>\n",
       "      <td>0</td>\n",
       "      <td>0</td>\n",
       "      <td>0</td>\n",
       "      <td>0</td>\n",
       "      <td>0</td>\n",
       "      <td>0</td>\n",
       "      <td>0</td>\n",
       "      <td>0</td>\n",
       "      <td>...</td>\n",
       "      <td>0</td>\n",
       "      <td>0</td>\n",
       "      <td>0</td>\n",
       "      <td>0</td>\n",
       "      <td>0</td>\n",
       "      <td>0</td>\n",
       "      <td>0</td>\n",
       "      <td>0</td>\n",
       "      <td>0</td>\n",
       "      <td>CHEMBL416126</td>\n",
       "    </tr>\n",
       "    <tr>\n",
       "      <th>1</th>\n",
       "      <td>0</td>\n",
       "      <td>0</td>\n",
       "      <td>0</td>\n",
       "      <td>0</td>\n",
       "      <td>0</td>\n",
       "      <td>0</td>\n",
       "      <td>0</td>\n",
       "      <td>0</td>\n",
       "      <td>0</td>\n",
       "      <td>0</td>\n",
       "      <td>...</td>\n",
       "      <td>0</td>\n",
       "      <td>0</td>\n",
       "      <td>0</td>\n",
       "      <td>0</td>\n",
       "      <td>0</td>\n",
       "      <td>0</td>\n",
       "      <td>0</td>\n",
       "      <td>0</td>\n",
       "      <td>0</td>\n",
       "      <td>CHEMBL143776</td>\n",
       "    </tr>\n",
       "    <tr>\n",
       "      <th>2</th>\n",
       "      <td>0</td>\n",
       "      <td>0</td>\n",
       "      <td>0</td>\n",
       "      <td>0</td>\n",
       "      <td>0</td>\n",
       "      <td>0</td>\n",
       "      <td>0</td>\n",
       "      <td>0</td>\n",
       "      <td>0</td>\n",
       "      <td>0</td>\n",
       "      <td>...</td>\n",
       "      <td>0</td>\n",
       "      <td>0</td>\n",
       "      <td>0</td>\n",
       "      <td>0</td>\n",
       "      <td>0</td>\n",
       "      <td>0</td>\n",
       "      <td>0</td>\n",
       "      <td>0</td>\n",
       "      <td>0</td>\n",
       "      <td>CHEMBL322276</td>\n",
       "    </tr>\n",
       "    <tr>\n",
       "      <th>3</th>\n",
       "      <td>0</td>\n",
       "      <td>0</td>\n",
       "      <td>1</td>\n",
       "      <td>0</td>\n",
       "      <td>0</td>\n",
       "      <td>0</td>\n",
       "      <td>0</td>\n",
       "      <td>0</td>\n",
       "      <td>0</td>\n",
       "      <td>0</td>\n",
       "      <td>...</td>\n",
       "      <td>0</td>\n",
       "      <td>0</td>\n",
       "      <td>0</td>\n",
       "      <td>0</td>\n",
       "      <td>0</td>\n",
       "      <td>0</td>\n",
       "      <td>0</td>\n",
       "      <td>1</td>\n",
       "      <td>0</td>\n",
       "      <td>CHEMBL43864</td>\n",
       "    </tr>\n",
       "    <tr>\n",
       "      <th>4</th>\n",
       "      <td>0</td>\n",
       "      <td>0</td>\n",
       "      <td>0</td>\n",
       "      <td>0</td>\n",
       "      <td>0</td>\n",
       "      <td>0</td>\n",
       "      <td>0</td>\n",
       "      <td>0</td>\n",
       "      <td>0</td>\n",
       "      <td>0</td>\n",
       "      <td>...</td>\n",
       "      <td>0</td>\n",
       "      <td>0</td>\n",
       "      <td>0</td>\n",
       "      <td>0</td>\n",
       "      <td>0</td>\n",
       "      <td>0</td>\n",
       "      <td>0</td>\n",
       "      <td>0</td>\n",
       "      <td>0</td>\n",
       "      <td>CHEMBL45090</td>\n",
       "    </tr>\n",
       "  </tbody>\n",
       "</table>\n",
       "<p>5 rows × 2049 columns</p>\n",
       "</div>"
      ],
      "text/plain": [
       "   0  1  2  3  4  5  6  7  8  9  ...  2039  2040  2041  2042  2043  2044  \\\n",
       "0  0  0  0  0  0  0  0  0  0  0  ...     0     0     0     0     0     0   \n",
       "1  0  0  0  0  0  0  0  0  0  0  ...     0     0     0     0     0     0   \n",
       "2  0  0  0  0  0  0  0  0  0  0  ...     0     0     0     0     0     0   \n",
       "3  0  0  1  0  0  0  0  0  0  0  ...     0     0     0     0     0     0   \n",
       "4  0  0  0  0  0  0  0  0  0  0  ...     0     0     0     0     0     0   \n",
       "\n",
       "   2045  2046  2047          Name  \n",
       "0     0     0     0  CHEMBL416126  \n",
       "1     0     0     0  CHEMBL143776  \n",
       "2     0     0     0  CHEMBL322276  \n",
       "3     0     1     0   CHEMBL43864  \n",
       "4     0     0     0   CHEMBL45090  \n",
       "\n",
       "[5 rows x 2049 columns]"
      ]
     },
     "execution_count": 33,
     "metadata": {},
     "output_type": "execute_result"
    }
   ],
   "source": [
    "fingerprint_df.head()"
   ]
  },
  {
   "cell_type": "code",
   "execution_count": 34,
   "id": "68c7f22b",
   "metadata": {},
   "outputs": [
    {
     "data": {
      "text/plain": [
       "(2983, 2049)"
      ]
     },
     "execution_count": 34,
     "metadata": {},
     "output_type": "execute_result"
    }
   ],
   "source": [
    "fingerprint_df.shape"
   ]
  },
  {
   "cell_type": "code",
   "execution_count": 35,
   "id": "d73e514c",
   "metadata": {},
   "outputs": [
    {
     "name": "stdout",
     "output_type": "stream",
     "text": [
      "Created successfully!\n"
     ]
    }
   ],
   "source": [
    "fingerprint_df.to_csv('fingerprint.csv')\n",
    "print(\"Created successfully!\")"
   ]
  },
  {
   "cell_type": "markdown",
   "id": "7947d66f",
   "metadata": {},
   "source": [
    "## Prepare Classification Dataset\n",
    "\n",
    "Create a separate dataset containing the \"Molecule ChEMBL ID\" and \"Activity\" columns for the next steps,\n",
    "along with additional files for molecular fingerprint calculations.\n"
   ]
  },
  {
   "cell_type": "code",
   "execution_count": 36,
   "id": "44bae672",
   "metadata": {},
   "outputs": [],
   "source": [
    "data_for_classification = pd.read_csv('standard_data_for_future_work.csv')"
   ]
  },
  {
   "cell_type": "code",
   "execution_count": 37,
   "id": "b20d3b02",
   "metadata": {},
   "outputs": [],
   "source": [
    "data_for_classification= data_for_classification[['Molecule ChEMBL ID', 'Activity']]"
   ]
  },
  {
   "cell_type": "code",
   "execution_count": 38,
   "id": "5fc62331",
   "metadata": {},
   "outputs": [
    {
     "data": {
      "text/html": [
       "<div>\n",
       "<style scoped>\n",
       "    .dataframe tbody tr th:only-of-type {\n",
       "        vertical-align: middle;\n",
       "    }\n",
       "\n",
       "    .dataframe tbody tr th {\n",
       "        vertical-align: top;\n",
       "    }\n",
       "\n",
       "    .dataframe thead th {\n",
       "        text-align: right;\n",
       "    }\n",
       "</style>\n",
       "<table border=\"1\" class=\"dataframe\">\n",
       "  <thead>\n",
       "    <tr style=\"text-align: right;\">\n",
       "      <th></th>\n",
       "      <th>Molecule ChEMBL ID</th>\n",
       "      <th>Activity</th>\n",
       "    </tr>\n",
       "  </thead>\n",
       "  <tbody>\n",
       "    <tr>\n",
       "      <th>0</th>\n",
       "      <td>CHEMBL416126</td>\n",
       "      <td>1</td>\n",
       "    </tr>\n",
       "    <tr>\n",
       "      <th>1</th>\n",
       "      <td>CHEMBL143776</td>\n",
       "      <td>1</td>\n",
       "    </tr>\n",
       "    <tr>\n",
       "      <th>2</th>\n",
       "      <td>CHEMBL322276</td>\n",
       "      <td>1</td>\n",
       "    </tr>\n",
       "    <tr>\n",
       "      <th>3</th>\n",
       "      <td>CHEMBL43864</td>\n",
       "      <td>1</td>\n",
       "    </tr>\n",
       "    <tr>\n",
       "      <th>4</th>\n",
       "      <td>CHEMBL45090</td>\n",
       "      <td>1</td>\n",
       "    </tr>\n",
       "  </tbody>\n",
       "</table>\n",
       "</div>"
      ],
      "text/plain": [
       "  Molecule ChEMBL ID  Activity\n",
       "0       CHEMBL416126         1\n",
       "1       CHEMBL143776         1\n",
       "2       CHEMBL322276         1\n",
       "3        CHEMBL43864         1\n",
       "4        CHEMBL45090         1"
      ]
     },
     "execution_count": 38,
     "metadata": {},
     "output_type": "execute_result"
    }
   ],
   "source": [
    "data_for_classification.head()"
   ]
  },
  {
   "cell_type": "code",
   "execution_count": 39,
   "id": "5fe3dea6",
   "metadata": {},
   "outputs": [
    {
     "data": {
      "text/plain": [
       "(2983, 2)"
      ]
     },
     "execution_count": 39,
     "metadata": {},
     "output_type": "execute_result"
    }
   ],
   "source": [
    "data_for_classification.shape"
   ]
  },
  {
   "cell_type": "code",
   "execution_count": 40,
   "id": "e8fe2e4d",
   "metadata": {},
   "outputs": [
    {
     "name": "stdout",
     "output_type": "stream",
     "text": [
      "Created successfully!\n"
     ]
    }
   ],
   "source": [
    "data_for_classification.to_csv('data_for_classification.csv')\n",
    "print(\"Created successfully!\")"
   ]
  },
  {
   "cell_type": "markdown",
   "id": "01cc963f",
   "metadata": {},
   "source": [
    "## Dataset After Molecular Fingerprint Calculation\n",
    "\n",
    "This section presents the dataset that results from the molecular fingerprint calculations.\n"
   ]
  },
  {
   "cell_type": "code",
   "execution_count": 41,
   "id": "eb71a28a",
   "metadata": {},
   "outputs": [],
   "source": [
    "fingerprint_df= pd.read_csv('fingerprint.csv')"
   ]
  },
  {
   "cell_type": "code",
   "execution_count": 42,
   "id": "9cc65f62",
   "metadata": {},
   "outputs": [
    {
     "data": {
      "text/plain": [
       "(2983, 2050)"
      ]
     },
     "execution_count": 42,
     "metadata": {},
     "output_type": "execute_result"
    }
   ],
   "source": [
    "fingerprint_df.shape"
   ]
  },
  {
   "cell_type": "code",
   "execution_count": 43,
   "id": "7ff679a5",
   "metadata": {
    "scrolled": true
   },
   "outputs": [
    {
     "data": {
      "text/html": [
       "<div>\n",
       "<style scoped>\n",
       "    .dataframe tbody tr th:only-of-type {\n",
       "        vertical-align: middle;\n",
       "    }\n",
       "\n",
       "    .dataframe tbody tr th {\n",
       "        vertical-align: top;\n",
       "    }\n",
       "\n",
       "    .dataframe thead th {\n",
       "        text-align: right;\n",
       "    }\n",
       "</style>\n",
       "<table border=\"1\" class=\"dataframe\">\n",
       "  <thead>\n",
       "    <tr style=\"text-align: right;\">\n",
       "      <th></th>\n",
       "      <th>Unnamed: 0</th>\n",
       "      <th>0</th>\n",
       "      <th>1</th>\n",
       "      <th>2</th>\n",
       "      <th>3</th>\n",
       "      <th>4</th>\n",
       "      <th>5</th>\n",
       "      <th>6</th>\n",
       "      <th>7</th>\n",
       "      <th>8</th>\n",
       "      <th>...</th>\n",
       "      <th>2039</th>\n",
       "      <th>2040</th>\n",
       "      <th>2041</th>\n",
       "      <th>2042</th>\n",
       "      <th>2043</th>\n",
       "      <th>2044</th>\n",
       "      <th>2045</th>\n",
       "      <th>2046</th>\n",
       "      <th>2047</th>\n",
       "      <th>Name</th>\n",
       "    </tr>\n",
       "  </thead>\n",
       "  <tbody>\n",
       "    <tr>\n",
       "      <th>0</th>\n",
       "      <td>0</td>\n",
       "      <td>0</td>\n",
       "      <td>0</td>\n",
       "      <td>0</td>\n",
       "      <td>0</td>\n",
       "      <td>0</td>\n",
       "      <td>0</td>\n",
       "      <td>0</td>\n",
       "      <td>0</td>\n",
       "      <td>0</td>\n",
       "      <td>...</td>\n",
       "      <td>0</td>\n",
       "      <td>0</td>\n",
       "      <td>0</td>\n",
       "      <td>0</td>\n",
       "      <td>0</td>\n",
       "      <td>0</td>\n",
       "      <td>0</td>\n",
       "      <td>0</td>\n",
       "      <td>0</td>\n",
       "      <td>CHEMBL416126</td>\n",
       "    </tr>\n",
       "    <tr>\n",
       "      <th>1</th>\n",
       "      <td>1</td>\n",
       "      <td>0</td>\n",
       "      <td>0</td>\n",
       "      <td>0</td>\n",
       "      <td>0</td>\n",
       "      <td>0</td>\n",
       "      <td>0</td>\n",
       "      <td>0</td>\n",
       "      <td>0</td>\n",
       "      <td>0</td>\n",
       "      <td>...</td>\n",
       "      <td>0</td>\n",
       "      <td>0</td>\n",
       "      <td>0</td>\n",
       "      <td>0</td>\n",
       "      <td>0</td>\n",
       "      <td>0</td>\n",
       "      <td>0</td>\n",
       "      <td>0</td>\n",
       "      <td>0</td>\n",
       "      <td>CHEMBL143776</td>\n",
       "    </tr>\n",
       "    <tr>\n",
       "      <th>2</th>\n",
       "      <td>2</td>\n",
       "      <td>0</td>\n",
       "      <td>0</td>\n",
       "      <td>0</td>\n",
       "      <td>0</td>\n",
       "      <td>0</td>\n",
       "      <td>0</td>\n",
       "      <td>0</td>\n",
       "      <td>0</td>\n",
       "      <td>0</td>\n",
       "      <td>...</td>\n",
       "      <td>0</td>\n",
       "      <td>0</td>\n",
       "      <td>0</td>\n",
       "      <td>0</td>\n",
       "      <td>0</td>\n",
       "      <td>0</td>\n",
       "      <td>0</td>\n",
       "      <td>0</td>\n",
       "      <td>0</td>\n",
       "      <td>CHEMBL322276</td>\n",
       "    </tr>\n",
       "    <tr>\n",
       "      <th>3</th>\n",
       "      <td>3</td>\n",
       "      <td>0</td>\n",
       "      <td>0</td>\n",
       "      <td>1</td>\n",
       "      <td>0</td>\n",
       "      <td>0</td>\n",
       "      <td>0</td>\n",
       "      <td>0</td>\n",
       "      <td>0</td>\n",
       "      <td>0</td>\n",
       "      <td>...</td>\n",
       "      <td>0</td>\n",
       "      <td>0</td>\n",
       "      <td>0</td>\n",
       "      <td>0</td>\n",
       "      <td>0</td>\n",
       "      <td>0</td>\n",
       "      <td>0</td>\n",
       "      <td>1</td>\n",
       "      <td>0</td>\n",
       "      <td>CHEMBL43864</td>\n",
       "    </tr>\n",
       "    <tr>\n",
       "      <th>4</th>\n",
       "      <td>4</td>\n",
       "      <td>0</td>\n",
       "      <td>0</td>\n",
       "      <td>0</td>\n",
       "      <td>0</td>\n",
       "      <td>0</td>\n",
       "      <td>0</td>\n",
       "      <td>0</td>\n",
       "      <td>0</td>\n",
       "      <td>0</td>\n",
       "      <td>...</td>\n",
       "      <td>0</td>\n",
       "      <td>0</td>\n",
       "      <td>0</td>\n",
       "      <td>0</td>\n",
       "      <td>0</td>\n",
       "      <td>0</td>\n",
       "      <td>0</td>\n",
       "      <td>0</td>\n",
       "      <td>0</td>\n",
       "      <td>CHEMBL45090</td>\n",
       "    </tr>\n",
       "  </tbody>\n",
       "</table>\n",
       "<p>5 rows × 2050 columns</p>\n",
       "</div>"
      ],
      "text/plain": [
       "   Unnamed: 0  0  1  2  3  4  5  6  7  8  ...  2039  2040  2041  2042  2043  \\\n",
       "0           0  0  0  0  0  0  0  0  0  0  ...     0     0     0     0     0   \n",
       "1           1  0  0  0  0  0  0  0  0  0  ...     0     0     0     0     0   \n",
       "2           2  0  0  0  0  0  0  0  0  0  ...     0     0     0     0     0   \n",
       "3           3  0  0  1  0  0  0  0  0  0  ...     0     0     0     0     0   \n",
       "4           4  0  0  0  0  0  0  0  0  0  ...     0     0     0     0     0   \n",
       "\n",
       "   2044  2045  2046  2047          Name  \n",
       "0     0     0     0     0  CHEMBL416126  \n",
       "1     0     0     0     0  CHEMBL143776  \n",
       "2     0     0     0     0  CHEMBL322276  \n",
       "3     0     0     1     0   CHEMBL43864  \n",
       "4     0     0     0     0   CHEMBL45090  \n",
       "\n",
       "[5 rows x 2050 columns]"
      ]
     },
     "execution_count": 43,
     "metadata": {},
     "output_type": "execute_result"
    }
   ],
   "source": [
    "fingerprint_df.head()"
   ]
  },
  {
   "cell_type": "markdown",
   "id": "b036ca77",
   "metadata": {},
   "source": [
    "## Add \"Activity\" Column to Fingerprint Dataset\n",
    "\n",
    " Include the \"Activity\" column in the fingerprint dataset to correlate molecular fingerprints with their corresponding bioactivity classifications.\n"
   ]
  },
  {
   "cell_type": "code",
   "execution_count": 44,
   "id": "2e580a97",
   "metadata": {},
   "outputs": [],
   "source": [
    "classification_prep_data = fingerprint_df.copy()"
   ]
  },
  {
   "cell_type": "code",
   "execution_count": 45,
   "id": "ae55ecdf",
   "metadata": {},
   "outputs": [],
   "source": [
    "activity = []\n",
    "for i in data_for_classification['Activity']:\n",
    "    activity.append(i)"
   ]
  },
  {
   "cell_type": "code",
   "execution_count": 46,
   "id": "00aeebb9",
   "metadata": {},
   "outputs": [],
   "source": [
    "classification_prep_data['Activity'] = activity"
   ]
  },
  {
   "cell_type": "code",
   "execution_count": 47,
   "id": "a98f4f82",
   "metadata": {},
   "outputs": [
    {
     "data": {
      "text/html": [
       "<div>\n",
       "<style scoped>\n",
       "    .dataframe tbody tr th:only-of-type {\n",
       "        vertical-align: middle;\n",
       "    }\n",
       "\n",
       "    .dataframe tbody tr th {\n",
       "        vertical-align: top;\n",
       "    }\n",
       "\n",
       "    .dataframe thead th {\n",
       "        text-align: right;\n",
       "    }\n",
       "</style>\n",
       "<table border=\"1\" class=\"dataframe\">\n",
       "  <thead>\n",
       "    <tr style=\"text-align: right;\">\n",
       "      <th></th>\n",
       "      <th>Unnamed: 0</th>\n",
       "      <th>0</th>\n",
       "      <th>1</th>\n",
       "      <th>2</th>\n",
       "      <th>3</th>\n",
       "      <th>4</th>\n",
       "      <th>5</th>\n",
       "      <th>6</th>\n",
       "      <th>7</th>\n",
       "      <th>8</th>\n",
       "      <th>...</th>\n",
       "      <th>2040</th>\n",
       "      <th>2041</th>\n",
       "      <th>2042</th>\n",
       "      <th>2043</th>\n",
       "      <th>2044</th>\n",
       "      <th>2045</th>\n",
       "      <th>2046</th>\n",
       "      <th>2047</th>\n",
       "      <th>Name</th>\n",
       "      <th>Activity</th>\n",
       "    </tr>\n",
       "  </thead>\n",
       "  <tbody>\n",
       "    <tr>\n",
       "      <th>0</th>\n",
       "      <td>0</td>\n",
       "      <td>0</td>\n",
       "      <td>0</td>\n",
       "      <td>0</td>\n",
       "      <td>0</td>\n",
       "      <td>0</td>\n",
       "      <td>0</td>\n",
       "      <td>0</td>\n",
       "      <td>0</td>\n",
       "      <td>0</td>\n",
       "      <td>...</td>\n",
       "      <td>0</td>\n",
       "      <td>0</td>\n",
       "      <td>0</td>\n",
       "      <td>0</td>\n",
       "      <td>0</td>\n",
       "      <td>0</td>\n",
       "      <td>0</td>\n",
       "      <td>0</td>\n",
       "      <td>CHEMBL416126</td>\n",
       "      <td>1</td>\n",
       "    </tr>\n",
       "    <tr>\n",
       "      <th>1</th>\n",
       "      <td>1</td>\n",
       "      <td>0</td>\n",
       "      <td>0</td>\n",
       "      <td>0</td>\n",
       "      <td>0</td>\n",
       "      <td>0</td>\n",
       "      <td>0</td>\n",
       "      <td>0</td>\n",
       "      <td>0</td>\n",
       "      <td>0</td>\n",
       "      <td>...</td>\n",
       "      <td>0</td>\n",
       "      <td>0</td>\n",
       "      <td>0</td>\n",
       "      <td>0</td>\n",
       "      <td>0</td>\n",
       "      <td>0</td>\n",
       "      <td>0</td>\n",
       "      <td>0</td>\n",
       "      <td>CHEMBL143776</td>\n",
       "      <td>1</td>\n",
       "    </tr>\n",
       "    <tr>\n",
       "      <th>2</th>\n",
       "      <td>2</td>\n",
       "      <td>0</td>\n",
       "      <td>0</td>\n",
       "      <td>0</td>\n",
       "      <td>0</td>\n",
       "      <td>0</td>\n",
       "      <td>0</td>\n",
       "      <td>0</td>\n",
       "      <td>0</td>\n",
       "      <td>0</td>\n",
       "      <td>...</td>\n",
       "      <td>0</td>\n",
       "      <td>0</td>\n",
       "      <td>0</td>\n",
       "      <td>0</td>\n",
       "      <td>0</td>\n",
       "      <td>0</td>\n",
       "      <td>0</td>\n",
       "      <td>0</td>\n",
       "      <td>CHEMBL322276</td>\n",
       "      <td>1</td>\n",
       "    </tr>\n",
       "    <tr>\n",
       "      <th>3</th>\n",
       "      <td>3</td>\n",
       "      <td>0</td>\n",
       "      <td>0</td>\n",
       "      <td>1</td>\n",
       "      <td>0</td>\n",
       "      <td>0</td>\n",
       "      <td>0</td>\n",
       "      <td>0</td>\n",
       "      <td>0</td>\n",
       "      <td>0</td>\n",
       "      <td>...</td>\n",
       "      <td>0</td>\n",
       "      <td>0</td>\n",
       "      <td>0</td>\n",
       "      <td>0</td>\n",
       "      <td>0</td>\n",
       "      <td>0</td>\n",
       "      <td>1</td>\n",
       "      <td>0</td>\n",
       "      <td>CHEMBL43864</td>\n",
       "      <td>1</td>\n",
       "    </tr>\n",
       "    <tr>\n",
       "      <th>4</th>\n",
       "      <td>4</td>\n",
       "      <td>0</td>\n",
       "      <td>0</td>\n",
       "      <td>0</td>\n",
       "      <td>0</td>\n",
       "      <td>0</td>\n",
       "      <td>0</td>\n",
       "      <td>0</td>\n",
       "      <td>0</td>\n",
       "      <td>0</td>\n",
       "      <td>...</td>\n",
       "      <td>0</td>\n",
       "      <td>0</td>\n",
       "      <td>0</td>\n",
       "      <td>0</td>\n",
       "      <td>0</td>\n",
       "      <td>0</td>\n",
       "      <td>0</td>\n",
       "      <td>0</td>\n",
       "      <td>CHEMBL45090</td>\n",
       "      <td>1</td>\n",
       "    </tr>\n",
       "  </tbody>\n",
       "</table>\n",
       "<p>5 rows × 2051 columns</p>\n",
       "</div>"
      ],
      "text/plain": [
       "   Unnamed: 0  0  1  2  3  4  5  6  7  8  ...  2040  2041  2042  2043  2044  \\\n",
       "0           0  0  0  0  0  0  0  0  0  0  ...     0     0     0     0     0   \n",
       "1           1  0  0  0  0  0  0  0  0  0  ...     0     0     0     0     0   \n",
       "2           2  0  0  0  0  0  0  0  0  0  ...     0     0     0     0     0   \n",
       "3           3  0  0  1  0  0  0  0  0  0  ...     0     0     0     0     0   \n",
       "4           4  0  0  0  0  0  0  0  0  0  ...     0     0     0     0     0   \n",
       "\n",
       "   2045  2046  2047          Name  Activity  \n",
       "0     0     0     0  CHEMBL416126         1  \n",
       "1     0     0     0  CHEMBL143776         1  \n",
       "2     0     0     0  CHEMBL322276         1  \n",
       "3     0     1     0   CHEMBL43864         1  \n",
       "4     0     0     0   CHEMBL45090         1  \n",
       "\n",
       "[5 rows x 2051 columns]"
      ]
     },
     "execution_count": 47,
     "metadata": {},
     "output_type": "execute_result"
    }
   ],
   "source": [
    "classification_prep_data.head()"
   ]
  },
  {
   "cell_type": "code",
   "execution_count": 48,
   "id": "922c4d32",
   "metadata": {},
   "outputs": [
    {
     "data": {
      "text/plain": [
       "(2983, 2051)"
      ]
     },
     "execution_count": 48,
     "metadata": {},
     "output_type": "execute_result"
    }
   ],
   "source": [
    "classification_prep_data.shape"
   ]
  },
  {
   "cell_type": "markdown",
   "id": "e94ea617",
   "metadata": {},
   "source": [
    "# Save the Dataset\n",
    "\n",
    "Save the updated dataset, including the fingerprint calculations and the \"Activity\" column, for future analysis and model training.\n"
   ]
  },
  {
   "cell_type": "code",
   "execution_count": 49,
   "id": "7abd25af",
   "metadata": {},
   "outputs": [
    {
     "name": "stdout",
     "output_type": "stream",
     "text": [
      "Created successfully!\n"
     ]
    }
   ],
   "source": [
    "classification_prep_data.to_csv('classification_prep_data.csv')\n",
    "print(\"Created successfully!\")"
   ]
  },
  {
   "cell_type": "markdown",
   "id": "3a9a6344",
   "metadata": {},
   "source": [
    "## Drop Irrelevant Columns\n",
    "\n",
    "Remove the 'Name' and 'Unnamed: 0' columns from the classification preparation dataset as they are not needed for analysis."
   ]
  },
  {
   "cell_type": "code",
   "execution_count": 50,
   "id": "17aead0d",
   "metadata": {},
   "outputs": [],
   "source": [
    "classification_prep_data = classification_prep_data.drop(['Name', 'Unnamed: 0'], axis = 1)"
   ]
  },
  {
   "cell_type": "code",
   "execution_count": 51,
   "id": "d1cc9945",
   "metadata": {},
   "outputs": [
    {
     "data": {
      "text/html": [
       "<div>\n",
       "<style scoped>\n",
       "    .dataframe tbody tr th:only-of-type {\n",
       "        vertical-align: middle;\n",
       "    }\n",
       "\n",
       "    .dataframe tbody tr th {\n",
       "        vertical-align: top;\n",
       "    }\n",
       "\n",
       "    .dataframe thead th {\n",
       "        text-align: right;\n",
       "    }\n",
       "</style>\n",
       "<table border=\"1\" class=\"dataframe\">\n",
       "  <thead>\n",
       "    <tr style=\"text-align: right;\">\n",
       "      <th></th>\n",
       "      <th>0</th>\n",
       "      <th>1</th>\n",
       "      <th>2</th>\n",
       "      <th>3</th>\n",
       "      <th>4</th>\n",
       "      <th>5</th>\n",
       "      <th>6</th>\n",
       "      <th>7</th>\n",
       "      <th>8</th>\n",
       "      <th>9</th>\n",
       "      <th>...</th>\n",
       "      <th>2039</th>\n",
       "      <th>2040</th>\n",
       "      <th>2041</th>\n",
       "      <th>2042</th>\n",
       "      <th>2043</th>\n",
       "      <th>2044</th>\n",
       "      <th>2045</th>\n",
       "      <th>2046</th>\n",
       "      <th>2047</th>\n",
       "      <th>Activity</th>\n",
       "    </tr>\n",
       "  </thead>\n",
       "  <tbody>\n",
       "    <tr>\n",
       "      <th>0</th>\n",
       "      <td>0</td>\n",
       "      <td>0</td>\n",
       "      <td>0</td>\n",
       "      <td>0</td>\n",
       "      <td>0</td>\n",
       "      <td>0</td>\n",
       "      <td>0</td>\n",
       "      <td>0</td>\n",
       "      <td>0</td>\n",
       "      <td>0</td>\n",
       "      <td>...</td>\n",
       "      <td>0</td>\n",
       "      <td>0</td>\n",
       "      <td>0</td>\n",
       "      <td>0</td>\n",
       "      <td>0</td>\n",
       "      <td>0</td>\n",
       "      <td>0</td>\n",
       "      <td>0</td>\n",
       "      <td>0</td>\n",
       "      <td>1</td>\n",
       "    </tr>\n",
       "    <tr>\n",
       "      <th>1</th>\n",
       "      <td>0</td>\n",
       "      <td>0</td>\n",
       "      <td>0</td>\n",
       "      <td>0</td>\n",
       "      <td>0</td>\n",
       "      <td>0</td>\n",
       "      <td>0</td>\n",
       "      <td>0</td>\n",
       "      <td>0</td>\n",
       "      <td>0</td>\n",
       "      <td>...</td>\n",
       "      <td>0</td>\n",
       "      <td>0</td>\n",
       "      <td>0</td>\n",
       "      <td>0</td>\n",
       "      <td>0</td>\n",
       "      <td>0</td>\n",
       "      <td>0</td>\n",
       "      <td>0</td>\n",
       "      <td>0</td>\n",
       "      <td>1</td>\n",
       "    </tr>\n",
       "    <tr>\n",
       "      <th>2</th>\n",
       "      <td>0</td>\n",
       "      <td>0</td>\n",
       "      <td>0</td>\n",
       "      <td>0</td>\n",
       "      <td>0</td>\n",
       "      <td>0</td>\n",
       "      <td>0</td>\n",
       "      <td>0</td>\n",
       "      <td>0</td>\n",
       "      <td>0</td>\n",
       "      <td>...</td>\n",
       "      <td>0</td>\n",
       "      <td>0</td>\n",
       "      <td>0</td>\n",
       "      <td>0</td>\n",
       "      <td>0</td>\n",
       "      <td>0</td>\n",
       "      <td>0</td>\n",
       "      <td>0</td>\n",
       "      <td>0</td>\n",
       "      <td>1</td>\n",
       "    </tr>\n",
       "    <tr>\n",
       "      <th>3</th>\n",
       "      <td>0</td>\n",
       "      <td>0</td>\n",
       "      <td>1</td>\n",
       "      <td>0</td>\n",
       "      <td>0</td>\n",
       "      <td>0</td>\n",
       "      <td>0</td>\n",
       "      <td>0</td>\n",
       "      <td>0</td>\n",
       "      <td>0</td>\n",
       "      <td>...</td>\n",
       "      <td>0</td>\n",
       "      <td>0</td>\n",
       "      <td>0</td>\n",
       "      <td>0</td>\n",
       "      <td>0</td>\n",
       "      <td>0</td>\n",
       "      <td>0</td>\n",
       "      <td>1</td>\n",
       "      <td>0</td>\n",
       "      <td>1</td>\n",
       "    </tr>\n",
       "    <tr>\n",
       "      <th>4</th>\n",
       "      <td>0</td>\n",
       "      <td>0</td>\n",
       "      <td>0</td>\n",
       "      <td>0</td>\n",
       "      <td>0</td>\n",
       "      <td>0</td>\n",
       "      <td>0</td>\n",
       "      <td>0</td>\n",
       "      <td>0</td>\n",
       "      <td>0</td>\n",
       "      <td>...</td>\n",
       "      <td>0</td>\n",
       "      <td>0</td>\n",
       "      <td>0</td>\n",
       "      <td>0</td>\n",
       "      <td>0</td>\n",
       "      <td>0</td>\n",
       "      <td>0</td>\n",
       "      <td>0</td>\n",
       "      <td>0</td>\n",
       "      <td>1</td>\n",
       "    </tr>\n",
       "  </tbody>\n",
       "</table>\n",
       "<p>5 rows × 2049 columns</p>\n",
       "</div>"
      ],
      "text/plain": [
       "   0  1  2  3  4  5  6  7  8  9  ...  2039  2040  2041  2042  2043  2044  \\\n",
       "0  0  0  0  0  0  0  0  0  0  0  ...     0     0     0     0     0     0   \n",
       "1  0  0  0  0  0  0  0  0  0  0  ...     0     0     0     0     0     0   \n",
       "2  0  0  0  0  0  0  0  0  0  0  ...     0     0     0     0     0     0   \n",
       "3  0  0  1  0  0  0  0  0  0  0  ...     0     0     0     0     0     0   \n",
       "4  0  0  0  0  0  0  0  0  0  0  ...     0     0     0     0     0     0   \n",
       "\n",
       "   2045  2046  2047  Activity  \n",
       "0     0     0     0         1  \n",
       "1     0     0     0         1  \n",
       "2     0     0     0         1  \n",
       "3     0     1     0         1  \n",
       "4     0     0     0         1  \n",
       "\n",
       "[5 rows x 2049 columns]"
      ]
     },
     "execution_count": 51,
     "metadata": {},
     "output_type": "execute_result"
    }
   ],
   "source": [
    "classification_prep_data.head()"
   ]
  },
  {
   "cell_type": "code",
   "execution_count": 52,
   "id": "47b3337d",
   "metadata": {},
   "outputs": [
    {
     "data": {
      "text/plain": [
       "(2983, 2049)"
      ]
     },
     "execution_count": 52,
     "metadata": {},
     "output_type": "execute_result"
    }
   ],
   "source": [
    "classification_prep_data.shape"
   ]
  },
  {
   "cell_type": "code",
   "execution_count": 53,
   "id": "facfbf59",
   "metadata": {},
   "outputs": [
    {
     "data": {
      "image/png": "[encoded data removed]",
      "text/plain": [
       "<Figure size 1000x600 with 1 Axes>"
      ]
     },
     "metadata": {},
     "output_type": "display_data"
    }
   ],
   "source": [
    "# Create the bar plot\n",
    "plt.figure(figsize=(10, 6))\n",
    "sns.set(style=\"whitegrid\")\n",
    "plot = sns.countplot(x='Activity', data=classification_prep_data, palette='viridis')\n",
    "\n",
    "\n",
    "plot.set_xlabel('Activity', fontsize=14)\n",
    "plot.set_ylabel('Count', fontsize=14)\n",
    "# plot.set_title('Distribution of Activity Classes', fontsize=16)\n",
    "\n",
    "\n",
    "\n",
    "for p in plot.patches:\n",
    "    plot.annotate(f'{p.get_height()}', (p.get_x() + p.get_width() / 2., p.get_height()), \n",
    "                  ha='center', va='center', xytext=(0, 10), textcoords='offset points', fontsize=12)\n",
    "\n",
    "\n",
    "plt.tight_layout()\n",
    "\n",
    "plt.savefig('activity_distribution.png', dpi=300, bbox_inches='tight')\n",
    "\n",
    "plt.show()"
   ]
  },
  {
   "cell_type": "markdown",
   "id": "e19a3023",
   "metadata": {},
   "source": [
    "## Splitting Data into Training and Testing Sets\n",
    "\n",
    "Divide the dataset into training and testing subsets to evaluate the performance of the machine learning models.\n"
   ]
  },
  {
   "cell_type": "code",
   "execution_count": 54,
   "id": "b7d33fb1",
   "metadata": {},
   "outputs": [],
   "source": [
    "X = classification_prep_data.copy()\n",
    "y = X.pop('Activity')"
   ]
  },
  {
   "cell_type": "code",
   "execution_count": 55,
   "id": "52687b2b",
   "metadata": {},
   "outputs": [
    {
     "data": {
      "text/plain": [
       "(2983, 2048)"
      ]
     },
     "execution_count": 55,
     "metadata": {},
     "output_type": "execute_result"
    }
   ],
   "source": [
    "X.shape"
   ]
  },
  {
   "cell_type": "code",
   "execution_count": 56,
   "id": "d3729648",
   "metadata": {},
   "outputs": [
    {
     "data": {
      "text/plain": [
       "(2983,)"
      ]
     },
     "execution_count": 56,
     "metadata": {},
     "output_type": "execute_result"
    }
   ],
   "source": [
    "y.shape"
   ]
  },
  {
   "cell_type": "code",
   "execution_count": 57,
   "id": "f0ba895e",
   "metadata": {},
   "outputs": [],
   "source": [
    "train_x, test_x, train_y, test_y = train_test_split(X, y, test_size=0.20, random_state=42)"
   ]
  },
  {
   "cell_type": "code",
   "execution_count": 58,
   "id": "c9b596e9",
   "metadata": {},
   "outputs": [
    {
     "data": {
      "text/plain": [
       "(2386, 2048)"
      ]
     },
     "execution_count": 58,
     "metadata": {},
     "output_type": "execute_result"
    }
   ],
   "source": [
    "train_x.shape"
   ]
  },
  {
   "cell_type": "code",
   "execution_count": 59,
   "id": "a1d6c9e7",
   "metadata": {},
   "outputs": [
    {
     "data": {
      "text/plain": [
       "(2386,)"
      ]
     },
     "execution_count": 59,
     "metadata": {},
     "output_type": "execute_result"
    }
   ],
   "source": [
    "train_y.shape"
   ]
  },
  {
   "cell_type": "code",
   "execution_count": 60,
   "id": "cc163282",
   "metadata": {},
   "outputs": [
    {
     "data": {
      "text/plain": [
       "(597, 2048)"
      ]
     },
     "execution_count": 60,
     "metadata": {},
     "output_type": "execute_result"
    }
   ],
   "source": [
    "test_x.shape"
   ]
  },
  {
   "cell_type": "code",
   "execution_count": 61,
   "id": "02f03800",
   "metadata": {},
   "outputs": [
    {
     "data": {
      "text/plain": [
       "(597,)"
      ]
     },
     "execution_count": 61,
     "metadata": {},
     "output_type": "execute_result"
    }
   ],
   "source": [
    "test_y.shape"
   ]
  },
  {
   "cell_type": "markdown",
   "id": "4292b36c",
   "metadata": {},
   "source": [
    "## Define a function to calculate the mean accuracy score using cross-validation"
   ]
  },
  {
   "cell_type": "code",
   "execution_count": 62,
   "id": "dd37f693",
   "metadata": {},
   "outputs": [],
   "source": [
    "def my_score(X, y, model):\n",
    "    k_fold = KFold(n_splits = 5, shuffle=True, random_state = 42)\n",
    "    score = cross_val_score(model, X, y, cv= k_fold, scoring = 'accuracy')\n",
    "    score = score.mean()\n",
    "    return score"
   ]
  },
  {
   "cell_type": "markdown",
   "id": "ae8c4fdf",
   "metadata": {},
   "source": [
    "## Initialize a dictionary of classifiers for model training and evaluation"
   ]
  },
  {
   "cell_type": "code",
   "execution_count": 63,
   "id": "6a92a256",
   "metadata": {},
   "outputs": [],
   "source": [
    "classifiers = {\n",
    "    'RandomForest': RandomForestClassifier(random_state=42),\n",
    "    'XGBoost': XGBClassifier(seed = 42),\n",
    "    'SVM': SVC(probability=True, random_state=42),\n",
    "    'AdaBoost': AdaBoostClassifier(random_state=42),\n",
    "    'Bagging': BaggingClassifier(random_state=42),\n",
    "    'ExtraTrees': ExtraTreesClassifier(random_state=42),\n",
    "    'GradientBoosting': GradientBoostingClassifier(random_state=42),\n",
    "}"
   ]
  },
  {
   "cell_type": "code",
   "execution_count": null,
   "id": "b784ce51",
   "metadata": {},
   "outputs": [],
   "source": [
    "# Evaluate each classifier: calculate training and testing metrics, including accuracy, precision, recall, \n",
    "# F1-score, MCC, and ROC AUC\n",
    "results = {}\n",
    "for name, clf in classifiers.items():\n",
    "    # Start measuring time  \n",
    "    start_time = time.time() \n",
    "    \n",
    "    # Training accuracy \n",
    "    train_accuracy = my_score(train_x, train_y, clf) \n",
    "    \n",
    "    # model prediction\n",
    "    clf.fit(train_x, train_y)  \n",
    "    prediction = clf.predict(test_x)\n",
    "    \n",
    "    # Calculate test_accuracy\n",
    "    test_accuracy = accuracy_score(test_y, prediction)\n",
    "    \n",
    "     # Calculate precision, recall, F1-score, and MCC  \n",
    "    precision = precision_score(test_y, prediction)  \n",
    "    recall = recall_score(test_y, prediction)  \n",
    "    f1 = f1_score(test_y, prediction)  \n",
    "    mcc = matthews_corrcoef(test_y, prediction)  \n",
    "    \n",
    "    # Compute ROC AUC\n",
    "    prediction_probabilities = clf.predict_proba(test_x)[:, 1] \n",
    "    fpr, tpr, thresholds= roc_curve(test_y, prediction_probabilities)\n",
    "    roc_auc = auc(fpr, tpr)\n",
    "    \n",
    "     # Calculate processing time in minutes  \n",
    "    process_time = (time.time() - start_time) / 60\n",
    "\n",
    "    # Store results in the results dictionary  \n",
    "    results[name] = {  \n",
    "        'train_accuracy': train_accuracy,\n",
    "        'test_accuracy': test_accuracy, \n",
    "        'precision': precision,  \n",
    "        'recall': recall,  \n",
    "        'f1_score': f1,  \n",
    "        'mcc': mcc,  \n",
    "        'roc_auc': roc_auc,  \n",
    "        f'{name}_fpr': fpr,  \n",
    "        f'{name}_tpr': tpr,  \n",
    "        'process_time_minutes': process_time,\n",
    "    } "
   ]
  },
  {
   "cell_type": "code",
   "execution_count": 65,
   "id": "ea5ff179",
   "metadata": {},
   "outputs": [],
   "source": [
    "# results"
   ]
  },
  {
   "cell_type": "code",
   "execution_count": 66,
   "id": "fc0b5703",
   "metadata": {},
   "outputs": [],
   "source": [
    "# Create a new dictionary to organize and simplify the results for each classifier\n",
    "new_results={}\n",
    "for name, value in results.items():\n",
    "    new_results[name] = {  \n",
    "    'train_accuracy': results[name]['train_accuracy'],    \n",
    "    'test_accuracy': results[name]['test_accuracy'], \n",
    "    'precision': results[name]['precision'],  \n",
    "    'recall': results[name]['recall'],  \n",
    "    'f1_score': results[name]['f1_score'],  \n",
    "    'mcc': results[name]['mcc'],  \n",
    "    'roc_auc': results[name]['roc_auc'],  \n",
    "    'process_time_minutes': results[name]['process_time_minutes'],  \n",
    "    } "
   ]
  },
  {
   "cell_type": "code",
   "execution_count": 67,
   "id": "0b36f587",
   "metadata": {},
   "outputs": [],
   "source": [
    "# new_results"
   ]
  },
  {
   "cell_type": "code",
   "execution_count": 68,
   "id": "af9fb8a7",
   "metadata": {},
   "outputs": [],
   "source": [
    "# Initialize a dictionary to store evaluation metrics for each model in a structured format\n",
    "data = {\n",
    "    'Model': [],\n",
    "    'Train Accuracy': [],\n",
    "    'Test Accuracy': [],\n",
    "    'Precision': [],\n",
    "    'Recall': [],\n",
    "    'F1 Score': [],\n",
    "    'MCC': [],\n",
    "    'ROC AUC': [],\n",
    "    'Process Time (minutes)': []\n",
    "}"
   ]
  },
  {
   "cell_type": "code",
   "execution_count": 69,
   "id": "ef102ab2",
   "metadata": {},
   "outputs": [],
   "source": [
    "# Populate the data dictionary with evaluation metrics from new_results for each model\n",
    "for name, value in new_results.items():\n",
    "    data['Model'].append(name)\n",
    "    data['Train Accuracy'].append(value['train_accuracy'])\n",
    "    data['Test Accuracy'].append(value['test_accuracy'])\n",
    "    data['Precision'].append(value['precision'])\n",
    "    data['Recall'].append(value['recall'])\n",
    "    data['F1 Score'].append(value['f1_score'])\n",
    "    data['MCC'].append(value['mcc'])\n",
    "    data['ROC AUC'].append(value['roc_auc'])\n",
    "    data['Process Time (minutes)'].append(value['process_time_minutes'])\n",
    "# data"
   ]
  },
  {
   "cell_type": "code",
   "execution_count": 70,
   "id": "35a0e30a",
   "metadata": {},
   "outputs": [
    {
     "name": "stdout",
     "output_type": "stream",
     "text": [
      "Excel file 'model_evaluation_results_updated.xlsx' has been created.\n"
     ]
    }
   ],
   "source": [
    "# Convert to DataFrame\n",
    "df = pd.DataFrame(data)\n",
    "\n",
    "# Save to Excel file\n",
    "df.to_excel('model_evaluation_results_updated.xlsx', index=False)\n",
    "\n",
    "print(\"Excel file 'model_evaluation_results_updated.xlsx' has been created.\")"
   ]
  },
  {
   "cell_type": "markdown",
   "id": "3ea0c073",
   "metadata": {},
   "source": [
    "## Plot the Receiver Operating Characteristic (ROC) curve for each classifier and save the figure"
   ]
  },
  {
   "cell_type": "code",
   "execution_count": 71,
   "id": "1757c2dc",
   "metadata": {},
   "outputs": [
    {
     "data": {
      "image/png": "[encoded data removed]",
      "text/plain": [
       "<Figure size 1000x600 with 1 Axes>"
      ]
     },
     "metadata": {},
     "output_type": "display_data"
    }
   ],
   "source": [
    "plt.figure(figsize=(10, 6))  \n",
    "for name in classifiers.keys():  \n",
    "    plt.plot(  \n",
    "        results[name][f'{name}_fpr'],  \n",
    "        results[name][f'{name}_tpr'],  \n",
    "        label=f'{name} (AUC = {results[name][\"roc_auc\"]:.2f})',  \n",
    "    )  \n",
    "\n",
    "plt.plot([0, 1], [0, 1], 'k--')  # Diagonal line for no discrimination  \n",
    "plt.xlim([0.0, 1.0])  \n",
    "plt.ylim([0.0, 1.05])  \n",
    "plt.xlabel('Inactive (False Positive Rate)')  \n",
    "plt.ylabel('Active (True Positive Rate)')  \n",
    "# plt.title('Receiver Operating Characteristic (ROC) Curve')  \n",
    "plt.legend(loc=\"lower right\")  \n",
    "plt.grid()  \n",
    "plt.savefig('roc_curve.png', dpi =300)  # Save the figure for publication  \n",
    "plt.show()  "
   ]
  },
  {
   "cell_type": "markdown",
   "id": "70795c0a",
   "metadata": {},
   "source": [
    "## Compare the accuracy scores of different models using a horizontal bar chart"
   ]
  },
  {
   "cell_type": "code",
   "execution_count": 72,
   "id": "01394b59",
   "metadata": {},
   "outputs": [
    {
     "data": {
      "image/png": "[encoded data removed]",
      "text/plain": [
       "<Figure size 1000x600 with 1 Axes>"
      ]
     },
     "metadata": {},
     "output_type": "display_data"
    }
   ],
   "source": [
    "plt.figure(figsize=(10, 6))  \n",
    "model_names = list(results.keys())  \n",
    "accuracies = [results[name]['test_accuracy'] for name in model_names]  \n",
    "\n",
    "plt.barh(model_names, accuracies, color='lightblue')\n",
    "plt.xlabel('Accuracy Score')  \n",
    "# plt.title('Accuracy Comparison of Different Models')  \n",
    "plt.xlim(0, 1)  # Assuming accuracy ranges from 0 to 1  \n",
    "plt.grid(axis='x')  \n",
    "plt.savefig('accuracy_comparison.png', dpi = 300)  # Save the figure for publication  \n",
    "plt.show()  "
   ]
  },
  {
   "cell_type": "markdown",
   "id": "1bf6bb36",
   "metadata": {},
   "source": [
    "## Identifying the Best Model\n",
    "\n",
    "After evaluating various models, Random Forest has been chosen as the best model due to its superior performance metrics.\n",
    "\n"
   ]
  },
  {
   "cell_type": "code",
   "execution_count": 73,
   "id": "ebbd2f3f",
   "metadata": {},
   "outputs": [],
   "source": [
    "selected_model = RandomForestClassifier(random_state=42)"
   ]
  },
  {
   "cell_type": "code",
   "execution_count": 74,
   "id": "f5ed0acb",
   "metadata": {},
   "outputs": [
    {
     "data": {
      "text/html": [
       "<style>#sk-container-id-1 {color: black;}#sk-container-id-1 pre{padding: 0;}#sk-container-id-1 div.sk-toggleable {background-color: white;}#sk-container-id-1 label.sk-toggleable__label {cursor: pointer;display: block;width: 100%;margin-bottom: 0;padding: 0.3em;box-sizing: border-box;text-align: center;}#sk-container-id-1 label.sk-toggleable__label-arrow:before {content: \"▸\";float: left;margin-right: 0.25em;color: #696969;}#sk-container-id-1 label.sk-toggleable__label-arrow:hover:before {color: black;}#sk-container-id-1 div.sk-estimator:hover label.sk-toggleable__label-arrow:before {color: black;}#sk-container-id-1 div.sk-toggleable__content {max-height: 0;max-width: 0;overflow: hidden;text-align: left;background-color: #f0f8ff;}#sk-container-id-1 div.sk-toggleable__content pre {margin: 0.2em;color: black;border-radius: 0.25em;background-color: #f0f8ff;}#sk-container-id-1 input.sk-toggleable__control:checked~div.sk-toggleable__content {max-height: 200px;max-width: 100%;overflow: auto;}#sk-container-id-1 input.sk-toggleable__control:checked~label.sk-toggleable__label-arrow:before {content: \"▾\";}#sk-container-id-1 div.sk-estimator input.sk-toggleable__control:checked~label.sk-toggleable__label {background-color: #d4ebff;}#sk-container-id-1 div.sk-label input.sk-toggleable__control:checked~label.sk-toggleable__label {background-color: #d4ebff;}#sk-container-id-1 input.sk-hidden--visually {border: 0;clip: rect(1px 1px 1px 1px);clip: rect(1px, 1px, 1px, 1px);height: 1px;margin: -1px;overflow: hidden;padding: 0;position: absolute;width: 1px;}#sk-container-id-1 div.sk-estimator {font-family: monospace;background-color: #f0f8ff;border: 1px dotted black;border-radius: 0.25em;box-sizing: border-box;margin-bottom: 0.5em;}#sk-container-id-1 div.sk-estimator:hover {background-color: #d4ebff;}#sk-container-id-1 div.sk-parallel-item::after {content: \"\";width: 100%;border-bottom: 1px solid gray;flex-grow: 1;}#sk-container-id-1 div.sk-label:hover label.sk-toggleable__label {background-color: #d4ebff;}#sk-container-id-1 div.sk-serial::before {content: \"\";position: absolute;border-left: 1px solid gray;box-sizing: border-box;top: 0;bottom: 0;left: 50%;z-index: 0;}#sk-container-id-1 div.sk-serial {display: flex;flex-direction: column;align-items: center;background-color: white;padding-right: 0.2em;padding-left: 0.2em;position: relative;}#sk-container-id-1 div.sk-item {position: relative;z-index: 1;}#sk-container-id-1 div.sk-parallel {display: flex;align-items: stretch;justify-content: center;background-color: white;position: relative;}#sk-container-id-1 div.sk-item::before, #sk-container-id-1 div.sk-parallel-item::before {content: \"\";position: absolute;border-left: 1px solid gray;box-sizing: border-box;top: 0;bottom: 0;left: 50%;z-index: -1;}#sk-container-id-1 div.sk-parallel-item {display: flex;flex-direction: column;z-index: 1;position: relative;background-color: white;}#sk-container-id-1 div.sk-parallel-item:first-child::after {align-self: flex-end;width: 50%;}#sk-container-id-1 div.sk-parallel-item:last-child::after {align-self: flex-start;width: 50%;}#sk-container-id-1 div.sk-parallel-item:only-child::after {width: 0;}#sk-container-id-1 div.sk-dashed-wrapped {border: 1px dashed gray;margin: 0 0.4em 0.5em 0.4em;box-sizing: border-box;padding-bottom: 0.4em;background-color: white;}#sk-container-id-1 div.sk-label label {font-family: monospace;font-weight: bold;display: inline-block;line-height: 1.2em;}#sk-container-id-1 div.sk-label-container {text-align: center;}#sk-container-id-1 div.sk-container {/* jupyter's `normalize.less` sets `[hidden] { display: none; }` but bootstrap.min.css set `[hidden] { display: none !important; }` so we also need the `!important` here to be able to override the default hidden behavior on the sphinx rendered scikit-learn.org. See: https://github.com/scikit-learn/scikit-learn/issues/21755 */display: inline-block !important;position: relative;}#sk-container-id-1 div.sk-text-repr-fallback {display: none;}</style><div id=\"sk-container-id-1\" class=\"sk-top-container\"><div class=\"sk-text-repr-fallback\"><pre>RandomForestClassifier(random_state=42)</pre><b>In a Jupyter environment, please rerun this cell to show the HTML representation or trust the notebook. <br />On GitHub, the HTML representation is unable to render, please try loading this page with nbviewer.org.</b></div><div class=\"sk-container\" hidden><div class=\"sk-item\"><div class=\"sk-estimator sk-toggleable\"><input class=\"sk-toggleable__control sk-hidden--visually\" id=\"sk-estimator-id-1\" type=\"checkbox\" checked><label for=\"sk-estimator-id-1\" class=\"sk-toggleable__label sk-toggleable__label-arrow\">RandomForestClassifier</label><div class=\"sk-toggleable__content\"><pre>RandomForestClassifier(random_state=42)</pre></div></div></div></div></div>"
      ],
      "text/plain": [
       "RandomForestClassifier(random_state=42)"
      ]
     },
     "execution_count": 74,
     "metadata": {},
     "output_type": "execute_result"
    }
   ],
   "source": [
    "model = selected_model \n",
    "model.fit(train_x, train_y)"
   ]
  },
  {
   "cell_type": "markdown",
   "id": "5e720004",
   "metadata": {},
   "source": [
    "## Confusion Matrix Visualization\n",
    "\n",
    "Generate and display the confusion matrix to evaluate the classification performance of the selected model.\n"
   ]
  },
  {
   "cell_type": "code",
   "execution_count": 75,
   "id": "22fde4cb",
   "metadata": {},
   "outputs": [],
   "source": [
    "predicted = model.predict(test_x)"
   ]
  },
  {
   "cell_type": "code",
   "execution_count": 76,
   "id": "561a6339",
   "metadata": {},
   "outputs": [
    {
     "data": {
      "text/plain": [
       "array([[111,  53],\n",
       "       [ 15, 418]])"
      ]
     },
     "execution_count": 76,
     "metadata": {},
     "output_type": "execute_result"
    }
   ],
   "source": [
    "confusion_mat = confusion_matrix(test_y, predicted)\n",
    "confusion_mat"
   ]
  },
  {
   "cell_type": "code",
   "execution_count": 77,
   "id": "e7a99d09",
   "metadata": {},
   "outputs": [
    {
     "data": {
      "image/png": "[encoded data removed]",
      "text/plain": [
       "<Figure size 800x600 with 2 Axes>"
      ]
     },
     "metadata": {},
     "output_type": "display_data"
    }
   ],
   "source": [
    "cm_display = metrics.ConfusionMatrixDisplay(confusion_matrix = confusion_mat, display_labels = ['Inactive', 'Active'])\n",
    "\n",
    "# Plot the confusion matrix\n",
    "fig, ax = plt.subplots(figsize=(8, 6))\n",
    "cm_display.plot(cmap=plt.cm.Blues, ax=ax, colorbar=True)\n",
    "\n",
    "for label in ax.get_xticklabels() + ax.get_yticklabels():\n",
    "    label.set_fontsize(14)\n",
    "\n",
    "for text in ax.texts:\n",
    "    text.set_fontsize(20)\n",
    "\n",
    "# ax.set_title('Confusion Matrix for XGBoost Classifier')\n",
    "plt.tight_layout()\n",
    "ax.grid(False) \n",
    "plt.xlabel(\"Predicted label\", fontsize=14)\n",
    "plt.ylabel(\"True label\", fontsize=14)\n",
    "\n",
    "\n",
    "plt.savefig('confusion_matrix_xgboost.png', dpi=300)\n",
    "plt.show()"
   ]
  },
  {
   "cell_type": "code",
   "execution_count": 78,
   "id": "0a9c053a",
   "metadata": {},
   "outputs": [
    {
     "data": {
      "text/plain": [
       "0.8860971524288107"
      ]
     },
     "execution_count": 78,
     "metadata": {},
     "output_type": "execute_result"
    }
   ],
   "source": [
    "accuracy = metrics.accuracy_score(test_y, predicted)\n",
    "accuracy"
   ]
  },
  {
   "cell_type": "code",
   "execution_count": 79,
   "id": "2ca7ab5a",
   "metadata": {},
   "outputs": [
    {
     "data": {
      "text/plain": [
       "0.8874734607218684"
      ]
     },
     "execution_count": 79,
     "metadata": {},
     "output_type": "execute_result"
    }
   ],
   "source": [
    "precision = metrics.precision_score(test_y, predicted)\n",
    "precision"
   ]
  },
  {
   "cell_type": "code",
   "execution_count": 80,
   "id": "ebad2de9",
   "metadata": {},
   "outputs": [
    {
     "data": {
      "text/plain": [
       "0.9653579676674365"
      ]
     },
     "execution_count": 80,
     "metadata": {},
     "output_type": "execute_result"
    }
   ],
   "source": [
    "sensitivity_recall =  metrics.recall_score(test_y, predicted)\n",
    "sensitivity_recall"
   ]
  },
  {
   "cell_type": "code",
   "execution_count": 81,
   "id": "8a5b935d",
   "metadata": {},
   "outputs": [
    {
     "data": {
      "text/plain": [
       "0.676829268292683"
      ]
     },
     "execution_count": 81,
     "metadata": {},
     "output_type": "execute_result"
    }
   ],
   "source": [
    "specificity = metrics.recall_score(test_y, predicted, pos_label = 0)\n",
    "specificity"
   ]
  },
  {
   "cell_type": "code",
   "execution_count": 82,
   "id": "001c151e",
   "metadata": {},
   "outputs": [
    {
     "data": {
      "text/plain": [
       "0.9247787610619469"
      ]
     },
     "execution_count": 82,
     "metadata": {},
     "output_type": "execute_result"
    }
   ],
   "source": [
    "f1_score = metrics.f1_score(test_y, predicted)\n",
    "f1_score"
   ]
  },
  {
   "cell_type": "markdown",
   "id": "3cccbe76",
   "metadata": {},
   "source": [
    "## Normalized Confusion Matrix\n",
    "\n",
    "Generate and display the normalized confusion matrix to provide insights into the model's classification performance relative to the total number of instances in each class.\n"
   ]
  },
  {
   "cell_type": "code",
   "execution_count": 83,
   "id": "d06bfa6b",
   "metadata": {},
   "outputs": [],
   "source": [
    "normalized_mat= confusion_mat.astype(float) / confusion_mat.sum(axis=1)[:, np.newaxis]"
   ]
  },
  {
   "cell_type": "code",
   "execution_count": 84,
   "id": "35706a24",
   "metadata": {},
   "outputs": [
    {
     "data": {
      "image/png": "[encoded data removed]",
      "text/plain": [
       "<Figure size 800x600 with 2 Axes>"
      ]
     },
     "metadata": {},
     "output_type": "display_data"
    }
   ],
   "source": [
    "cm_display = metrics.ConfusionMatrixDisplay(confusion_matrix = normalized_mat, display_labels = ['Inactive', 'Active'])\n",
    "\n",
    "# Plot the confusion matrix\n",
    "fig, ax = plt.subplots(figsize=(8, 6))\n",
    "cm_display.plot(cmap=plt.cm.Blues, ax=ax, colorbar=True)\n",
    "\n",
    "for label in ax.get_xticklabels() + ax.get_yticklabels():\n",
    "    label.set_fontsize(14)\n",
    "\n",
    "for text in ax.texts:\n",
    "    text.set_fontsize(20)\n",
    "# ax.set_title('Confusion Matrix for XGBoost Classifier')\n",
    "plt.tight_layout()\n",
    "ax.grid(False) \n",
    "plt.xlabel(\"Predicted label\")\n",
    "plt.ylabel(\"True label\")\n",
    "\n",
    "\n",
    "plt.savefig('normalized_confusion_matrix_xgboost.png', dpi=300)\n",
    "plt.show()"
   ]
  },
  {
   "cell_type": "markdown",
   "id": "11a804bf",
   "metadata": {},
   "source": [
    "## Classification Report for Active and Inactive Classes\n",
    "\n",
    "Generate and display the classification report to assess the model's performance in distinguishing between active and inactive compounds, including precision, recall, F1 score, and support.\n"
   ]
  },
  {
   "cell_type": "code",
   "execution_count": 85,
   "id": "7b415700",
   "metadata": {},
   "outputs": [
    {
     "name": "stdout",
     "output_type": "stream",
     "text": [
      "Classification Report:\n",
      "               precision    recall  f1-score   support\n",
      "\n",
      "           0       0.88      0.68      0.77       164\n",
      "           1       0.89      0.97      0.92       433\n",
      "\n",
      "    accuracy                           0.89       597\n",
      "   macro avg       0.88      0.82      0.85       597\n",
      "weighted avg       0.89      0.89      0.88       597\n",
      "\n",
      "\n",
      "Metrics for 'Active':\n",
      "Precision: 0.89\n",
      "Recall: 0.97\n",
      "F1 Score: 0.92\n",
      "Support: 433.0\n",
      "\n",
      "Metrics for 'Inactive':\n",
      "Precision: 0.88\n",
      "Recall: 0.68\n",
      "F1 Score: 0.77\n",
      "Support: 164.0\n"
     ]
    }
   ],
   "source": [
    "report = metrics.classification_report(test_y, predicted, labels=[0, 1], output_dict=True)\n",
    "\n",
    "# Print the classification report\n",
    "print(\"Classification Report:\\n\", metrics.classification_report(test_y, predicted, labels=[0, 1]))\n",
    "# report\n",
    "\n",
    "# Extract metrics for each class\n",
    "metrics = report['1']\n",
    "inactive_metrics = report['0']\n",
    "\n",
    "# Print metrics for 'Active'\n",
    "print(\"\\nMetrics for 'Active':\")\n",
    "print(f\"Precision: {metrics['precision']:.2f}\")\n",
    "print(f\"Recall: {metrics['recall']:.2f}\")\n",
    "print(f\"F1 Score: {metrics['f1-score']:.2f}\")\n",
    "print(f\"Support: {metrics['support']}\")\n",
    "\n",
    "# Print metrics for 'Inactive'\n",
    "print(\"\\nMetrics for 'Inactive':\")\n",
    "print(f\"Precision: {inactive_metrics['precision']:.2f}\")\n",
    "print(f\"Recall: {inactive_metrics['recall']:.2f}\")\n",
    "print(f\"F1 Score: {inactive_metrics['f1-score']:.2f}\")\n",
    "print(f\"Support: {inactive_metrics['support']}\")"
   ]
  },
  {
   "cell_type": "markdown",
   "id": "6ffcfbd2",
   "metadata": {},
   "source": [
    "## Feature Importance Analysis\n",
    "\n",
    "Calculate and visualize feature importance to identify the most influential features contributing to the model's predictions.\n"
   ]
  },
  {
   "cell_type": "code",
   "execution_count": 86,
   "id": "bd607303",
   "metadata": {},
   "outputs": [],
   "source": [
    "feature_importances = model.feature_importances_"
   ]
  },
  {
   "cell_type": "code",
   "execution_count": 87,
   "id": "e12fc35c",
   "metadata": {},
   "outputs": [],
   "source": [
    "# Sort feature importances in descending order\n",
    "sorted_idx = np.argsort(feature_importances)[::-1]\n",
    "sorted_importances = feature_importances[sorted_idx]\n",
    "sorted_features = train_x.columns[sorted_idx] \n",
    "\n",
    "# Create a DataFrame for plotting\n",
    "importance_df = pd.DataFrame({\n",
    "    'Feature': sorted_features,\n",
    "    'Importance': sorted_importances\n",
    "})"
   ]
  },
  {
   "cell_type": "code",
   "execution_count": 88,
   "id": "2479b108",
   "metadata": {},
   "outputs": [],
   "source": [
    "# importance_df"
   ]
  },
  {
   "cell_type": "code",
   "execution_count": 89,
   "id": "12d64039",
   "metadata": {},
   "outputs": [],
   "source": [
    "cumulative_importance = np.cumsum(sorted_importances)"
   ]
  },
  {
   "cell_type": "code",
   "execution_count": 90,
   "id": "f60f4b01",
   "metadata": {},
   "outputs": [
    {
     "data": {
      "image/png": "[encoded data removed]",
      "text/plain": [
       "<Figure size 1000x600 with 1 Axes>"
      ]
     },
     "metadata": {},
     "output_type": "display_data"
    }
   ],
   "source": [
    "sns.set(style=\"whitegrid\")\n",
    "\n",
    "# Create the plot\n",
    "plt.figure(figsize=(10, 6))\n",
    "plt.plot(range(len(cumulative_importance)), cumulative_importance, marker='', linestyle='-', color='b', linewidth=2)\n",
    "plt.xlabel('Number of Features', fontsize=14)\n",
    "plt.ylabel('Cumulative Importance', fontsize=14)\n",
    "# plt.title('Cumulative Feature Importance', fontsize=16)\n",
    "plt.grid(True, linestyle='--', linewidth=0.5)\n",
    "plt.xticks(fontsize=12)\n",
    "plt.yticks(fontsize=12)\n",
    "plt.ylim(0.3, 1.0)  # Adjust y-axis limits to match the example graph\n",
    "plt.tight_layout()\n",
    "\n",
    "# Save the figure for publication\n",
    "plt.savefig('cumulative_feature_importance.png', dpi=300)\n",
    "\n",
    "plt.show()"
   ]
  },
  {
   "cell_type": "markdown",
   "id": "1e1ae07b",
   "metadata": {},
   "source": [
    "## Visualization of Top 20 Features\n",
    "\n",
    "Plot the graph displaying the top 20 features ranked by their importance to provide insights into which features most significantly impact the model's predictions.\n"
   ]
  },
  {
   "cell_type": "code",
   "execution_count": 91,
   "id": "8c59a74c",
   "metadata": {},
   "outputs": [],
   "source": [
    "N = 20  # Number of top features to display\n",
    "top_features = sorted_features[:N]\n",
    "top_importances = sorted_importances[:N]\n",
    "\n",
    "# Create a DataFrame for plotting\n",
    "top_features_df = pd.DataFrame({\n",
    "    'Feature': top_features,\n",
    "    'Importance': top_importances\n",
    "})"
   ]
  },
  {
   "cell_type": "code",
   "execution_count": 92,
   "id": "a3c75a27",
   "metadata": {},
   "outputs": [
    {
     "data": {
      "image/png": "[encoded data removed]",
      "text/plain": [
       "<Figure size 1200x800 with 1 Axes>"
      ]
     },
     "metadata": {},
     "output_type": "display_data"
    }
   ],
   "source": [
    "sns.set(style=\"whitegrid\")\n",
    "\n",
    "# Plot top N feature importances using seaborn\n",
    "plt.figure(figsize=(12, 8))\n",
    "sns.barplot(x='Importance', y='Feature', data=top_features_df, palette='viridis')\n",
    "# plt.title('Top Contributing Features', fontsize=16)\n",
    "plt.xlabel('Importance', fontsize=14)\n",
    "plt.ylabel('Feature', fontsize=14)\n",
    "plt.xticks(fontsize=12)\n",
    "plt.yticks(fontsize=12)\n",
    "plt.tight_layout()\n",
    "\n",
    "# Save the figure for publication\n",
    "plt.savefig('top_contributing_features.png', dpi=300)\n",
    "\n",
    "plt.show()"
   ]
  },
  {
   "cell_type": "markdown",
   "id": "d443f13f",
   "metadata": {},
   "source": [
    "## Predicting Bioactivity of 1920 Natural Compounds from 140 Bangladeshi Plants\n",
    "\n",
    "We developed a natural compounds library derived from 140 Bangladeshi plants and collected 1920 phytochemicals. After manually removing duplicates, 1393 unique compounds remain. This section focuses on assessing the bioactivity of 1,393 unique natural compounds. The goal is to identify potential bioactive candidates for further study.\n"
   ]
  },
  {
   "cell_type": "code",
   "execution_count": 93,
   "id": "f9a0fe75",
   "metadata": {},
   "outputs": [],
   "source": [
    "natural_com_data = pd.read_excel(\"cid_to_smiles_data.xlsx\")"
   ]
  },
  {
   "cell_type": "code",
   "execution_count": 94,
   "id": "cfa45244",
   "metadata": {},
   "outputs": [
    {
     "data": {
      "text/html": [
       "<div>\n",
       "<style scoped>\n",
       "    .dataframe tbody tr th:only-of-type {\n",
       "        vertical-align: middle;\n",
       "    }\n",
       "\n",
       "    .dataframe tbody tr th {\n",
       "        vertical-align: top;\n",
       "    }\n",
       "\n",
       "    .dataframe thead th {\n",
       "        text-align: right;\n",
       "    }\n",
       "</style>\n",
       "<table border=\"1\" class=\"dataframe\">\n",
       "  <thead>\n",
       "    <tr style=\"text-align: right;\">\n",
       "      <th></th>\n",
       "      <th>CID</th>\n",
       "      <th>SMILES</th>\n",
       "    </tr>\n",
       "  </thead>\n",
       "  <tbody>\n",
       "    <tr>\n",
       "      <th>0</th>\n",
       "      <td>52951311</td>\n",
       "      <td>CC1=C(C(OC1=O)O)C2=CC=C(C=C2)O</td>\n",
       "    </tr>\n",
       "    <tr>\n",
       "      <th>1</th>\n",
       "      <td>13922639</td>\n",
       "      <td>CC(=O)C=C=C1C(CC(CC1(C)O)O)(C)C</td>\n",
       "    </tr>\n",
       "    <tr>\n",
       "      <th>2</th>\n",
       "      <td>14312562</td>\n",
       "      <td>CC(=O)C=C=C1C(CC(CC1(C)OC2C(C(C(C(O2)CO)O)O)O)...</td>\n",
       "    </tr>\n",
       "    <tr>\n",
       "      <th>3</th>\n",
       "      <td>5280462</td>\n",
       "      <td>CC1=CC(=O)CC(C1(C=CC(C)O)O)(C)C</td>\n",
       "    </tr>\n",
       "    <tr>\n",
       "      <th>4</th>\n",
       "      <td>101434809</td>\n",
       "      <td>CC1=C(C(=O)OC(C1)C(C)C2CC(C3C2(C(CC4C3CC5C6(C4...</td>\n",
       "    </tr>\n",
       "  </tbody>\n",
       "</table>\n",
       "</div>"
      ],
      "text/plain": [
       "         CID                                             SMILES\n",
       "0   52951311                     CC1=C(C(OC1=O)O)C2=CC=C(C=C2)O\n",
       "1   13922639                    CC(=O)C=C=C1C(CC(CC1(C)O)O)(C)C\n",
       "2   14312562  CC(=O)C=C=C1C(CC(CC1(C)OC2C(C(C(C(O2)CO)O)O)O)...\n",
       "3    5280462                    CC1=CC(=O)CC(C1(C=CC(C)O)O)(C)C\n",
       "4  101434809  CC1=C(C(=O)OC(C1)C(C)C2CC(C3C2(C(CC4C3CC5C6(C4..."
      ]
     },
     "execution_count": 94,
     "metadata": {},
     "output_type": "execute_result"
    }
   ],
   "source": [
    "natural_com_data.head()"
   ]
  },
  {
   "cell_type": "code",
   "execution_count": 95,
   "id": "2d601f1d",
   "metadata": {},
   "outputs": [],
   "source": [
    "natural_com_smiles = natural_com_data['SMILES'].to_list()"
   ]
  },
  {
   "cell_type": "code",
   "execution_count": 96,
   "id": "3299dfa6",
   "metadata": {},
   "outputs": [],
   "source": [
    "natural_smiles_data=[]\n",
    "for i in natural_com_data['SMILES']:\n",
    "    natural_smiles_data.append(i)"
   ]
  },
  {
   "cell_type": "code",
   "execution_count": 97,
   "id": "2b525758",
   "metadata": {},
   "outputs": [],
   "source": [
    "natural_ecfp4_fingerprints = generate_ecfp4(natural_smiles_data)"
   ]
  },
  {
   "cell_type": "code",
   "execution_count": 98,
   "id": "21337585",
   "metadata": {},
   "outputs": [
    {
     "data": {
      "text/plain": [
       "1393"
      ]
     },
     "execution_count": 98,
     "metadata": {},
     "output_type": "execute_result"
    }
   ],
   "source": [
    "len(natural_ecfp4_fingerprints)"
   ]
  },
  {
   "cell_type": "code",
   "execution_count": 99,
   "id": "ca1dd7c9",
   "metadata": {},
   "outputs": [],
   "source": [
    "natural_fingerprint_df = pd.DataFrame(natural_ecfp4_fingerprints)"
   ]
  },
  {
   "cell_type": "code",
   "execution_count": 100,
   "id": "e6a78b7b",
   "metadata": {},
   "outputs": [],
   "source": [
    "natural_fingerprint_df[\"Name\"] = natural_com_data[\"CID\"].to_list()"
   ]
  },
  {
   "cell_type": "code",
   "execution_count": 101,
   "id": "c73cf21e",
   "metadata": {},
   "outputs": [
    {
     "data": {
      "text/html": [
       "<div>\n",
       "<style scoped>\n",
       "    .dataframe tbody tr th:only-of-type {\n",
       "        vertical-align: middle;\n",
       "    }\n",
       "\n",
       "    .dataframe tbody tr th {\n",
       "        vertical-align: top;\n",
       "    }\n",
       "\n",
       "    .dataframe thead th {\n",
       "        text-align: right;\n",
       "    }\n",
       "</style>\n",
       "<table border=\"1\" class=\"dataframe\">\n",
       "  <thead>\n",
       "    <tr style=\"text-align: right;\">\n",
       "      <th></th>\n",
       "      <th>0</th>\n",
       "      <th>1</th>\n",
       "      <th>2</th>\n",
       "      <th>3</th>\n",
       "      <th>4</th>\n",
       "      <th>5</th>\n",
       "      <th>6</th>\n",
       "      <th>7</th>\n",
       "      <th>8</th>\n",
       "      <th>9</th>\n",
       "      <th>...</th>\n",
       "      <th>2039</th>\n",
       "      <th>2040</th>\n",
       "      <th>2041</th>\n",
       "      <th>2042</th>\n",
       "      <th>2043</th>\n",
       "      <th>2044</th>\n",
       "      <th>2045</th>\n",
       "      <th>2046</th>\n",
       "      <th>2047</th>\n",
       "      <th>Name</th>\n",
       "    </tr>\n",
       "  </thead>\n",
       "  <tbody>\n",
       "    <tr>\n",
       "      <th>0</th>\n",
       "      <td>0</td>\n",
       "      <td>0</td>\n",
       "      <td>0</td>\n",
       "      <td>0</td>\n",
       "      <td>0</td>\n",
       "      <td>0</td>\n",
       "      <td>0</td>\n",
       "      <td>0</td>\n",
       "      <td>0</td>\n",
       "      <td>0</td>\n",
       "      <td>...</td>\n",
       "      <td>0</td>\n",
       "      <td>0</td>\n",
       "      <td>0</td>\n",
       "      <td>0</td>\n",
       "      <td>0</td>\n",
       "      <td>0</td>\n",
       "      <td>0</td>\n",
       "      <td>0</td>\n",
       "      <td>0</td>\n",
       "      <td>52951311</td>\n",
       "    </tr>\n",
       "    <tr>\n",
       "      <th>1</th>\n",
       "      <td>0</td>\n",
       "      <td>0</td>\n",
       "      <td>0</td>\n",
       "      <td>0</td>\n",
       "      <td>0</td>\n",
       "      <td>0</td>\n",
       "      <td>0</td>\n",
       "      <td>0</td>\n",
       "      <td>0</td>\n",
       "      <td>0</td>\n",
       "      <td>...</td>\n",
       "      <td>0</td>\n",
       "      <td>0</td>\n",
       "      <td>0</td>\n",
       "      <td>0</td>\n",
       "      <td>0</td>\n",
       "      <td>0</td>\n",
       "      <td>0</td>\n",
       "      <td>0</td>\n",
       "      <td>0</td>\n",
       "      <td>13922639</td>\n",
       "    </tr>\n",
       "    <tr>\n",
       "      <th>2</th>\n",
       "      <td>0</td>\n",
       "      <td>0</td>\n",
       "      <td>0</td>\n",
       "      <td>0</td>\n",
       "      <td>0</td>\n",
       "      <td>0</td>\n",
       "      <td>0</td>\n",
       "      <td>0</td>\n",
       "      <td>0</td>\n",
       "      <td>0</td>\n",
       "      <td>...</td>\n",
       "      <td>0</td>\n",
       "      <td>0</td>\n",
       "      <td>0</td>\n",
       "      <td>0</td>\n",
       "      <td>0</td>\n",
       "      <td>0</td>\n",
       "      <td>0</td>\n",
       "      <td>0</td>\n",
       "      <td>0</td>\n",
       "      <td>14312562</td>\n",
       "    </tr>\n",
       "    <tr>\n",
       "      <th>3</th>\n",
       "      <td>0</td>\n",
       "      <td>1</td>\n",
       "      <td>0</td>\n",
       "      <td>0</td>\n",
       "      <td>0</td>\n",
       "      <td>0</td>\n",
       "      <td>0</td>\n",
       "      <td>0</td>\n",
       "      <td>0</td>\n",
       "      <td>0</td>\n",
       "      <td>...</td>\n",
       "      <td>0</td>\n",
       "      <td>1</td>\n",
       "      <td>0</td>\n",
       "      <td>0</td>\n",
       "      <td>0</td>\n",
       "      <td>0</td>\n",
       "      <td>0</td>\n",
       "      <td>0</td>\n",
       "      <td>0</td>\n",
       "      <td>5280462</td>\n",
       "    </tr>\n",
       "    <tr>\n",
       "      <th>4</th>\n",
       "      <td>0</td>\n",
       "      <td>1</td>\n",
       "      <td>0</td>\n",
       "      <td>0</td>\n",
       "      <td>0</td>\n",
       "      <td>0</td>\n",
       "      <td>0</td>\n",
       "      <td>0</td>\n",
       "      <td>1</td>\n",
       "      <td>0</td>\n",
       "      <td>...</td>\n",
       "      <td>0</td>\n",
       "      <td>0</td>\n",
       "      <td>0</td>\n",
       "      <td>0</td>\n",
       "      <td>0</td>\n",
       "      <td>0</td>\n",
       "      <td>1</td>\n",
       "      <td>0</td>\n",
       "      <td>0</td>\n",
       "      <td>101434809</td>\n",
       "    </tr>\n",
       "  </tbody>\n",
       "</table>\n",
       "<p>5 rows × 2049 columns</p>\n",
       "</div>"
      ],
      "text/plain": [
       "   0  1  2  3  4  5  6  7  8  9  ...  2039  2040  2041  2042  2043  2044  \\\n",
       "0  0  0  0  0  0  0  0  0  0  0  ...     0     0     0     0     0     0   \n",
       "1  0  0  0  0  0  0  0  0  0  0  ...     0     0     0     0     0     0   \n",
       "2  0  0  0  0  0  0  0  0  0  0  ...     0     0     0     0     0     0   \n",
       "3  0  1  0  0  0  0  0  0  0  0  ...     0     1     0     0     0     0   \n",
       "4  0  1  0  0  0  0  0  0  1  0  ...     0     0     0     0     0     0   \n",
       "\n",
       "   2045  2046  2047       Name  \n",
       "0     0     0     0   52951311  \n",
       "1     0     0     0   13922639  \n",
       "2     0     0     0   14312562  \n",
       "3     0     0     0    5280462  \n",
       "4     1     0     0  101434809  \n",
       "\n",
       "[5 rows x 2049 columns]"
      ]
     },
     "execution_count": 101,
     "metadata": {},
     "output_type": "execute_result"
    }
   ],
   "source": [
    "natural_fingerprint_df.head()"
   ]
  },
  {
   "cell_type": "code",
   "execution_count": 102,
   "id": "a89299cc",
   "metadata": {},
   "outputs": [
    {
     "data": {
      "text/plain": [
       "(1393, 2049)"
      ]
     },
     "execution_count": 102,
     "metadata": {},
     "output_type": "execute_result"
    }
   ],
   "source": [
    "natural_fingerprint_df.shape"
   ]
  },
  {
   "cell_type": "code",
   "execution_count": 103,
   "id": "48195a85",
   "metadata": {},
   "outputs": [
    {
     "name": "stdout",
     "output_type": "stream",
     "text": [
      "Created successfully!\n"
     ]
    }
   ],
   "source": [
    "natural_fingerprint_df.to_csv('natural_fingerprint.csv')\n",
    "print(\"Created successfully!\")"
   ]
  },
  {
   "cell_type": "code",
   "execution_count": 104,
   "id": "2adbffad",
   "metadata": {},
   "outputs": [],
   "source": [
    "natural_com_fingerprint = pd.read_csv('natural_fingerprint.csv')"
   ]
  },
  {
   "cell_type": "code",
   "execution_count": 105,
   "id": "edde335a",
   "metadata": {},
   "outputs": [
    {
     "data": {
      "text/html": [
       "<div>\n",
       "<style scoped>\n",
       "    .dataframe tbody tr th:only-of-type {\n",
       "        vertical-align: middle;\n",
       "    }\n",
       "\n",
       "    .dataframe tbody tr th {\n",
       "        vertical-align: top;\n",
       "    }\n",
       "\n",
       "    .dataframe thead th {\n",
       "        text-align: right;\n",
       "    }\n",
       "</style>\n",
       "<table border=\"1\" class=\"dataframe\">\n",
       "  <thead>\n",
       "    <tr style=\"text-align: right;\">\n",
       "      <th></th>\n",
       "      <th>Unnamed: 0</th>\n",
       "      <th>0</th>\n",
       "      <th>1</th>\n",
       "      <th>2</th>\n",
       "      <th>3</th>\n",
       "      <th>4</th>\n",
       "      <th>5</th>\n",
       "      <th>6</th>\n",
       "      <th>7</th>\n",
       "      <th>8</th>\n",
       "      <th>...</th>\n",
       "      <th>2039</th>\n",
       "      <th>2040</th>\n",
       "      <th>2041</th>\n",
       "      <th>2042</th>\n",
       "      <th>2043</th>\n",
       "      <th>2044</th>\n",
       "      <th>2045</th>\n",
       "      <th>2046</th>\n",
       "      <th>2047</th>\n",
       "      <th>Name</th>\n",
       "    </tr>\n",
       "  </thead>\n",
       "  <tbody>\n",
       "    <tr>\n",
       "      <th>0</th>\n",
       "      <td>0</td>\n",
       "      <td>0</td>\n",
       "      <td>0</td>\n",
       "      <td>0</td>\n",
       "      <td>0</td>\n",
       "      <td>0</td>\n",
       "      <td>0</td>\n",
       "      <td>0</td>\n",
       "      <td>0</td>\n",
       "      <td>0</td>\n",
       "      <td>...</td>\n",
       "      <td>0</td>\n",
       "      <td>0</td>\n",
       "      <td>0</td>\n",
       "      <td>0</td>\n",
       "      <td>0</td>\n",
       "      <td>0</td>\n",
       "      <td>0</td>\n",
       "      <td>0</td>\n",
       "      <td>0</td>\n",
       "      <td>52951311</td>\n",
       "    </tr>\n",
       "    <tr>\n",
       "      <th>1</th>\n",
       "      <td>1</td>\n",
       "      <td>0</td>\n",
       "      <td>0</td>\n",
       "      <td>0</td>\n",
       "      <td>0</td>\n",
       "      <td>0</td>\n",
       "      <td>0</td>\n",
       "      <td>0</td>\n",
       "      <td>0</td>\n",
       "      <td>0</td>\n",
       "      <td>...</td>\n",
       "      <td>0</td>\n",
       "      <td>0</td>\n",
       "      <td>0</td>\n",
       "      <td>0</td>\n",
       "      <td>0</td>\n",
       "      <td>0</td>\n",
       "      <td>0</td>\n",
       "      <td>0</td>\n",
       "      <td>0</td>\n",
       "      <td>13922639</td>\n",
       "    </tr>\n",
       "    <tr>\n",
       "      <th>2</th>\n",
       "      <td>2</td>\n",
       "      <td>0</td>\n",
       "      <td>0</td>\n",
       "      <td>0</td>\n",
       "      <td>0</td>\n",
       "      <td>0</td>\n",
       "      <td>0</td>\n",
       "      <td>0</td>\n",
       "      <td>0</td>\n",
       "      <td>0</td>\n",
       "      <td>...</td>\n",
       "      <td>0</td>\n",
       "      <td>0</td>\n",
       "      <td>0</td>\n",
       "      <td>0</td>\n",
       "      <td>0</td>\n",
       "      <td>0</td>\n",
       "      <td>0</td>\n",
       "      <td>0</td>\n",
       "      <td>0</td>\n",
       "      <td>14312562</td>\n",
       "    </tr>\n",
       "    <tr>\n",
       "      <th>3</th>\n",
       "      <td>3</td>\n",
       "      <td>0</td>\n",
       "      <td>1</td>\n",
       "      <td>0</td>\n",
       "      <td>0</td>\n",
       "      <td>0</td>\n",
       "      <td>0</td>\n",
       "      <td>0</td>\n",
       "      <td>0</td>\n",
       "      <td>0</td>\n",
       "      <td>...</td>\n",
       "      <td>0</td>\n",
       "      <td>1</td>\n",
       "      <td>0</td>\n",
       "      <td>0</td>\n",
       "      <td>0</td>\n",
       "      <td>0</td>\n",
       "      <td>0</td>\n",
       "      <td>0</td>\n",
       "      <td>0</td>\n",
       "      <td>5280462</td>\n",
       "    </tr>\n",
       "    <tr>\n",
       "      <th>4</th>\n",
       "      <td>4</td>\n",
       "      <td>0</td>\n",
       "      <td>1</td>\n",
       "      <td>0</td>\n",
       "      <td>0</td>\n",
       "      <td>0</td>\n",
       "      <td>0</td>\n",
       "      <td>0</td>\n",
       "      <td>0</td>\n",
       "      <td>1</td>\n",
       "      <td>...</td>\n",
       "      <td>0</td>\n",
       "      <td>0</td>\n",
       "      <td>0</td>\n",
       "      <td>0</td>\n",
       "      <td>0</td>\n",
       "      <td>0</td>\n",
       "      <td>1</td>\n",
       "      <td>0</td>\n",
       "      <td>0</td>\n",
       "      <td>101434809</td>\n",
       "    </tr>\n",
       "  </tbody>\n",
       "</table>\n",
       "<p>5 rows × 2050 columns</p>\n",
       "</div>"
      ],
      "text/plain": [
       "   Unnamed: 0  0  1  2  3  4  5  6  7  8  ...  2039  2040  2041  2042  2043  \\\n",
       "0           0  0  0  0  0  0  0  0  0  0  ...     0     0     0     0     0   \n",
       "1           1  0  0  0  0  0  0  0  0  0  ...     0     0     0     0     0   \n",
       "2           2  0  0  0  0  0  0  0  0  0  ...     0     0     0     0     0   \n",
       "3           3  0  1  0  0  0  0  0  0  0  ...     0     1     0     0     0   \n",
       "4           4  0  1  0  0  0  0  0  0  1  ...     0     0     0     0     0   \n",
       "\n",
       "   2044  2045  2046  2047       Name  \n",
       "0     0     0     0     0   52951311  \n",
       "1     0     0     0     0   13922639  \n",
       "2     0     0     0     0   14312562  \n",
       "3     0     0     0     0    5280462  \n",
       "4     0     1     0     0  101434809  \n",
       "\n",
       "[5 rows x 2050 columns]"
      ]
     },
     "execution_count": 105,
     "metadata": {},
     "output_type": "execute_result"
    }
   ],
   "source": [
    "natural_com_fingerprint.head()"
   ]
  },
  {
   "cell_type": "code",
   "execution_count": 106,
   "id": "4e629b36",
   "metadata": {},
   "outputs": [],
   "source": [
    "clean_natural_com_fingerprint = natural_com_fingerprint.drop(['Name','Unnamed: 0'], axis = 1)"
   ]
  },
  {
   "cell_type": "code",
   "execution_count": 107,
   "id": "c772452c",
   "metadata": {},
   "outputs": [
    {
     "data": {
      "text/html": [
       "<div>\n",
       "<style scoped>\n",
       "    .dataframe tbody tr th:only-of-type {\n",
       "        vertical-align: middle;\n",
       "    }\n",
       "\n",
       "    .dataframe tbody tr th {\n",
       "        vertical-align: top;\n",
       "    }\n",
       "\n",
       "    .dataframe thead th {\n",
       "        text-align: right;\n",
       "    }\n",
       "</style>\n",
       "<table border=\"1\" class=\"dataframe\">\n",
       "  <thead>\n",
       "    <tr style=\"text-align: right;\">\n",
       "      <th></th>\n",
       "      <th>0</th>\n",
       "      <th>1</th>\n",
       "      <th>2</th>\n",
       "      <th>3</th>\n",
       "      <th>4</th>\n",
       "      <th>5</th>\n",
       "      <th>6</th>\n",
       "      <th>7</th>\n",
       "      <th>8</th>\n",
       "      <th>9</th>\n",
       "      <th>...</th>\n",
       "      <th>2038</th>\n",
       "      <th>2039</th>\n",
       "      <th>2040</th>\n",
       "      <th>2041</th>\n",
       "      <th>2042</th>\n",
       "      <th>2043</th>\n",
       "      <th>2044</th>\n",
       "      <th>2045</th>\n",
       "      <th>2046</th>\n",
       "      <th>2047</th>\n",
       "    </tr>\n",
       "  </thead>\n",
       "  <tbody>\n",
       "    <tr>\n",
       "      <th>0</th>\n",
       "      <td>0</td>\n",
       "      <td>0</td>\n",
       "      <td>0</td>\n",
       "      <td>0</td>\n",
       "      <td>0</td>\n",
       "      <td>0</td>\n",
       "      <td>0</td>\n",
       "      <td>0</td>\n",
       "      <td>0</td>\n",
       "      <td>0</td>\n",
       "      <td>...</td>\n",
       "      <td>0</td>\n",
       "      <td>0</td>\n",
       "      <td>0</td>\n",
       "      <td>0</td>\n",
       "      <td>0</td>\n",
       "      <td>0</td>\n",
       "      <td>0</td>\n",
       "      <td>0</td>\n",
       "      <td>0</td>\n",
       "      <td>0</td>\n",
       "    </tr>\n",
       "    <tr>\n",
       "      <th>1</th>\n",
       "      <td>0</td>\n",
       "      <td>0</td>\n",
       "      <td>0</td>\n",
       "      <td>0</td>\n",
       "      <td>0</td>\n",
       "      <td>0</td>\n",
       "      <td>0</td>\n",
       "      <td>0</td>\n",
       "      <td>0</td>\n",
       "      <td>0</td>\n",
       "      <td>...</td>\n",
       "      <td>0</td>\n",
       "      <td>0</td>\n",
       "      <td>0</td>\n",
       "      <td>0</td>\n",
       "      <td>0</td>\n",
       "      <td>0</td>\n",
       "      <td>0</td>\n",
       "      <td>0</td>\n",
       "      <td>0</td>\n",
       "      <td>0</td>\n",
       "    </tr>\n",
       "    <tr>\n",
       "      <th>2</th>\n",
       "      <td>0</td>\n",
       "      <td>0</td>\n",
       "      <td>0</td>\n",
       "      <td>0</td>\n",
       "      <td>0</td>\n",
       "      <td>0</td>\n",
       "      <td>0</td>\n",
       "      <td>0</td>\n",
       "      <td>0</td>\n",
       "      <td>0</td>\n",
       "      <td>...</td>\n",
       "      <td>0</td>\n",
       "      <td>0</td>\n",
       "      <td>0</td>\n",
       "      <td>0</td>\n",
       "      <td>0</td>\n",
       "      <td>0</td>\n",
       "      <td>0</td>\n",
       "      <td>0</td>\n",
       "      <td>0</td>\n",
       "      <td>0</td>\n",
       "    </tr>\n",
       "    <tr>\n",
       "      <th>3</th>\n",
       "      <td>0</td>\n",
       "      <td>1</td>\n",
       "      <td>0</td>\n",
       "      <td>0</td>\n",
       "      <td>0</td>\n",
       "      <td>0</td>\n",
       "      <td>0</td>\n",
       "      <td>0</td>\n",
       "      <td>0</td>\n",
       "      <td>0</td>\n",
       "      <td>...</td>\n",
       "      <td>0</td>\n",
       "      <td>0</td>\n",
       "      <td>1</td>\n",
       "      <td>0</td>\n",
       "      <td>0</td>\n",
       "      <td>0</td>\n",
       "      <td>0</td>\n",
       "      <td>0</td>\n",
       "      <td>0</td>\n",
       "      <td>0</td>\n",
       "    </tr>\n",
       "    <tr>\n",
       "      <th>4</th>\n",
       "      <td>0</td>\n",
       "      <td>1</td>\n",
       "      <td>0</td>\n",
       "      <td>0</td>\n",
       "      <td>0</td>\n",
       "      <td>0</td>\n",
       "      <td>0</td>\n",
       "      <td>0</td>\n",
       "      <td>1</td>\n",
       "      <td>0</td>\n",
       "      <td>...</td>\n",
       "      <td>0</td>\n",
       "      <td>0</td>\n",
       "      <td>0</td>\n",
       "      <td>0</td>\n",
       "      <td>0</td>\n",
       "      <td>0</td>\n",
       "      <td>0</td>\n",
       "      <td>1</td>\n",
       "      <td>0</td>\n",
       "      <td>0</td>\n",
       "    </tr>\n",
       "  </tbody>\n",
       "</table>\n",
       "<p>5 rows × 2048 columns</p>\n",
       "</div>"
      ],
      "text/plain": [
       "   0  1  2  3  4  5  6  7  8  9  ...  2038  2039  2040  2041  2042  2043  \\\n",
       "0  0  0  0  0  0  0  0  0  0  0  ...     0     0     0     0     0     0   \n",
       "1  0  0  0  0  0  0  0  0  0  0  ...     0     0     0     0     0     0   \n",
       "2  0  0  0  0  0  0  0  0  0  0  ...     0     0     0     0     0     0   \n",
       "3  0  1  0  0  0  0  0  0  0  0  ...     0     0     1     0     0     0   \n",
       "4  0  1  0  0  0  0  0  0  1  0  ...     0     0     0     0     0     0   \n",
       "\n",
       "   2044  2045  2046  2047  \n",
       "0     0     0     0     0  \n",
       "1     0     0     0     0  \n",
       "2     0     0     0     0  \n",
       "3     0     0     0     0  \n",
       "4     0     1     0     0  \n",
       "\n",
       "[5 rows x 2048 columns]"
      ]
     },
     "execution_count": 107,
     "metadata": {},
     "output_type": "execute_result"
    }
   ],
   "source": [
    "clean_natural_com_fingerprint.head()"
   ]
  },
  {
   "cell_type": "markdown",
   "id": "6ef6f386",
   "metadata": {},
   "source": [
    "## Prediction of Bioactivity\n",
    "\n",
    "This section performs predictions on the bioactivity of the selected natural compounds using the trained model, which provides insights into their potential efficacy as bioactive agents.\n"
   ]
  },
  {
   "cell_type": "code",
   "execution_count": 108,
   "id": "7876b0fd",
   "metadata": {},
   "outputs": [],
   "source": [
    "bioactivity_prediction = selected_model.predict(clean_natural_com_fingerprint)"
   ]
  },
  {
   "cell_type": "code",
   "execution_count": 109,
   "id": "657bbf84",
   "metadata": {},
   "outputs": [
    {
     "data": {
      "text/plain": [
       "array([0, 1, 1, ..., 1, 0, 0])"
      ]
     },
     "execution_count": 109,
     "metadata": {},
     "output_type": "execute_result"
    }
   ],
   "source": [
    "bioactivity_prediction"
   ]
  },
  {
   "cell_type": "code",
   "execution_count": 110,
   "id": "8fcf7402",
   "metadata": {},
   "outputs": [],
   "source": [
    "natural_com_fingerprint['Activity_class'] = bioactivity_prediction"
   ]
  },
  {
   "cell_type": "code",
   "execution_count": 111,
   "id": "9bd222cb",
   "metadata": {},
   "outputs": [],
   "source": [
    "natural_com_fingerprint['Name'] = natural_com_fingerprint[\"Name\"]"
   ]
  },
  {
   "cell_type": "code",
   "execution_count": 112,
   "id": "6779436f",
   "metadata": {},
   "outputs": [
    {
     "data": {
      "text/html": [
       "<div>\n",
       "<style scoped>\n",
       "    .dataframe tbody tr th:only-of-type {\n",
       "        vertical-align: middle;\n",
       "    }\n",
       "\n",
       "    .dataframe tbody tr th {\n",
       "        vertical-align: top;\n",
       "    }\n",
       "\n",
       "    .dataframe thead th {\n",
       "        text-align: right;\n",
       "    }\n",
       "</style>\n",
       "<table border=\"1\" class=\"dataframe\">\n",
       "  <thead>\n",
       "    <tr style=\"text-align: right;\">\n",
       "      <th></th>\n",
       "      <th>Unnamed: 0</th>\n",
       "      <th>0</th>\n",
       "      <th>1</th>\n",
       "      <th>2</th>\n",
       "      <th>3</th>\n",
       "      <th>4</th>\n",
       "      <th>5</th>\n",
       "      <th>6</th>\n",
       "      <th>7</th>\n",
       "      <th>8</th>\n",
       "      <th>...</th>\n",
       "      <th>2040</th>\n",
       "      <th>2041</th>\n",
       "      <th>2042</th>\n",
       "      <th>2043</th>\n",
       "      <th>2044</th>\n",
       "      <th>2045</th>\n",
       "      <th>2046</th>\n",
       "      <th>2047</th>\n",
       "      <th>Name</th>\n",
       "      <th>Activity_class</th>\n",
       "    </tr>\n",
       "  </thead>\n",
       "  <tbody>\n",
       "    <tr>\n",
       "      <th>0</th>\n",
       "      <td>0</td>\n",
       "      <td>0</td>\n",
       "      <td>0</td>\n",
       "      <td>0</td>\n",
       "      <td>0</td>\n",
       "      <td>0</td>\n",
       "      <td>0</td>\n",
       "      <td>0</td>\n",
       "      <td>0</td>\n",
       "      <td>0</td>\n",
       "      <td>...</td>\n",
       "      <td>0</td>\n",
       "      <td>0</td>\n",
       "      <td>0</td>\n",
       "      <td>0</td>\n",
       "      <td>0</td>\n",
       "      <td>0</td>\n",
       "      <td>0</td>\n",
       "      <td>0</td>\n",
       "      <td>52951311</td>\n",
       "      <td>0</td>\n",
       "    </tr>\n",
       "    <tr>\n",
       "      <th>1</th>\n",
       "      <td>1</td>\n",
       "      <td>0</td>\n",
       "      <td>0</td>\n",
       "      <td>0</td>\n",
       "      <td>0</td>\n",
       "      <td>0</td>\n",
       "      <td>0</td>\n",
       "      <td>0</td>\n",
       "      <td>0</td>\n",
       "      <td>0</td>\n",
       "      <td>...</td>\n",
       "      <td>0</td>\n",
       "      <td>0</td>\n",
       "      <td>0</td>\n",
       "      <td>0</td>\n",
       "      <td>0</td>\n",
       "      <td>0</td>\n",
       "      <td>0</td>\n",
       "      <td>0</td>\n",
       "      <td>13922639</td>\n",
       "      <td>1</td>\n",
       "    </tr>\n",
       "    <tr>\n",
       "      <th>2</th>\n",
       "      <td>2</td>\n",
       "      <td>0</td>\n",
       "      <td>0</td>\n",
       "      <td>0</td>\n",
       "      <td>0</td>\n",
       "      <td>0</td>\n",
       "      <td>0</td>\n",
       "      <td>0</td>\n",
       "      <td>0</td>\n",
       "      <td>0</td>\n",
       "      <td>...</td>\n",
       "      <td>0</td>\n",
       "      <td>0</td>\n",
       "      <td>0</td>\n",
       "      <td>0</td>\n",
       "      <td>0</td>\n",
       "      <td>0</td>\n",
       "      <td>0</td>\n",
       "      <td>0</td>\n",
       "      <td>14312562</td>\n",
       "      <td>1</td>\n",
       "    </tr>\n",
       "    <tr>\n",
       "      <th>3</th>\n",
       "      <td>3</td>\n",
       "      <td>0</td>\n",
       "      <td>1</td>\n",
       "      <td>0</td>\n",
       "      <td>0</td>\n",
       "      <td>0</td>\n",
       "      <td>0</td>\n",
       "      <td>0</td>\n",
       "      <td>0</td>\n",
       "      <td>0</td>\n",
       "      <td>...</td>\n",
       "      <td>1</td>\n",
       "      <td>0</td>\n",
       "      <td>0</td>\n",
       "      <td>0</td>\n",
       "      <td>0</td>\n",
       "      <td>0</td>\n",
       "      <td>0</td>\n",
       "      <td>0</td>\n",
       "      <td>5280462</td>\n",
       "      <td>1</td>\n",
       "    </tr>\n",
       "    <tr>\n",
       "      <th>4</th>\n",
       "      <td>4</td>\n",
       "      <td>0</td>\n",
       "      <td>1</td>\n",
       "      <td>0</td>\n",
       "      <td>0</td>\n",
       "      <td>0</td>\n",
       "      <td>0</td>\n",
       "      <td>0</td>\n",
       "      <td>0</td>\n",
       "      <td>1</td>\n",
       "      <td>...</td>\n",
       "      <td>0</td>\n",
       "      <td>0</td>\n",
       "      <td>0</td>\n",
       "      <td>0</td>\n",
       "      <td>0</td>\n",
       "      <td>1</td>\n",
       "      <td>0</td>\n",
       "      <td>0</td>\n",
       "      <td>101434809</td>\n",
       "      <td>0</td>\n",
       "    </tr>\n",
       "  </tbody>\n",
       "</table>\n",
       "<p>5 rows × 2051 columns</p>\n",
       "</div>"
      ],
      "text/plain": [
       "   Unnamed: 0  0  1  2  3  4  5  6  7  8  ...  2040  2041  2042  2043  2044  \\\n",
       "0           0  0  0  0  0  0  0  0  0  0  ...     0     0     0     0     0   \n",
       "1           1  0  0  0  0  0  0  0  0  0  ...     0     0     0     0     0   \n",
       "2           2  0  0  0  0  0  0  0  0  0  ...     0     0     0     0     0   \n",
       "3           3  0  1  0  0  0  0  0  0  0  ...     1     0     0     0     0   \n",
       "4           4  0  1  0  0  0  0  0  0  1  ...     0     0     0     0     0   \n",
       "\n",
       "   2045  2046  2047       Name  Activity_class  \n",
       "0     0     0     0   52951311               0  \n",
       "1     0     0     0   13922639               1  \n",
       "2     0     0     0   14312562               1  \n",
       "3     0     0     0    5280462               1  \n",
       "4     1     0     0  101434809               0  \n",
       "\n",
       "[5 rows x 2051 columns]"
      ]
     },
     "execution_count": 112,
     "metadata": {},
     "output_type": "execute_result"
    }
   ],
   "source": [
    "natural_com_fingerprint.head()"
   ]
  },
  {
   "cell_type": "code",
   "execution_count": 113,
   "id": "cb768b3e",
   "metadata": {
    "scrolled": true
   },
   "outputs": [
    {
     "data": {
      "image/png": "[encoded data removed]",
      "text/plain": [
       "<Figure size 1000x600 with 1 Axes>"
      ]
     },
     "metadata": {},
     "output_type": "display_data"
    }
   ],
   "source": [
    "# Create the bar plot\n",
    "plt.figure(figsize=(10, 6))\n",
    "sns.set(style=\"whitegrid\")\n",
    "plot = sns.countplot(x='Activity_class', data=natural_com_fingerprint, palette='viridis')\n",
    "\n",
    "\n",
    "plot.set_xlabel('Activity', fontsize=14)\n",
    "plot.set_ylabel('Count', fontsize=14)\n",
    "# plot.set_title('Distribution of Activity Classes', fontsize=16)\n",
    "\n",
    "\n",
    "\n",
    "for p in plot.patches:\n",
    "    plot.annotate(f'{p.get_height()}', (p.get_x() + p.get_width() / 2., p.get_height()), \n",
    "                  ha='center', va='center', xytext=(0, 10), textcoords='offset points', fontsize=12)\n",
    "\n",
    "\n",
    "plt.tight_layout()\n",
    "\n",
    "plt.savefig('activity_distribution.png', dpi=300, bbox_inches='tight')\n",
    "\n",
    "plt.show()"
   ]
  },
  {
   "cell_type": "markdown",
   "id": "0c512bd4",
   "metadata": {},
   "source": [
    " After running the predictive model, a total of 700 compounds were classified as active, \n",
    " while 693 active compounds were identified as a result of the prediction analysis.\n"
   ]
  },
  {
   "cell_type": "markdown",
   "id": "73e11b6a",
   "metadata": {},
   "source": [
    "## Filtered the dataset to include only compounds classified as biologically active (Activity_class = 1)."
   ]
  },
  {
   "cell_type": "code",
   "execution_count": 114,
   "id": "d8f8b79f",
   "metadata": {},
   "outputs": [],
   "source": [
    "filtered_compounds = natural_com_fingerprint[natural_com_fingerprint['Activity_class'] == 1]"
   ]
  },
  {
   "cell_type": "code",
   "execution_count": 115,
   "id": "b54318ac",
   "metadata": {},
   "outputs": [
    {
     "data": {
      "text/html": [
       "<div>\n",
       "<style scoped>\n",
       "    .dataframe tbody tr th:only-of-type {\n",
       "        vertical-align: middle;\n",
       "    }\n",
       "\n",
       "    .dataframe tbody tr th {\n",
       "        vertical-align: top;\n",
       "    }\n",
       "\n",
       "    .dataframe thead th {\n",
       "        text-align: right;\n",
       "    }\n",
       "</style>\n",
       "<table border=\"1\" class=\"dataframe\">\n",
       "  <thead>\n",
       "    <tr style=\"text-align: right;\">\n",
       "      <th></th>\n",
       "      <th>Unnamed: 0</th>\n",
       "      <th>0</th>\n",
       "      <th>1</th>\n",
       "      <th>2</th>\n",
       "      <th>3</th>\n",
       "      <th>4</th>\n",
       "      <th>5</th>\n",
       "      <th>6</th>\n",
       "      <th>7</th>\n",
       "      <th>8</th>\n",
       "      <th>...</th>\n",
       "      <th>2040</th>\n",
       "      <th>2041</th>\n",
       "      <th>2042</th>\n",
       "      <th>2043</th>\n",
       "      <th>2044</th>\n",
       "      <th>2045</th>\n",
       "      <th>2046</th>\n",
       "      <th>2047</th>\n",
       "      <th>Name</th>\n",
       "      <th>Activity_class</th>\n",
       "    </tr>\n",
       "  </thead>\n",
       "  <tbody>\n",
       "    <tr>\n",
       "      <th>1</th>\n",
       "      <td>1</td>\n",
       "      <td>0</td>\n",
       "      <td>0</td>\n",
       "      <td>0</td>\n",
       "      <td>0</td>\n",
       "      <td>0</td>\n",
       "      <td>0</td>\n",
       "      <td>0</td>\n",
       "      <td>0</td>\n",
       "      <td>0</td>\n",
       "      <td>...</td>\n",
       "      <td>0</td>\n",
       "      <td>0</td>\n",
       "      <td>0</td>\n",
       "      <td>0</td>\n",
       "      <td>0</td>\n",
       "      <td>0</td>\n",
       "      <td>0</td>\n",
       "      <td>0</td>\n",
       "      <td>13922639</td>\n",
       "      <td>1</td>\n",
       "    </tr>\n",
       "    <tr>\n",
       "      <th>2</th>\n",
       "      <td>2</td>\n",
       "      <td>0</td>\n",
       "      <td>0</td>\n",
       "      <td>0</td>\n",
       "      <td>0</td>\n",
       "      <td>0</td>\n",
       "      <td>0</td>\n",
       "      <td>0</td>\n",
       "      <td>0</td>\n",
       "      <td>0</td>\n",
       "      <td>...</td>\n",
       "      <td>0</td>\n",
       "      <td>0</td>\n",
       "      <td>0</td>\n",
       "      <td>0</td>\n",
       "      <td>0</td>\n",
       "      <td>0</td>\n",
       "      <td>0</td>\n",
       "      <td>0</td>\n",
       "      <td>14312562</td>\n",
       "      <td>1</td>\n",
       "    </tr>\n",
       "    <tr>\n",
       "      <th>3</th>\n",
       "      <td>3</td>\n",
       "      <td>0</td>\n",
       "      <td>1</td>\n",
       "      <td>0</td>\n",
       "      <td>0</td>\n",
       "      <td>0</td>\n",
       "      <td>0</td>\n",
       "      <td>0</td>\n",
       "      <td>0</td>\n",
       "      <td>0</td>\n",
       "      <td>...</td>\n",
       "      <td>1</td>\n",
       "      <td>0</td>\n",
       "      <td>0</td>\n",
       "      <td>0</td>\n",
       "      <td>0</td>\n",
       "      <td>0</td>\n",
       "      <td>0</td>\n",
       "      <td>0</td>\n",
       "      <td>5280462</td>\n",
       "      <td>1</td>\n",
       "    </tr>\n",
       "    <tr>\n",
       "      <th>7</th>\n",
       "      <td>7</td>\n",
       "      <td>0</td>\n",
       "      <td>0</td>\n",
       "      <td>0</td>\n",
       "      <td>0</td>\n",
       "      <td>0</td>\n",
       "      <td>0</td>\n",
       "      <td>0</td>\n",
       "      <td>0</td>\n",
       "      <td>0</td>\n",
       "      <td>...</td>\n",
       "      <td>0</td>\n",
       "      <td>0</td>\n",
       "      <td>0</td>\n",
       "      <td>0</td>\n",
       "      <td>0</td>\n",
       "      <td>0</td>\n",
       "      <td>0</td>\n",
       "      <td>0</td>\n",
       "      <td>364746</td>\n",
       "      <td>1</td>\n",
       "    </tr>\n",
       "    <tr>\n",
       "      <th>8</th>\n",
       "      <td>8</td>\n",
       "      <td>0</td>\n",
       "      <td>1</td>\n",
       "      <td>0</td>\n",
       "      <td>0</td>\n",
       "      <td>0</td>\n",
       "      <td>0</td>\n",
       "      <td>0</td>\n",
       "      <td>0</td>\n",
       "      <td>1</td>\n",
       "      <td>...</td>\n",
       "      <td>0</td>\n",
       "      <td>0</td>\n",
       "      <td>0</td>\n",
       "      <td>0</td>\n",
       "      <td>0</td>\n",
       "      <td>0</td>\n",
       "      <td>0</td>\n",
       "      <td>0</td>\n",
       "      <td>388300</td>\n",
       "      <td>1</td>\n",
       "    </tr>\n",
       "  </tbody>\n",
       "</table>\n",
       "<p>5 rows × 2051 columns</p>\n",
       "</div>"
      ],
      "text/plain": [
       "   Unnamed: 0  0  1  2  3  4  5  6  7  8  ...  2040  2041  2042  2043  2044  \\\n",
       "1           1  0  0  0  0  0  0  0  0  0  ...     0     0     0     0     0   \n",
       "2           2  0  0  0  0  0  0  0  0  0  ...     0     0     0     0     0   \n",
       "3           3  0  1  0  0  0  0  0  0  0  ...     1     0     0     0     0   \n",
       "7           7  0  0  0  0  0  0  0  0  0  ...     0     0     0     0     0   \n",
       "8           8  0  1  0  0  0  0  0  0  1  ...     0     0     0     0     0   \n",
       "\n",
       "   2045  2046  2047      Name  Activity_class  \n",
       "1     0     0     0  13922639               1  \n",
       "2     0     0     0  14312562               1  \n",
       "3     0     0     0   5280462               1  \n",
       "7     0     0     0    364746               1  \n",
       "8     0     0     0    388300               1  \n",
       "\n",
       "[5 rows x 2051 columns]"
      ]
     },
     "execution_count": 115,
     "metadata": {},
     "output_type": "execute_result"
    }
   ],
   "source": [
    "filtered_compounds.head()"
   ]
  },
  {
   "cell_type": "code",
   "execution_count": 116,
   "id": "974b886c",
   "metadata": {},
   "outputs": [
    {
     "data": {
      "text/plain": [
       "(693, 2051)"
      ]
     },
     "execution_count": 116,
     "metadata": {},
     "output_type": "execute_result"
    }
   ],
   "source": [
    "filtered_compounds.shape"
   ]
  },
  {
   "cell_type": "code",
   "execution_count": 117,
   "id": "2aa1bb2e",
   "metadata": {},
   "outputs": [],
   "source": [
    "compounds_list = filtered_compounds['Name'].tolist()"
   ]
  },
  {
   "cell_type": "code",
   "execution_count": 118,
   "id": "9f7a4eda",
   "metadata": {},
   "outputs": [],
   "source": [
    "# compounds_list"
   ]
  },
  {
   "cell_type": "markdown",
   "id": "40f854e3",
   "metadata": {},
   "source": [
    "## Collect the SMILES representations of biologically active compounds from the PubChem database.\n"
   ]
  },
  {
   "cell_type": "code",
   "execution_count": 119,
   "id": "3be6537e",
   "metadata": {},
   "outputs": [],
   "source": [
    "def get_smiles_from_cid(cid, i):\n",
    "    url = f\"https://pubchem.ncbi.nlm.nih.gov/rest/pug/compound/cid/{cid}/property/CanonicalSMILES/TXT\"\n",
    "    response = requests.get(url)\n",
    "    \n",
    "    if response.status_code == 200:\n",
    "        print(f\"{i} is done!\")\n",
    "        return response.text.strip()\n",
    "        \n",
    "    else:\n",
    "        print(f\"{i} is unsuccessful!!!!!!!!!!\")\n",
    "        return None"
   ]
  },
  {
   "cell_type": "code",
   "execution_count": 120,
   "id": "7392b575",
   "metadata": {},
   "outputs": [
    {
     "name": "stdout",
     "output_type": "stream",
     "text": [
      "1 is done!\n",
      "2 is done!\n",
      "3 is done!\n",
      "4 is done!\n",
      "5 is done!\n",
      "6 is done!\n",
      "7 is done!\n",
      "8 is done!\n",
      "9 is done!\n",
      "10 is done!\n",
      "11 is done!\n",
      "12 is done!\n",
      "13 is done!\n",
      "14 is done!\n",
      "15 is done!\n",
      "16 is done!\n",
      "17 is done!\n",
      "18 is done!\n",
      "19 is done!\n",
      "20 is done!\n",
      "21 is done!\n",
      "22 is done!\n",
      "23 is done!\n",
      "24 is done!\n",
      "25 is done!\n",
      "26 is done!\n",
      "27 is done!\n",
      "28 is done!\n",
      "29 is done!\n",
      "30 is done!\n",
      "31 is done!\n",
      "32 is done!\n",
      "33 is done!\n",
      "34 is done!\n",
      "35 is done!\n",
      "36 is done!\n",
      "37 is done!\n",
      "38 is done!\n",
      "39 is done!\n",
      "40 is done!\n",
      "41 is done!\n",
      "42 is done!\n",
      "43 is done!\n",
      "44 is done!\n",
      "45 is done!\n",
      "46 is done!\n",
      "47 is done!\n",
      "48 is done!\n",
      "49 is done!\n",
      "50 is done!\n",
      "51 is done!\n",
      "52 is done!\n",
      "53 is done!\n",
      "54 is done!\n",
      "55 is done!\n",
      "56 is done!\n",
      "57 is done!\n",
      "58 is done!\n",
      "59 is done!\n",
      "60 is done!\n",
      "61 is done!\n",
      "62 is done!\n",
      "63 is done!\n",
      "64 is done!\n",
      "65 is done!\n",
      "66 is done!\n",
      "67 is done!\n",
      "68 is done!\n",
      "69 is done!\n",
      "70 is done!\n",
      "71 is done!\n",
      "72 is done!\n",
      "73 is done!\n",
      "74 is done!\n",
      "75 is done!\n",
      "76 is done!\n",
      "77 is done!\n",
      "78 is done!\n",
      "79 is done!\n",
      "80 is done!\n",
      "81 is done!\n",
      "82 is done!\n",
      "83 is done!\n",
      "84 is done!\n",
      "85 is done!\n",
      "86 is done!\n",
      "87 is done!\n",
      "88 is done!\n",
      "89 is done!\n",
      "90 is done!\n",
      "91 is done!\n",
      "92 is done!\n",
      "93 is done!\n",
      "94 is done!\n",
      "95 is done!\n",
      "96 is done!\n",
      "97 is done!\n",
      "98 is done!\n",
      "99 is done!\n",
      "100 is done!\n",
      "101 is done!\n",
      "102 is done!\n",
      "103 is done!\n",
      "104 is done!\n",
      "105 is done!\n",
      "106 is done!\n",
      "107 is done!\n",
      "108 is done!\n",
      "109 is done!\n",
      "110 is done!\n",
      "111 is done!\n",
      "112 is done!\n",
      "113 is done!\n",
      "114 is done!\n",
      "115 is done!\n",
      "116 is done!\n",
      "117 is done!\n",
      "118 is done!\n",
      "119 is done!\n",
      "120 is done!\n",
      "121 is done!\n",
      "122 is done!\n",
      "123 is done!\n",
      "124 is done!\n",
      "125 is done!\n",
      "126 is done!\n",
      "127 is done!\n",
      "128 is done!\n",
      "129 is done!\n",
      "130 is done!\n",
      "131 is done!\n",
      "132 is done!\n",
      "133 is done!\n",
      "134 is done!\n",
      "135 is done!\n",
      "136 is done!\n",
      "137 is done!\n",
      "138 is done!\n",
      "139 is done!\n",
      "140 is done!\n",
      "141 is done!\n",
      "142 is done!\n",
      "143 is done!\n",
      "144 is done!\n",
      "145 is done!\n",
      "146 is done!\n",
      "147 is done!\n",
      "148 is done!\n",
      "149 is done!\n",
      "150 is done!\n",
      "151 is done!\n",
      "152 is done!\n",
      "153 is done!\n",
      "154 is done!\n",
      "155 is done!\n",
      "156 is done!\n",
      "157 is done!\n",
      "158 is done!\n",
      "159 is done!\n",
      "160 is done!\n",
      "161 is done!\n",
      "162 is done!\n",
      "163 is done!\n",
      "164 is done!\n",
      "165 is done!\n",
      "166 is done!\n",
      "167 is done!\n",
      "168 is done!\n",
      "169 is done!\n",
      "170 is done!\n",
      "171 is done!\n",
      "172 is done!\n",
      "173 is done!\n",
      "174 is done!\n",
      "175 is done!\n",
      "176 is done!\n",
      "177 is done!\n",
      "178 is done!\n",
      "179 is done!\n",
      "180 is done!\n",
      "181 is done!\n",
      "182 is done!\n",
      "183 is done!\n",
      "184 is done!\n",
      "185 is done!\n",
      "186 is done!\n",
      "187 is done!\n",
      "188 is done!\n",
      "189 is done!\n",
      "190 is done!\n",
      "191 is done!\n",
      "192 is done!\n",
      "193 is done!\n",
      "194 is done!\n",
      "195 is done!\n",
      "196 is done!\n",
      "197 is done!\n",
      "198 is done!\n",
      "199 is done!\n",
      "200 is done!\n",
      "201 is done!\n",
      "202 is done!\n",
      "203 is done!\n",
      "204 is done!\n",
      "205 is done!\n",
      "206 is done!\n",
      "207 is done!\n",
      "208 is done!\n",
      "209 is done!\n",
      "210 is done!\n",
      "211 is done!\n",
      "212 is done!\n",
      "213 is done!\n",
      "214 is done!\n",
      "215 is done!\n",
      "216 is done!\n",
      "217 is done!\n",
      "218 is done!\n",
      "219 is done!\n",
      "220 is done!\n",
      "221 is done!\n",
      "222 is done!\n",
      "223 is done!\n",
      "224 is done!\n",
      "225 is done!\n",
      "226 is done!\n",
      "227 is done!\n",
      "228 is done!\n",
      "229 is done!\n",
      "230 is done!\n",
      "231 is done!\n",
      "232 is done!\n",
      "233 is done!\n",
      "234 is done!\n",
      "235 is done!\n",
      "236 is done!\n",
      "237 is done!\n",
      "238 is done!\n",
      "239 is done!\n",
      "240 is done!\n",
      "241 is done!\n",
      "242 is done!\n",
      "243 is done!\n",
      "244 is done!\n",
      "245 is done!\n",
      "246 is done!\n",
      "247 is done!\n",
      "248 is done!\n",
      "249 is done!\n",
      "250 is done!\n",
      "251 is done!\n",
      "252 is done!\n",
      "253 is done!\n",
      "254 is done!\n",
      "255 is done!\n",
      "256 is done!\n",
      "257 is done!\n",
      "258 is done!\n",
      "259 is done!\n",
      "260 is done!\n",
      "261 is done!\n",
      "262 is done!\n",
      "263 is done!\n",
      "264 is done!\n",
      "265 is done!\n",
      "266 is done!\n",
      "267 is done!\n",
      "268 is done!\n",
      "269 is done!\n",
      "270 is done!\n",
      "271 is done!\n",
      "272 is done!\n",
      "273 is done!\n",
      "274 is done!\n",
      "275 is done!\n",
      "276 is done!\n",
      "277 is done!\n",
      "278 is done!\n",
      "279 is done!\n",
      "280 is done!\n",
      "281 is done!\n",
      "282 is done!\n",
      "283 is done!\n",
      "284 is done!\n",
      "285 is done!\n",
      "286 is done!\n",
      "287 is done!\n",
      "288 is done!\n",
      "289 is done!\n",
      "290 is done!\n",
      "291 is done!\n",
      "292 is done!\n",
      "293 is done!\n",
      "294 is done!\n",
      "295 is done!\n",
      "296 is done!\n",
      "297 is done!\n",
      "298 is done!\n",
      "299 is done!\n",
      "300 is done!\n",
      "301 is done!\n",
      "302 is done!\n",
      "303 is done!\n",
      "304 is done!\n",
      "305 is done!\n",
      "306 is done!\n",
      "307 is done!\n",
      "308 is done!\n",
      "309 is done!\n",
      "310 is done!\n",
      "311 is done!\n",
      "312 is done!\n",
      "313 is done!\n",
      "314 is done!\n",
      "315 is done!\n",
      "316 is done!\n",
      "317 is done!\n",
      "318 is done!\n",
      "319 is done!\n",
      "320 is done!\n",
      "321 is done!\n",
      "322 is done!\n",
      "323 is done!\n",
      "324 is done!\n",
      "325 is done!\n",
      "326 is done!\n",
      "327 is done!\n",
      "328 is done!\n",
      "329 is done!\n",
      "330 is done!\n",
      "331 is done!\n",
      "332 is done!\n",
      "333 is done!\n",
      "334 is done!\n",
      "335 is done!\n",
      "336 is done!\n",
      "337 is done!\n",
      "338 is done!\n",
      "339 is done!\n",
      "340 is done!\n",
      "341 is done!\n",
      "342 is done!\n",
      "343 is done!\n",
      "344 is done!\n",
      "345 is done!\n",
      "346 is done!\n",
      "347 is done!\n",
      "348 is done!\n",
      "349 is done!\n",
      "350 is done!\n",
      "351 is done!\n",
      "352 is done!\n",
      "353 is done!\n",
      "354 is done!\n",
      "355 is done!\n",
      "356 is done!\n",
      "357 is done!\n",
      "358 is done!\n",
      "359 is done!\n",
      "360 is done!\n",
      "361 is done!\n",
      "362 is done!\n",
      "363 is done!\n",
      "364 is done!\n",
      "365 is done!\n",
      "366 is done!\n",
      "367 is done!\n",
      "368 is done!\n",
      "369 is done!\n",
      "370 is done!\n",
      "371 is done!\n",
      "372 is done!\n",
      "373 is done!\n",
      "374 is done!\n",
      "375 is done!\n",
      "376 is done!\n",
      "377 is done!\n",
      "378 is done!\n",
      "379 is done!\n",
      "380 is done!\n",
      "381 is done!\n",
      "382 is done!\n",
      "383 is done!\n",
      "384 is done!\n",
      "385 is done!\n",
      "386 is done!\n",
      "387 is done!\n",
      "388 is done!\n",
      "389 is done!\n",
      "390 is done!\n",
      "391 is done!\n",
      "392 is done!\n",
      "393 is done!\n",
      "394 is done!\n",
      "395 is done!\n",
      "396 is done!\n",
      "397 is done!\n",
      "398 is done!\n",
      "399 is done!\n",
      "400 is done!\n",
      "401 is done!\n",
      "402 is done!\n",
      "403 is done!\n",
      "404 is done!\n",
      "405 is done!\n",
      "406 is done!\n",
      "407 is done!\n",
      "408 is done!\n",
      "409 is done!\n",
      "410 is done!\n",
      "411 is done!\n",
      "412 is done!\n",
      "413 is done!\n",
      "414 is done!\n",
      "415 is done!\n",
      "416 is done!\n",
      "417 is done!\n",
      "418 is done!\n",
      "419 is done!\n",
      "420 is done!\n",
      "421 is done!\n",
      "422 is done!\n",
      "423 is done!\n",
      "424 is done!\n",
      "425 is done!\n",
      "426 is done!\n",
      "427 is done!\n",
      "428 is done!\n",
      "429 is done!\n",
      "430 is done!\n",
      "431 is done!\n",
      "432 is done!\n",
      "433 is done!\n",
      "434 is done!\n",
      "435 is done!\n",
      "436 is done!\n",
      "437 is done!\n",
      "438 is done!\n",
      "439 is done!\n",
      "440 is done!\n",
      "441 is done!\n",
      "442 is done!\n",
      "443 is done!\n",
      "444 is done!\n",
      "445 is done!\n",
      "446 is done!\n",
      "447 is done!\n",
      "448 is done!\n",
      "449 is done!\n",
      "450 is done!\n",
      "451 is done!\n",
      "452 is done!\n",
      "453 is done!\n",
      "454 is done!\n",
      "455 is done!\n",
      "456 is done!\n",
      "457 is done!\n",
      "458 is done!\n",
      "459 is done!\n",
      "460 is done!\n",
      "461 is done!\n",
      "462 is done!\n",
      "463 is done!\n",
      "464 is done!\n",
      "465 is done!\n",
      "466 is done!\n",
      "467 is done!\n",
      "468 is done!\n",
      "469 is done!\n",
      "470 is done!\n",
      "471 is done!\n",
      "472 is done!\n",
      "473 is done!\n",
      "474 is done!\n",
      "475 is done!\n",
      "476 is done!\n",
      "477 is done!\n",
      "478 is done!\n",
      "479 is done!\n",
      "480 is done!\n",
      "481 is done!\n",
      "482 is done!\n",
      "483 is done!\n",
      "484 is done!\n",
      "485 is done!\n",
      "486 is done!\n",
      "487 is done!\n",
      "488 is done!\n",
      "489 is done!\n",
      "490 is done!\n",
      "491 is done!\n",
      "492 is done!\n",
      "493 is done!\n",
      "494 is done!\n",
      "495 is done!\n",
      "496 is done!\n",
      "497 is done!\n",
      "498 is done!\n",
      "499 is done!\n",
      "500 is done!\n",
      "501 is done!\n",
      "502 is done!\n",
      "503 is done!\n",
      "504 is done!\n",
      "505 is done!\n",
      "506 is done!\n",
      "507 is done!\n",
      "508 is done!\n",
      "509 is done!\n",
      "510 is done!\n",
      "511 is done!\n",
      "512 is done!\n",
      "513 is done!\n",
      "514 is done!\n",
      "515 is done!\n",
      "516 is done!\n",
      "517 is done!\n",
      "518 is done!\n",
      "519 is done!\n",
      "520 is done!\n",
      "521 is done!\n",
      "522 is done!\n",
      "523 is done!\n",
      "524 is done!\n",
      "525 is done!\n",
      "526 is done!\n",
      "527 is done!\n",
      "528 is done!\n",
      "529 is done!\n",
      "530 is done!\n",
      "531 is done!\n",
      "532 is done!\n",
      "533 is done!\n",
      "534 is done!\n",
      "535 is done!\n",
      "536 is done!\n",
      "537 is done!\n",
      "538 is done!\n",
      "539 is done!\n",
      "540 is done!\n",
      "541 is done!\n",
      "542 is done!\n",
      "543 is done!\n",
      "544 is done!\n",
      "545 is done!\n",
      "546 is done!\n",
      "547 is done!\n",
      "548 is done!\n",
      "549 is done!\n",
      "550 is done!\n",
      "551 is done!\n",
      "552 is done!\n",
      "553 is done!\n",
      "554 is done!\n",
      "555 is done!\n",
      "556 is done!\n",
      "557 is done!\n",
      "558 is done!\n",
      "559 is done!\n",
      "560 is done!\n",
      "561 is done!\n",
      "562 is done!\n",
      "563 is done!\n",
      "564 is done!\n",
      "565 is done!\n",
      "566 is done!\n",
      "567 is done!\n",
      "568 is done!\n",
      "569 is done!\n",
      "570 is done!\n",
      "571 is done!\n",
      "572 is done!\n",
      "573 is done!\n",
      "574 is done!\n",
      "575 is done!\n",
      "576 is done!\n",
      "577 is done!\n",
      "578 is done!\n",
      "579 is done!\n",
      "580 is done!\n",
      "581 is done!\n",
      "582 is done!\n",
      "583 is done!\n",
      "584 is done!\n",
      "585 is done!\n",
      "586 is done!\n",
      "587 is done!\n",
      "588 is done!\n",
      "589 is done!\n",
      "590 is done!\n",
      "591 is done!\n",
      "592 is done!\n",
      "593 is done!\n",
      "594 is done!\n",
      "595 is done!\n",
      "596 is done!\n",
      "597 is done!\n",
      "598 is done!\n",
      "599 is done!\n",
      "600 is done!\n",
      "601 is done!\n",
      "602 is done!\n",
      "603 is done!\n",
      "604 is done!\n",
      "605 is done!\n",
      "606 is done!\n",
      "607 is done!\n",
      "608 is done!\n",
      "609 is done!\n",
      "610 is done!\n",
      "611 is done!\n",
      "612 is done!\n",
      "613 is done!\n",
      "614 is done!\n",
      "615 is done!\n",
      "616 is done!\n",
      "617 is done!\n",
      "618 is done!\n",
      "619 is done!\n",
      "620 is done!\n",
      "621 is done!\n",
      "622 is done!\n",
      "623 is done!\n",
      "624 is done!\n",
      "625 is done!\n",
      "626 is done!\n",
      "627 is done!\n",
      "628 is done!\n",
      "629 is done!\n",
      "630 is done!\n",
      "631 is done!\n",
      "632 is done!\n",
      "633 is done!\n",
      "634 is done!\n",
      "635 is done!\n",
      "636 is done!\n",
      "637 is done!\n",
      "638 is done!\n",
      "639 is done!\n"
     ]
    },
    {
     "name": "stdout",
     "output_type": "stream",
     "text": [
      "640 is done!\n",
      "641 is done!\n",
      "642 is done!\n",
      "643 is done!\n",
      "644 is done!\n",
      "645 is done!\n",
      "646 is done!\n",
      "647 is done!\n",
      "648 is done!\n",
      "649 is done!\n",
      "650 is done!\n",
      "651 is done!\n",
      "652 is done!\n",
      "653 is done!\n",
      "654 is done!\n",
      "655 is done!\n",
      "656 is done!\n",
      "657 is done!\n",
      "658 is done!\n",
      "659 is done!\n",
      "660 is done!\n",
      "661 is done!\n",
      "662 is done!\n",
      "663 is done!\n",
      "664 is done!\n",
      "665 is done!\n",
      "666 is done!\n",
      "667 is done!\n",
      "668 is done!\n",
      "669 is done!\n",
      "670 is done!\n",
      "671 is done!\n",
      "672 is done!\n",
      "673 is done!\n",
      "674 is done!\n",
      "675 is done!\n",
      "676 is done!\n",
      "677 is done!\n",
      "678 is done!\n",
      "679 is done!\n",
      "680 is done!\n",
      "681 is done!\n",
      "682 is done!\n",
      "683 is done!\n",
      "684 is done!\n",
      "685 is done!\n",
      "686 is done!\n",
      "687 is done!\n",
      "688 is done!\n",
      "689 is done!\n",
      "690 is done!\n",
      "691 is done!\n",
      "692 is done!\n",
      "693 is done!\n",
      "successfully extracted\n"
     ]
    }
   ],
   "source": [
    "smi_list = []\n",
    "i = 1\n",
    "\n",
    "for cid in compounds_list:\n",
    "    smi = get_smiles_from_cid(cid,i)\n",
    "    smi_list.append({\"CID\": cid, 'SMILES': smi})\n",
    "    i +=1\n",
    "print('successfully extracted')"
   ]
  },
  {
   "cell_type": "code",
   "execution_count": 121,
   "id": "338375f6",
   "metadata": {},
   "outputs": [
    {
     "name": "stdout",
     "output_type": "stream",
     "text": [
      "Successfully created\n"
     ]
    }
   ],
   "source": [
    "smi_df = pd.DataFrame(smi_list)\n",
    "smi_df.to_excel(\"bioactive_smiles.xlsx\", index=False)\n",
    "print(\"Successfully created\")"
   ]
  },
  {
   "cell_type": "markdown",
   "id": "0291b827",
   "metadata": {},
   "source": [
    "## Measure similarity using the QSAR method by comparing the structures of 11 FDA-approved drugs."
   ]
  },
  {
   "cell_type": "markdown",
   "id": "e7341d93",
   "metadata": {},
   "source": [
    "### Calculate Morgan Tanimoto structure similarity.\n"
   ]
  },
  {
   "cell_type": "code",
   "execution_count": 122,
   "id": "cff61c92",
   "metadata": {},
   "outputs": [],
   "source": [
    "# List of SMILES for the query drugs\n",
    "query_smiles = [\n",
    "    \"CC1=CC=C(C=C1)C2=CC(=NN2C3=CC=C(C=C3)S(=O)(=O)N)C(F)(F)F\",  # Celecoxib\n",
    "    \"CS(=O)(=O)C1=CC=C(C=C1)C2=C(C(=O)OC2)C3=CC=CC=C3\",         # Rofecoxib\n",
    "    \"CC1=C(C(=NO1)C2=CC=CC=C2)C3=CC=C(C=C3)S(=O)(=O)N\",         # Valdecoxib\n",
    "    \"CC1=NC=C(C=C1)C2=C(C=C(C=N2)Cl)C3=CC=C(C=C3)S(=O)(=O)C\",   # Etoricoxib\n",
    "    \"CC(C)CC1=CC=C(C=C1)C(C)C(=O)O\",                             # Ibuprofen\n",
    "    \"CC1=CC(=C(C=C1)NC2=C(C=CC=C2Cl)F)CC(=O)O\",                  # Lumiracoxib\n",
    "    \"CC1=CN=C(S1)NC(=O)C2=C(C3=CC=CC=C3S(=O)(=O)N2C)O\",         # Meloxicam\n",
    "    \"CC(=O)CCC1=CC2=C(C=C1)C=C(C=C2)OC\",                         # Nabumetone\n",
    "    \"C1=CC=C(C(=C1)CC(=O)O)NC2=C(C=CC=C2Cl)Cl\",                  # Diclofenac\n",
    "    \"CCC1=C2C(=CC=C1)C3=C(N2)C(OCC3)(CC)CC(=O)O\",                # Etodolac\n",
    "    \"CC(=O)OC1=CC=CC=C1C(=O)O\"                                   # Aspirin\n",
    "]"
   ]
  },
  {
   "cell_type": "code",
   "execution_count": 123,
   "id": "d6aebb68",
   "metadata": {},
   "outputs": [],
   "source": [
    "drug_names = [\n",
    "    'Celecoxib',\n",
    "    'Rofecoxib',\n",
    "    'Valdecoxib',\n",
    "    'Etoricoxib',\n",
    "    'Ibuprofen',\n",
    "    'Lumiracoxib',\n",
    "    'Meloxicam',\n",
    "    'Nabumetone',\n",
    "    'Diclofenac',\n",
    "    'Etodolac',\n",
    "    'Aspirin'\n",
    "]"
   ]
  },
  {
   "cell_type": "code",
   "execution_count": 124,
   "id": "66033ac5",
   "metadata": {},
   "outputs": [],
   "source": [
    "smiles_df = pd.read_excel(\"bioactive_smiles.xlsx\")"
   ]
  },
  {
   "cell_type": "code",
   "execution_count": 125,
   "id": "d1c22622",
   "metadata": {},
   "outputs": [],
   "source": [
    "smiles_data = smiles_df['SMILES'].to_list()"
   ]
  },
  {
   "cell_type": "code",
   "execution_count": 126,
   "id": "e3f8523b",
   "metadata": {},
   "outputs": [],
   "source": [
    "# Generate fingerprints\n",
    "\n",
    "def generate_ecfp4(smiles_list):\n",
    "    fps = []\n",
    "    for smiles in smiles_list:\n",
    "        mol = Chem.MolFromSmiles(smiles)\n",
    "        if mol is not None:\n",
    "            fp = AllChem.GetMorganFingerprintAsBitVect(mol, radius=2, nBits=2048)\n",
    "            fps.append(fp)\n",
    "    return fps\n",
    "\n",
    "morgan_compound_fps = generate_ecfp4(smiles_data)\n",
    "morgan_query_fps = generate_ecfp4(query_smiles)"
   ]
  },
  {
   "cell_type": "code",
   "execution_count": 127,
   "id": "0c91edd9",
   "metadata": {},
   "outputs": [],
   "source": [
    "# Function to compute Tanimoto similarity\n",
    "def compute_tanimoto(fp1, fp2):\n",
    "    if fp1 is None or fp2 is None:\n",
    "        return None\n",
    "    return DataStructs.TanimotoSimilarity(fp1, fp2)"
   ]
  },
  {
   "cell_type": "code",
   "execution_count": 128,
   "id": "fb4b0e2f",
   "metadata": {},
   "outputs": [],
   "source": [
    "# Compute Tanimoto similarities\n",
    "results = []\n",
    "for query_fp in morgan_query_fps:\n",
    "    similarities = [compute_tanimoto(query_fp, compound_fp) for compound_fp in morgan_compound_fps]\n",
    "    results.append(similarities)"
   ]
  },
  {
   "cell_type": "code",
   "execution_count": 129,
   "id": "30e26e47",
   "metadata": {},
   "outputs": [],
   "source": [
    "# results"
   ]
  },
  {
   "cell_type": "code",
   "execution_count": 130,
   "id": "b6669b66",
   "metadata": {},
   "outputs": [
    {
     "name": "stdout",
     "output_type": "stream",
     "text": [
      "Tanimoto similarity calculations saved to 'tanimoto_similarities.csv'\n"
     ]
    }
   ],
   "source": [
    "# Create a DataFrame to store the results\n",
    "similarity_df = pd.DataFrame(results, \n",
    "                             columns=smiles_df[\"CID\"].tolist(), \n",
    "                             index=drug_names)\n",
    "similarity_df.index.name = \"Drug Name\"\n",
    "\n",
    "# Save results to CSV\n",
    "similarity_df.to_csv('tanimoto_similarities.csv')\n",
    "\n",
    "print(\"Tanimoto similarity calculations saved to 'tanimoto_similarities.csv'\")"
   ]
  },
  {
   "cell_type": "code",
   "execution_count": 131,
   "id": "7ef42d07",
   "metadata": {},
   "outputs": [
    {
     "data": {
      "text/html": [
       "<div>\n",
       "<style scoped>\n",
       "    .dataframe tbody tr th:only-of-type {\n",
       "        vertical-align: middle;\n",
       "    }\n",
       "\n",
       "    .dataframe tbody tr th {\n",
       "        vertical-align: top;\n",
       "    }\n",
       "\n",
       "    .dataframe thead th {\n",
       "        text-align: right;\n",
       "    }\n",
       "</style>\n",
       "<table border=\"1\" class=\"dataframe\">\n",
       "  <thead>\n",
       "    <tr style=\"text-align: right;\">\n",
       "      <th></th>\n",
       "      <th>Drug Name</th>\n",
       "      <th>13922639</th>\n",
       "      <th>14312562</th>\n",
       "      <th>5280462</th>\n",
       "      <th>364746</th>\n",
       "      <th>388300</th>\n",
       "      <th>387980</th>\n",
       "      <th>549895</th>\n",
       "      <th>14396466</th>\n",
       "      <th>457801</th>\n",
       "      <th>...</th>\n",
       "      <th>11468</th>\n",
       "      <th>660</th>\n",
       "      <th>13789</th>\n",
       "      <th>6429022</th>\n",
       "      <th>10083</th>\n",
       "      <th>580151</th>\n",
       "      <th>6421258</th>\n",
       "      <th>138824</th>\n",
       "      <th>5280933</th>\n",
       "      <th>5324289</th>\n",
       "    </tr>\n",
       "  </thead>\n",
       "  <tbody>\n",
       "    <tr>\n",
       "      <th>0</th>\n",
       "      <td>Celecoxib</td>\n",
       "      <td>0.059701</td>\n",
       "      <td>0.047619</td>\n",
       "      <td>0.073529</td>\n",
       "      <td>0.054348</td>\n",
       "      <td>0.046296</td>\n",
       "      <td>0.049505</td>\n",
       "      <td>0.098361</td>\n",
       "      <td>0.089552</td>\n",
       "      <td>0.057471</td>\n",
       "      <td>...</td>\n",
       "      <td>0.049180</td>\n",
       "      <td>0.068966</td>\n",
       "      <td>0.050633</td>\n",
       "      <td>0.133333</td>\n",
       "      <td>0.062500</td>\n",
       "      <td>0.068182</td>\n",
       "      <td>0.079365</td>\n",
       "      <td>0.017544</td>\n",
       "      <td>0.065574</td>\n",
       "      <td>0.060241</td>\n",
       "    </tr>\n",
       "    <tr>\n",
       "      <th>1</th>\n",
       "      <td>Rofecoxib</td>\n",
       "      <td>0.086207</td>\n",
       "      <td>0.081081</td>\n",
       "      <td>0.120690</td>\n",
       "      <td>0.112500</td>\n",
       "      <td>0.082474</td>\n",
       "      <td>0.101124</td>\n",
       "      <td>0.035088</td>\n",
       "      <td>0.101695</td>\n",
       "      <td>0.063291</td>\n",
       "      <td>...</td>\n",
       "      <td>0.076923</td>\n",
       "      <td>0.200000</td>\n",
       "      <td>0.102941</td>\n",
       "      <td>0.090909</td>\n",
       "      <td>0.153846</td>\n",
       "      <td>0.102564</td>\n",
       "      <td>0.052632</td>\n",
       "      <td>0.020408</td>\n",
       "      <td>0.075472</td>\n",
       "      <td>0.081081</td>\n",
       "    </tr>\n",
       "    <tr>\n",
       "      <th>2</th>\n",
       "      <td>Valdecoxib</td>\n",
       "      <td>0.064516</td>\n",
       "      <td>0.064103</td>\n",
       "      <td>0.079365</td>\n",
       "      <td>0.108434</td>\n",
       "      <td>0.069307</td>\n",
       "      <td>0.074468</td>\n",
       "      <td>0.033333</td>\n",
       "      <td>0.079365</td>\n",
       "      <td>0.074074</td>\n",
       "      <td>...</td>\n",
       "      <td>0.053571</td>\n",
       "      <td>0.140000</td>\n",
       "      <td>0.068493</td>\n",
       "      <td>0.086207</td>\n",
       "      <td>0.125000</td>\n",
       "      <td>0.085366</td>\n",
       "      <td>0.050000</td>\n",
       "      <td>0.019231</td>\n",
       "      <td>0.071429</td>\n",
       "      <td>0.064103</td>\n",
       "    </tr>\n",
       "    <tr>\n",
       "      <th>3</th>\n",
       "      <td>Etoricoxib</td>\n",
       "      <td>0.061538</td>\n",
       "      <td>0.088608</td>\n",
       "      <td>0.075758</td>\n",
       "      <td>0.055556</td>\n",
       "      <td>0.047170</td>\n",
       "      <td>0.061224</td>\n",
       "      <td>0.048387</td>\n",
       "      <td>0.109375</td>\n",
       "      <td>0.046512</td>\n",
       "      <td>...</td>\n",
       "      <td>0.050847</td>\n",
       "      <td>0.071429</td>\n",
       "      <td>0.051948</td>\n",
       "      <td>0.100000</td>\n",
       "      <td>0.047619</td>\n",
       "      <td>0.057471</td>\n",
       "      <td>0.047619</td>\n",
       "      <td>0.037037</td>\n",
       "      <td>0.050000</td>\n",
       "      <td>0.061728</td>\n",
       "    </tr>\n",
       "    <tr>\n",
       "      <th>4</th>\n",
       "      <td>Ibuprofen</td>\n",
       "      <td>0.142857</td>\n",
       "      <td>0.140625</td>\n",
       "      <td>0.137255</td>\n",
       "      <td>0.051282</td>\n",
       "      <td>0.088889</td>\n",
       "      <td>0.109756</td>\n",
       "      <td>0.130435</td>\n",
       "      <td>0.137255</td>\n",
       "      <td>0.132353</td>\n",
       "      <td>...</td>\n",
       "      <td>0.139535</td>\n",
       "      <td>0.093023</td>\n",
       "      <td>0.062500</td>\n",
       "      <td>0.127660</td>\n",
       "      <td>0.127660</td>\n",
       "      <td>0.112676</td>\n",
       "      <td>0.127660</td>\n",
       "      <td>0.162162</td>\n",
       "      <td>0.162791</td>\n",
       "      <td>0.057971</td>\n",
       "    </tr>\n",
       "  </tbody>\n",
       "</table>\n",
       "<p>5 rows × 694 columns</p>\n",
       "</div>"
      ],
      "text/plain": [
       "    Drug Name  13922639  14312562   5280462    364746    388300    387980  \\\n",
       "0   Celecoxib  0.059701  0.047619  0.073529  0.054348  0.046296  0.049505   \n",
       "1   Rofecoxib  0.086207  0.081081  0.120690  0.112500  0.082474  0.101124   \n",
       "2  Valdecoxib  0.064516  0.064103  0.079365  0.108434  0.069307  0.074468   \n",
       "3  Etoricoxib  0.061538  0.088608  0.075758  0.055556  0.047170  0.061224   \n",
       "4   Ibuprofen  0.142857  0.140625  0.137255  0.051282  0.088889  0.109756   \n",
       "\n",
       "     549895  14396466    457801  ...     11468       660     13789   6429022  \\\n",
       "0  0.098361  0.089552  0.057471  ...  0.049180  0.068966  0.050633  0.133333   \n",
       "1  0.035088  0.101695  0.063291  ...  0.076923  0.200000  0.102941  0.090909   \n",
       "2  0.033333  0.079365  0.074074  ...  0.053571  0.140000  0.068493  0.086207   \n",
       "3  0.048387  0.109375  0.046512  ...  0.050847  0.071429  0.051948  0.100000   \n",
       "4  0.130435  0.137255  0.132353  ...  0.139535  0.093023  0.062500  0.127660   \n",
       "\n",
       "      10083    580151   6421258    138824   5280933   5324289  \n",
       "0  0.062500  0.068182  0.079365  0.017544  0.065574  0.060241  \n",
       "1  0.153846  0.102564  0.052632  0.020408  0.075472  0.081081  \n",
       "2  0.125000  0.085366  0.050000  0.019231  0.071429  0.064103  \n",
       "3  0.047619  0.057471  0.047619  0.037037  0.050000  0.061728  \n",
       "4  0.127660  0.112676  0.127660  0.162162  0.162791  0.057971  \n",
       "\n",
       "[5 rows x 694 columns]"
      ]
     },
     "execution_count": 131,
     "metadata": {},
     "output_type": "execute_result"
    }
   ],
   "source": [
    "t_similarities = pd.read_csv(\"tanimoto_similarities.csv\")\n",
    "t_similarities.head()"
   ]
  },
  {
   "cell_type": "code",
   "execution_count": 132,
   "id": "e6e7b331",
   "metadata": {},
   "outputs": [
    {
     "name": "stdout",
     "output_type": "stream",
     "text": [
      "Excel file 'top_similarities_morgan_t.xlsx' has been created.\n"
     ]
    }
   ],
   "source": [
    "# List to hold the results\n",
    "results = []\n",
    "\n",
    "# Iterate over each drug and compute top 5 similarities\n",
    "for d in drug_names:\n",
    "    # Select the row for the current drug\n",
    "    query_similarities = t_similarities[t_similarities['Drug Name'] == d].iloc[:, 1:]\n",
    "\n",
    "    # Sort similarity scores in descending order\n",
    "    sorted_similarities = query_similarities.values.flatten().argsort()[::-1]\n",
    "\n",
    "    # Get top 5 similar compounds\n",
    "    top_n = 5\n",
    "    top_compounds = query_similarities.columns[sorted_similarities[:top_n]]\n",
    "    top_scores = query_similarities.values.flatten()[sorted_similarities[:top_n]]\n",
    "\n",
    "    # Append the results to the list\n",
    "    for compound, score in zip(top_compounds, top_scores):\n",
    "        results.append({\n",
    "            'Drug Name': d,\n",
    "            'Compound': compound,\n",
    "            'Similarity': score\n",
    "        })\n",
    "\n",
    "# Create a DataFrame from the results\n",
    "results_df = pd.DataFrame(results)\n",
    "\n",
    "# # Export the DataFrame to an Excel file\n",
    "results_df.to_excel('top_similarities_morgan_t.xlsx', index=False)\n",
    "\n",
    "print(\"Excel file 'top_similarities_morgan_t.xlsx' has been created.\")\n",
    "# results_df"
   ]
  },
  {
   "cell_type": "markdown",
   "id": "9e712626",
   "metadata": {},
   "source": [
    "### Calculate Morgan dice structure similarity."
   ]
  },
  {
   "cell_type": "code",
   "execution_count": 133,
   "id": "b26f62a6",
   "metadata": {},
   "outputs": [],
   "source": [
    "cid_data = smiles_df['CID'].to_list()"
   ]
  },
  {
   "cell_type": "code",
   "execution_count": 134,
   "id": "44f6f970",
   "metadata": {},
   "outputs": [
    {
     "name": "stdout",
     "output_type": "stream",
     "text": [
      "Excel file 'top_similarities_morgan_dice.xlsx' has been created.\n"
     ]
    }
   ],
   "source": [
    "top_5_similarities = []\n",
    "for j, drug_fp in enumerate(morgan_query_fps):\n",
    "    # Calculate similarities with all compounds\n",
    "    similarities = [DiceSimilarity(compound_fp, drug_fp) for compound_fp in morgan_compound_fps]\n",
    "    \n",
    "    \n",
    "#     # Create a list of tuples (similarity, compound_name)\n",
    "    similarities_with_compounds = list(zip(similarities, cid_data))\n",
    "#     print(similarities_with_compounds)\n",
    "    \n",
    "#     # Sort by similarity (descending) and take the top 5\n",
    "    top_5 = sorted(similarities_with_compounds, key=lambda x: x[0], reverse=True)[:5]\n",
    "    \n",
    "    \n",
    "#     # Store the result (drug name, top 5 similarities)\n",
    "    top_5_similarities.append({\n",
    "        'Drug': drug_names[j],\n",
    "        'Top_5_Similarities': top_5\n",
    "    })\n",
    "\n",
    "# Convert the result to a DataFrame for easy viewing\n",
    "top_5_df = pd.DataFrame(top_5_similarities)\n",
    "\n",
    "# Print the DataFrame\n",
    "top_5_df.to_excel('top_similarities_morgan_dice.xlsx', index=False)\n",
    "\n",
    "print(\"Excel file 'top_similarities_morgan_dice.xlsx' has been created.\")"
   ]
  },
  {
   "cell_type": "markdown",
   "id": "cba4ecd2",
   "metadata": {},
   "source": [
    "### Calculate Tonimato MACCS structure similarity."
   ]
  },
  {
   "cell_type": "code",
   "execution_count": 135,
   "id": "76b394f4",
   "metadata": {},
   "outputs": [],
   "source": [
    "def smiles_to_maccs_fingerprints(smiles_list):\n",
    "    # Convert SMILES to RDKit molecule objects\n",
    "    mol_objects = [Chem.MolFromSmiles(smile) for smile in smiles_list]\n",
    "    \n",
    "    # Generate MACCS fingerprints\n",
    "    fingerprints = [MACCSkeys.GenMACCSKeys(mol) for mol in mol_objects]\n",
    "    \n",
    "    return fingerprints"
   ]
  },
  {
   "cell_type": "code",
   "execution_count": 136,
   "id": "27c6bdc2",
   "metadata": {},
   "outputs": [],
   "source": [
    "# query_smiles"
   ]
  },
  {
   "cell_type": "code",
   "execution_count": 137,
   "id": "33639f3e",
   "metadata": {},
   "outputs": [],
   "source": [
    "maccs_compound_fps= smiles_to_maccs_fingerprints(smiles_data)\n",
    "maccs_query_fps = smiles_to_maccs_fingerprints(query_smiles)"
   ]
  },
  {
   "cell_type": "code",
   "execution_count": 138,
   "id": "ede69108",
   "metadata": {},
   "outputs": [],
   "source": [
    "# compound_fps"
   ]
  },
  {
   "cell_type": "code",
   "execution_count": 139,
   "id": "ae5e0fed",
   "metadata": {},
   "outputs": [],
   "source": [
    "def calculate_tanimoto_similarity(maccs_compound_fps, maccs_query_fps):\n",
    "    # Initialize an empty similarity matrix\n",
    "    similarity_matrix = np.zeros((len(maccs_compound_fps), len(maccs_query_fps)))\n",
    "    \n",
    "    # Calculate Tanimoto similarity for each compound-query pair\n",
    "    for i, compound_fp in enumerate(maccs_compound_fps):\n",
    "        for j, query_fp in enumerate(maccs_query_fps):\n",
    "            similarity_matrix[i, j] = DataStructs.FingerprintSimilarity(compound_fp, query_fp)\n",
    "    \n",
    "    return similarity_matrix"
   ]
  },
  {
   "cell_type": "code",
   "execution_count": 140,
   "id": "ff528cbe",
   "metadata": {},
   "outputs": [
    {
     "data": {
      "text/html": [
       "<div>\n",
       "<style scoped>\n",
       "    .dataframe tbody tr th:only-of-type {\n",
       "        vertical-align: middle;\n",
       "    }\n",
       "\n",
       "    .dataframe tbody tr th {\n",
       "        vertical-align: top;\n",
       "    }\n",
       "\n",
       "    .dataframe thead th {\n",
       "        text-align: right;\n",
       "    }\n",
       "</style>\n",
       "<table border=\"1\" class=\"dataframe\">\n",
       "  <thead>\n",
       "    <tr style=\"text-align: right;\">\n",
       "      <th></th>\n",
       "      <th>Celecoxib</th>\n",
       "      <th>Rofecoxib</th>\n",
       "      <th>Valdecoxib</th>\n",
       "      <th>Etoricoxib</th>\n",
       "      <th>Ibuprofen</th>\n",
       "      <th>Lumiracoxib</th>\n",
       "      <th>Meloxicam</th>\n",
       "      <th>Nabumetone</th>\n",
       "      <th>Diclofenac</th>\n",
       "      <th>Etodolac</th>\n",
       "      <th>Aspirin</th>\n",
       "    </tr>\n",
       "  </thead>\n",
       "  <tbody>\n",
       "    <tr>\n",
       "      <th>0</th>\n",
       "      <td>0.089744</td>\n",
       "      <td>0.254237</td>\n",
       "      <td>0.126761</td>\n",
       "      <td>0.123077</td>\n",
       "      <td>0.363636</td>\n",
       "      <td>0.270833</td>\n",
       "      <td>0.240964</td>\n",
       "      <td>0.309524</td>\n",
       "      <td>0.234043</td>\n",
       "      <td>0.344828</td>\n",
       "      <td>0.378378</td>\n",
       "    </tr>\n",
       "    <tr>\n",
       "      <th>1</th>\n",
       "      <td>0.100000</td>\n",
       "      <td>0.333333</td>\n",
       "      <td>0.146341</td>\n",
       "      <td>0.144737</td>\n",
       "      <td>0.311111</td>\n",
       "      <td>0.293103</td>\n",
       "      <td>0.258065</td>\n",
       "      <td>0.301887</td>\n",
       "      <td>0.263158</td>\n",
       "      <td>0.460317</td>\n",
       "      <td>0.354167</td>\n",
       "    </tr>\n",
       "    <tr>\n",
       "      <th>2</th>\n",
       "      <td>0.094595</td>\n",
       "      <td>0.272727</td>\n",
       "      <td>0.134328</td>\n",
       "      <td>0.131148</td>\n",
       "      <td>0.413793</td>\n",
       "      <td>0.295455</td>\n",
       "      <td>0.222222</td>\n",
       "      <td>0.342105</td>\n",
       "      <td>0.255814</td>\n",
       "      <td>0.298246</td>\n",
       "      <td>0.382353</td>\n",
       "    </tr>\n",
       "    <tr>\n",
       "      <th>3</th>\n",
       "      <td>0.151163</td>\n",
       "      <td>0.396825</td>\n",
       "      <td>0.205128</td>\n",
       "      <td>0.191781</td>\n",
       "      <td>0.229167</td>\n",
       "      <td>0.190476</td>\n",
       "      <td>0.285714</td>\n",
       "      <td>0.380000</td>\n",
       "      <td>0.161290</td>\n",
       "      <td>0.508197</td>\n",
       "      <td>0.326531</td>\n",
       "    </tr>\n",
       "    <tr>\n",
       "      <th>4</th>\n",
       "      <td>0.133333</td>\n",
       "      <td>0.358209</td>\n",
       "      <td>0.182927</td>\n",
       "      <td>0.168831</td>\n",
       "      <td>0.240000</td>\n",
       "      <td>0.200000</td>\n",
       "      <td>0.276596</td>\n",
       "      <td>0.411765</td>\n",
       "      <td>0.171875</td>\n",
       "      <td>0.507937</td>\n",
       "      <td>0.333333</td>\n",
       "    </tr>\n",
       "  </tbody>\n",
       "</table>\n",
       "</div>"
      ],
      "text/plain": [
       "   Celecoxib  Rofecoxib  Valdecoxib  Etoricoxib  Ibuprofen  Lumiracoxib  \\\n",
       "0   0.089744   0.254237    0.126761    0.123077   0.363636     0.270833   \n",
       "1   0.100000   0.333333    0.146341    0.144737   0.311111     0.293103   \n",
       "2   0.094595   0.272727    0.134328    0.131148   0.413793     0.295455   \n",
       "3   0.151163   0.396825    0.205128    0.191781   0.229167     0.190476   \n",
       "4   0.133333   0.358209    0.182927    0.168831   0.240000     0.200000   \n",
       "\n",
       "   Meloxicam  Nabumetone  Diclofenac  Etodolac   Aspirin  \n",
       "0   0.240964    0.309524    0.234043  0.344828  0.378378  \n",
       "1   0.258065    0.301887    0.263158  0.460317  0.354167  \n",
       "2   0.222222    0.342105    0.255814  0.298246  0.382353  \n",
       "3   0.285714    0.380000    0.161290  0.508197  0.326531  \n",
       "4   0.276596    0.411765    0.171875  0.507937  0.333333  "
      ]
     },
     "execution_count": 140,
     "metadata": {},
     "output_type": "execute_result"
    }
   ],
   "source": [
    "# Calculate Tanimoto similarities\n",
    "similarity_matrix = calculate_tanimoto_similarity(maccs_compound_fps, maccs_query_fps)\n",
    "\n",
    "# Convert the similarity matrix to a DataFrame for better visualization\n",
    "similarity_df = pd.DataFrame(similarity_matrix, columns=[drug for drug in drug_names])\n",
    "\n",
    "# Display the similarity DataFrame\n",
    "similarity_df.head()"
   ]
  },
  {
   "cell_type": "code",
   "execution_count": 141,
   "id": "19453db4",
   "metadata": {},
   "outputs": [
    {
     "name": "stdout",
     "output_type": "stream",
     "text": [
      "Excel file 'top_similarities_maccs_t.xlsx' has been created.\n"
     ]
    }
   ],
   "source": [
    "def get_top_n_similarities_per_drug(df, n=5):\n",
    "    top_n_results = []\n",
    "    \n",
    "    for col in df.columns:\n",
    "        top_n_indices = df[col].nlargest(n).index\n",
    "        top_n_values = df[col].nlargest(n).values\n",
    "        top_n_results.append({\n",
    "            'Drug_Index': col,\n",
    "            'Top_{}_Compounds'.format(n): [cid_data[idx] for idx in top_n_indices],\n",
    "            'Top_{}_Similarities'.format(n): [val for val in top_n_values]\n",
    "        })\n",
    "        \n",
    "    top_n_df = pd.DataFrame(top_n_results)\n",
    "    return top_n_df\n",
    "\n",
    "# Get the top 5 similarities for each drug\n",
    "top_5_similarities_per_drug_df = get_top_n_similarities_per_drug(similarity_df, n=5)\n",
    "\n",
    "# Display the top 5 similarities for each drug\n",
    "# print(\"\\nTop 5 Similarities for Each Drug:\")\n",
    "top_5_similarities_per_drug_df.to_excel('top_similarities_maccs_t.xlsx', index=False)\n",
    "\n",
    "print(\"Excel file 'top_similarities_maccs_t.xlsx' has been created.\")"
   ]
  },
  {
   "cell_type": "markdown",
   "id": "e40c62c6",
   "metadata": {},
   "source": [
    "### Calculate MACCS dice structure similarity."
   ]
  },
  {
   "cell_type": "code",
   "execution_count": 142,
   "id": "79440642",
   "metadata": {},
   "outputs": [
    {
     "name": "stdout",
     "output_type": "stream",
     "text": [
      "Excel file 'top_similarities_maccs_dice.xlsx' has been created.\n"
     ]
    }
   ],
   "source": [
    "top_5_similarities = []\n",
    "for j, drug_fp in enumerate(maccs_query_fps):\n",
    "    # Calculate similarities with all compounds\n",
    "    similarities = [DiceSimilarity(compound_fp, drug_fp) for compound_fp in maccs_compound_fps]\n",
    "    \n",
    "    \n",
    "#     # Create a list of tuples (similarity, compound_name)\n",
    "    similarities_with_compounds = list(zip(similarities, cid_data))\n",
    "#     print(similarities_with_compounds)\n",
    "    \n",
    "#     # Sort by similarity (descending) and take the top 5\n",
    "    top_5 = sorted(similarities_with_compounds, key=lambda x: x[0], reverse=True)[:5]\n",
    "    \n",
    "    \n",
    "#     # Store the result (drug name, top 5 similarities)\n",
    "    top_5_similarities.append({\n",
    "        'Drug': drug_names[j],\n",
    "        'Top_5_Similarities': top_5\n",
    "    })\n",
    "\n",
    "# Convert the result to a DataFrame for easy viewing\n",
    "top_5_df = pd.DataFrame(top_5_similarities)\n",
    "\n",
    "# Print the DataFrame\n",
    "# Print the DataFrame\n",
    "top_5_df.to_excel('top_similarities_maccs_dice.xlsx', index=False)\n",
    "\n",
    "print(\"Excel file 'top_similarities_maccs_dice.xlsx' has been created.\")"
   ]
  },
  {
   "cell_type": "markdown",
   "id": "adaf7755",
   "metadata": {},
   "source": [
    "## After calculating all the similarity measures, the following 67 selected compounds with their PubChem IDs are identified:\n",
    "The following PubChem CIDs were obtained from Tables S2–S4. Each table includes similarity scores and PubChem CIDs; however, due to overlaps, some CIDs appear in multiple tables. After manual curation, a consolidated list of unique CIDs was generated."
   ]
  },
  {
   "cell_type": "code",
   "execution_count": 143,
   "id": "e0f55726",
   "metadata": {},
   "outputs": [],
   "source": [
    "pubchem_cids = [\n",
    "    89043, 29732, 6422266, 30600429, 621574, 6420227, 442004, 122382587, 12315486,\n",
    "    573993, 85782852, 608924, 253955, 44583637, 17169, 51369, 79730, 660, 8961,\n",
    "    14529, 325, 75316, 9796, 530756, 44537526, 636934, 101306752, 15558574,\n",
    "    101618772, 4133, 338, 54675830, 62341, 5370602, 95376, 91723645, 2519,\n",
    "    135398635, 60961, 2116, 1017, 7247, 6985, 7463, 6811, 68154, 442187, 5570,\n",
    "    610180, 610181, 11903, 219142, 31252, 25915, 7976, 1292, 13879, 566553, 10772,\n",
    "    4680, 44453629, 155173, 120716, 8969, 92766, 643606, 6781\n",
    "]"
   ]
  },
  {
   "cell_type": "code",
   "execution_count": 144,
   "id": "fe92a04a",
   "metadata": {},
   "outputs": [
    {
     "name": "stdout",
     "output_type": "stream",
     "text": [
      "Excel file 'pubchem_ids.xlsx' created successfully!\n"
     ]
    }
   ],
   "source": [
    "selected_com_df = pd.DataFrame(pubchem_cids, columns=[\"PubChem_IDs\"])\n",
    "\n",
    "# Saving the DataFrame to an Excel file\n",
    "selected_com_df.to_excel(\"pubchem_cids.xlsx\", index=False)\n",
    "\n",
    "print(\"Excel file 'pubchem_ids.xlsx' created successfully!\")"
   ]
  },
  {
   "cell_type": "code",
   "execution_count": 145,
   "id": "ad2b40f4",
   "metadata": {},
   "outputs": [
    {
     "data": {
      "text/html": [
       "<div>\n",
       "<style scoped>\n",
       "    .dataframe tbody tr th:only-of-type {\n",
       "        vertical-align: middle;\n",
       "    }\n",
       "\n",
       "    .dataframe tbody tr th {\n",
       "        vertical-align: top;\n",
       "    }\n",
       "\n",
       "    .dataframe thead th {\n",
       "        text-align: right;\n",
       "    }\n",
       "</style>\n",
       "<table border=\"1\" class=\"dataframe\">\n",
       "  <thead>\n",
       "    <tr style=\"text-align: right;\">\n",
       "      <th></th>\n",
       "      <th>PubChem_IDs</th>\n",
       "    </tr>\n",
       "  </thead>\n",
       "  <tbody>\n",
       "    <tr>\n",
       "      <th>0</th>\n",
       "      <td>89043</td>\n",
       "    </tr>\n",
       "    <tr>\n",
       "      <th>1</th>\n",
       "      <td>29732</td>\n",
       "    </tr>\n",
       "    <tr>\n",
       "      <th>2</th>\n",
       "      <td>6422266</td>\n",
       "    </tr>\n",
       "    <tr>\n",
       "      <th>3</th>\n",
       "      <td>30600429</td>\n",
       "    </tr>\n",
       "    <tr>\n",
       "      <th>4</th>\n",
       "      <td>621574</td>\n",
       "    </tr>\n",
       "  </tbody>\n",
       "</table>\n",
       "</div>"
      ],
      "text/plain": [
       "   PubChem_IDs\n",
       "0        89043\n",
       "1        29732\n",
       "2      6422266\n",
       "3     30600429\n",
       "4       621574"
      ]
     },
     "execution_count": 145,
     "metadata": {},
     "output_type": "execute_result"
    }
   ],
   "source": [
    "selected_com_df.head()"
   ]
  },
  {
   "cell_type": "code",
   "execution_count": 146,
   "id": "635e7a21",
   "metadata": {},
   "outputs": [
    {
     "data": {
      "text/plain": [
       "(67, 1)"
      ]
     },
     "execution_count": 146,
     "metadata": {},
     "output_type": "execute_result"
    }
   ],
   "source": [
    "selected_com_df.shape"
   ]
  },
  {
   "cell_type": "markdown",
   "id": "79ff675d",
   "metadata": {},
   "source": [
    "## Data Preparation for Applying Lipinski's Rule of Five"
   ]
  },
  {
   "cell_type": "code",
   "execution_count": 147,
   "id": "4c60725d",
   "metadata": {},
   "outputs": [],
   "source": [
    "cid_list_for_ro5 = selected_com_df['PubChem_IDs'].to_list()"
   ]
  },
  {
   "cell_type": "code",
   "execution_count": 148,
   "id": "ea92a04f",
   "metadata": {},
   "outputs": [],
   "source": [
    "bioactive_smiles_list = pd.read_excel(\"bioactive_smiles.xlsx\")"
   ]
  },
  {
   "cell_type": "code",
   "execution_count": 149,
   "id": "f815c407",
   "metadata": {},
   "outputs": [],
   "source": [
    "smiles_for_ro5_filter = bioactive_smiles_list[bioactive_smiles_list['CID'].isin(cid_list_for_ro5)]"
   ]
  },
  {
   "cell_type": "code",
   "execution_count": 150,
   "id": "68f865ca",
   "metadata": {},
   "outputs": [],
   "source": [
    "extracted_smiles_for_ro5 = smiles_for_ro5_filter['SMILES']"
   ]
  },
  {
   "cell_type": "code",
   "execution_count": 151,
   "id": "15558a01",
   "metadata": {},
   "outputs": [],
   "source": [
    "extracted_smiles_list = extracted_smiles_for_ro5.tolist()"
   ]
  },
  {
   "cell_type": "code",
   "execution_count": 152,
   "id": "1f30e495",
   "metadata": {},
   "outputs": [],
   "source": [
    "smiles_df_ro5 = pd.DataFrame(extracted_smiles_list, columns=['SMILES'])"
   ]
  },
  {
   "cell_type": "code",
   "execution_count": 153,
   "id": "558b48be",
   "metadata": {},
   "outputs": [
    {
     "name": "stdout",
     "output_type": "stream",
     "text": [
      "Created successfully!\n"
     ]
    }
   ],
   "source": [
    "smiles_df_ro5.to_csv(\"smiles_df_ro5.csv\")\n",
    "print(\"Created successfully!\")"
   ]
  },
  {
   "cell_type": "markdown",
   "id": "0335e6c1",
   "metadata": {},
   "source": [
    "## Lipinski's Rule of Five Filtering\n",
    "This section defines functions to filter compounds based on Lipinski's Rule of Five,\n",
    "which assesses the drug-likeness of compounds based on four key molecular properties:\n",
    "* Molecular Weight (MW) ≤ 500\n",
    "* LogP (partition coefficient) ≤ 5\n",
    "* Number of Hydrogen Bond Donors (HBD) ≤ 5\n",
    "* Number of Hydrogen Bond Acceptors (HBA) ≤ 10"
   ]
  },
  {
   "cell_type": "code",
   "execution_count": 154,
   "id": "6f5b5720",
   "metadata": {},
   "outputs": [],
   "source": [
    "def check_rule_of_five(molecule):\n",
    "    # Compute properties\n",
    "    mw = Descriptors.MolWt(molecule)\n",
    "    logp = Descriptors.MolLogP(molecule)\n",
    "    hbd = Descriptors.NumHDonors(molecule)\n",
    "    hba = Descriptors.NumHAcceptors(molecule)\n",
    "    \n",
    "    # Rule of Five criteria\n",
    "    if mw <= 500 and logp <= 5 and hbd <= 5 and hba <= 10:\n",
    "        return True\n",
    "    return False\n",
    "\n",
    "def filter_compounds(smiles_list):\n",
    "    valid_smiles = []\n",
    "    \n",
    "    for smiles in smiles_list:\n",
    "        mol = Chem.MolFromSmiles(smiles)\n",
    "        if mol and check_rule_of_five(mol):\n",
    "            valid_smiles.append(smiles)\n",
    "    \n",
    "    return valid_smiles\n",
    "\n",
    "\n",
    "filtered_smiles = filter_compounds(extracted_smiles_list)"
   ]
  },
  {
   "cell_type": "code",
   "execution_count": 155,
   "id": "9ebaa40e",
   "metadata": {},
   "outputs": [
    {
     "data": {
      "text/plain": [
       "61"
      ]
     },
     "execution_count": 155,
     "metadata": {},
     "output_type": "execute_result"
    }
   ],
   "source": [
    "len(filtered_smiles)"
   ]
  },
  {
   "cell_type": "code",
   "execution_count": 156,
   "id": "bfe370d0",
   "metadata": {},
   "outputs": [],
   "source": [
    "smiles_df_after_ro5 = pd.DataFrame(filtered_smiles, columns=['SMILES'])"
   ]
  },
  {
   "cell_type": "code",
   "execution_count": 157,
   "id": "a7568722",
   "metadata": {},
   "outputs": [
    {
     "name": "stdout",
     "output_type": "stream",
     "text": [
      "Created successfully!\n"
     ]
    }
   ],
   "source": [
    "smiles_df_after_ro5.to_csv(\"smiles_df_after_ro5.csv\")\n",
    "print(\"Created successfully!\")"
   ]
  },
  {
   "cell_type": "markdown",
   "id": "ba970926",
   "metadata": {},
   "source": [
    "## Summary of Rule of Five Filtering\n",
    "After applying Lipinski's Rule of Five filter, a total of 61 compounds were found to be drug-like and passed the criteria, which suggests their potential suitability for further drug development studies.\n"
   ]
  }
 ],
 "metadata": {
  "kernelspec": {
   "display_name": "Python 3 (ipykernel)",
   "language": "python",
   "name": "python3"
  },
  "language_info": {
   "codemirror_mode": {
    "name": "ipython",
    "version": 3
   },
   "file_extension": ".py",
   "mimetype": "text/x-python",
   "name": "python",
   "nbconvert_exporter": "python",
   "pygments_lexer": "ipython3",
   "version": "3.10.12"
  }
 },
 "nbformat": 4,
 "nbformat_minor": 5
}

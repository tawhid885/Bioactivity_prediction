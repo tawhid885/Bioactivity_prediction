{
 "cells": [
  {
   "cell_type": "markdown",
   "id": "6032e968",
   "metadata": {},
   "source": [
    "# Evaluation of Machine Learning Classifiers for Bioactivity Prediction  "
   ]
  },
  {
   "cell_type": "markdown",
   "id": "d7f3ef74",
   "metadata": {},
   "source": [
    "In this Jupyter Notebook, we will evaluate the performance of various machine learning classifiers on a bioactivity prediction dataset. The analysis will involve:  \n",
    "\n",
    "## 1. Data Preparation  \n",
    "- **Importing the dataset:** Load the bioactivity dataset for analysis.  \n",
    "- **Calculating molecular fingerprints:** Generate GraphOnly molecular fingerprints necessary for feature extraction.  \n",
    "- **Splitting the data:** Divide the dataset into training and testing sets for model evaluation. \n",
    "\n",
    "## 2. Model Training and Evaluation  \n",
    "We will implement different classifiers, including:  \n",
    "- **Random Forest**  \n",
    "- **AdaBoost**  \n",
    "- **Bagging**  \n",
    "- **Extra Trees**  \n",
    "- **Gradient Boosting**  \n",
    "- **XGBoost**  \n",
    "- **Support Vector Machine (SVM)**   \n",
    "\n",
    "We will assess their performance using metrics such as:  \n",
    "- **Accuracy**  \n",
    "- **Precision**  \n",
    "- **Recall**  \n",
    "- **F1 Score**  \n",
    "- **Matthews Correlation Coefficient (MCC)**  \n",
    "- **ROC AUC**  \n",
    "\n",
    "## 3. Visualization  \n",
    "- **ROC Curves:** Generate Receiver Operating Characteristic (ROC) curves to visualize the classifiers' performances.  \n",
    "- **Accuracy Comparison Plots:** Create plots to compare the accuracy of the different models visually.  \n",
    "\n",
    "The goal of this analysis is to identify the most effective model for predicting the bioactivity of natural compounds which could provide valuable insights for drug discovery applications."
   ]
  },
  {
   "cell_type": "code",
   "execution_count": 1,
   "id": "68f27465",
   "metadata": {},
   "outputs": [],
   "source": [
    "# Import essential libraries for data manipulation and analysis\n",
    "import pandas as pd\n",
    "import numpy as np\n",
    "\n",
    "# Import libraries for data visualization\n",
    "import matplotlib.pyplot as plt\n",
    "%matplotlib inline\n",
    "import seaborn as sns\n",
    "\n",
    "# Import modules for model evaluation and data splitting\n",
    "from sklearn.model_selection import cross_val_score, KFold, train_test_split\n",
    "\n",
    "# Import performance metrics for classification models\n",
    "from sklearn import metrics\n",
    "from sklearn.metrics import (\n",
    "    accuracy_score, \n",
    "    log_loss,\n",
    "    precision_score, \n",
    "    recall_score, \n",
    "    f1_score, \n",
    "    matthews_corrcoef,\n",
    "    confusion_matrix,\n",
    "    ConfusionMatrixDisplay,\n",
    "    roc_auc_score, \n",
    "    roc_curve, \n",
    "    auc,\n",
    ")  \n",
    "\n",
    "# Import classifiers for machine learning models\n",
    "from sklearn.ensemble import (  \n",
    "    RandomForestClassifier,  \n",
    "    AdaBoostClassifier,  \n",
    "    BaggingClassifier,  \n",
    "    ExtraTreesClassifier,  \n",
    "    GradientBoostingClassifier,  \n",
    ")  \n",
    "from sklearn.svm import SVC  # Support Vector Classifier\n",
    "from xgboost import XGBClassifier  # Extreme Gradient Boosting Classifier\n",
    "\n",
    "# Importing the time module to measure execution time of model training and evaluation\n",
    "import time"
   ]
  },
  {
   "cell_type": "markdown",
   "id": "afb74b59",
   "metadata": {},
   "source": [
    "## Generate a dataset of SMILES strings for calculating extended molecular fingerprints"
   ]
  },
  {
   "cell_type": "code",
   "execution_count": 2,
   "id": "bef10958",
   "metadata": {
    "scrolled": true
   },
   "outputs": [
    {
     "data": {
      "text/html": [
       "<div>\n",
       "<style scoped>\n",
       "    .dataframe tbody tr th:only-of-type {\n",
       "        vertical-align: middle;\n",
       "    }\n",
       "\n",
       "    .dataframe tbody tr th {\n",
       "        vertical-align: top;\n",
       "    }\n",
       "\n",
       "    .dataframe thead th {\n",
       "        text-align: right;\n",
       "    }\n",
       "</style>\n",
       "<table border=\"1\" class=\"dataframe\">\n",
       "  <thead>\n",
       "    <tr style=\"text-align: right;\">\n",
       "      <th></th>\n",
       "      <th>Unnamed: 0</th>\n",
       "      <th>Molecule ChEMBL ID</th>\n",
       "      <th>Smiles</th>\n",
       "      <th>Standard Type</th>\n",
       "      <th>Standard Relation</th>\n",
       "      <th>Standard Units</th>\n",
       "      <th>Standard Value</th>\n",
       "      <th>Activity</th>\n",
       "    </tr>\n",
       "  </thead>\n",
       "  <tbody>\n",
       "    <tr>\n",
       "      <th>0</th>\n",
       "      <td>2</td>\n",
       "      <td>CHEMBL416126</td>\n",
       "      <td>CS(=O)(=O)c1ccc(-c2cc(F)c(F)cc2-c2ccc3c(c2)OCO...</td>\n",
       "      <td>IC50</td>\n",
       "      <td>'='</td>\n",
       "      <td>nM</td>\n",
       "      <td>12.00</td>\n",
       "      <td>1</td>\n",
       "    </tr>\n",
       "    <tr>\n",
       "      <th>1</th>\n",
       "      <td>4</td>\n",
       "      <td>CHEMBL143776</td>\n",
       "      <td>Fc1ccc(-c2[nH]c(-c3ccc(F)cc3)c3c2C2CCC3C2)cc1</td>\n",
       "      <td>IC50</td>\n",
       "      <td>'='</td>\n",
       "      <td>nM</td>\n",
       "      <td>0.08</td>\n",
       "      <td>1</td>\n",
       "    </tr>\n",
       "    <tr>\n",
       "      <th>2</th>\n",
       "      <td>5</td>\n",
       "      <td>CHEMBL322276</td>\n",
       "      <td>CC1(C)OC(=O)C(Oc2ccc3[nH]ccc3c2)=C1c1ccc(S(C)(...</td>\n",
       "      <td>IC50</td>\n",
       "      <td>'='</td>\n",
       "      <td>nM</td>\n",
       "      <td>240.00</td>\n",
       "      <td>1</td>\n",
       "    </tr>\n",
       "    <tr>\n",
       "      <th>3</th>\n",
       "      <td>7</td>\n",
       "      <td>CHEMBL43864</td>\n",
       "      <td>Cc1ccc(-c2ccc(S(C)(=O)=O)cc2)n1C1CCCCC1</td>\n",
       "      <td>IC50</td>\n",
       "      <td>'='</td>\n",
       "      <td>nM</td>\n",
       "      <td>520.00</td>\n",
       "      <td>1</td>\n",
       "    </tr>\n",
       "    <tr>\n",
       "      <th>4</th>\n",
       "      <td>13</td>\n",
       "      <td>CHEMBL45090</td>\n",
       "      <td>CS(=O)(=O)c1ccc(-n2cc(C(F)(F)F)nc2-c2cc(Cl)cc(...</td>\n",
       "      <td>IC50</td>\n",
       "      <td>'='</td>\n",
       "      <td>nM</td>\n",
       "      <td>169.82</td>\n",
       "      <td>1</td>\n",
       "    </tr>\n",
       "  </tbody>\n",
       "</table>\n",
       "</div>"
      ],
      "text/plain": [
       "   Unnamed: 0 Molecule ChEMBL ID  \\\n",
       "0           2       CHEMBL416126   \n",
       "1           4       CHEMBL143776   \n",
       "2           5       CHEMBL322276   \n",
       "3           7        CHEMBL43864   \n",
       "4          13        CHEMBL45090   \n",
       "\n",
       "                                              Smiles Standard Type  \\\n",
       "0  CS(=O)(=O)c1ccc(-c2cc(F)c(F)cc2-c2ccc3c(c2)OCO...          IC50   \n",
       "1      Fc1ccc(-c2[nH]c(-c3ccc(F)cc3)c3c2C2CCC3C2)cc1          IC50   \n",
       "2  CC1(C)OC(=O)C(Oc2ccc3[nH]ccc3c2)=C1c1ccc(S(C)(...          IC50   \n",
       "3            Cc1ccc(-c2ccc(S(C)(=O)=O)cc2)n1C1CCCCC1          IC50   \n",
       "4  CS(=O)(=O)c1ccc(-n2cc(C(F)(F)F)nc2-c2cc(Cl)cc(...          IC50   \n",
       "\n",
       "  Standard Relation Standard Units  Standard Value  Activity  \n",
       "0               '='             nM           12.00         1  \n",
       "1               '='             nM            0.08         1  \n",
       "2               '='             nM          240.00         1  \n",
       "3               '='             nM          520.00         1  \n",
       "4               '='             nM          169.82         1  "
      ]
     },
     "execution_count": 2,
     "metadata": {},
     "output_type": "execute_result"
    }
   ],
   "source": [
    "smiles_df = pd.read_csv(\"standard_data_for_future_work.csv\")\n",
    "smiles_df.head()"
   ]
  },
  {
   "cell_type": "code",
   "execution_count": 3,
   "id": "bdcf70a3",
   "metadata": {},
   "outputs": [],
   "source": [
    "smiles_df= smiles_df[['Smiles', 'Molecule ChEMBL ID']]"
   ]
  },
  {
   "cell_type": "code",
   "execution_count": 4,
   "id": "1b7ab9cb",
   "metadata": {},
   "outputs": [
    {
     "data": {
      "text/html": [
       "<div>\n",
       "<style scoped>\n",
       "    .dataframe tbody tr th:only-of-type {\n",
       "        vertical-align: middle;\n",
       "    }\n",
       "\n",
       "    .dataframe tbody tr th {\n",
       "        vertical-align: top;\n",
       "    }\n",
       "\n",
       "    .dataframe thead th {\n",
       "        text-align: right;\n",
       "    }\n",
       "</style>\n",
       "<table border=\"1\" class=\"dataframe\">\n",
       "  <thead>\n",
       "    <tr style=\"text-align: right;\">\n",
       "      <th></th>\n",
       "      <th>Smiles</th>\n",
       "      <th>Molecule ChEMBL ID</th>\n",
       "    </tr>\n",
       "  </thead>\n",
       "  <tbody>\n",
       "    <tr>\n",
       "      <th>0</th>\n",
       "      <td>CS(=O)(=O)c1ccc(-c2cc(F)c(F)cc2-c2ccc3c(c2)OCO...</td>\n",
       "      <td>CHEMBL416126</td>\n",
       "    </tr>\n",
       "    <tr>\n",
       "      <th>1</th>\n",
       "      <td>Fc1ccc(-c2[nH]c(-c3ccc(F)cc3)c3c2C2CCC3C2)cc1</td>\n",
       "      <td>CHEMBL143776</td>\n",
       "    </tr>\n",
       "    <tr>\n",
       "      <th>2</th>\n",
       "      <td>CC1(C)OC(=O)C(Oc2ccc3[nH]ccc3c2)=C1c1ccc(S(C)(...</td>\n",
       "      <td>CHEMBL322276</td>\n",
       "    </tr>\n",
       "    <tr>\n",
       "      <th>3</th>\n",
       "      <td>Cc1ccc(-c2ccc(S(C)(=O)=O)cc2)n1C1CCCCC1</td>\n",
       "      <td>CHEMBL43864</td>\n",
       "    </tr>\n",
       "    <tr>\n",
       "      <th>4</th>\n",
       "      <td>CS(=O)(=O)c1ccc(-n2cc(C(F)(F)F)nc2-c2cc(Cl)cc(...</td>\n",
       "      <td>CHEMBL45090</td>\n",
       "    </tr>\n",
       "  </tbody>\n",
       "</table>\n",
       "</div>"
      ],
      "text/plain": [
       "                                              Smiles Molecule ChEMBL ID\n",
       "0  CS(=O)(=O)c1ccc(-c2cc(F)c(F)cc2-c2ccc3c(c2)OCO...       CHEMBL416126\n",
       "1      Fc1ccc(-c2[nH]c(-c3ccc(F)cc3)c3c2C2CCC3C2)cc1       CHEMBL143776\n",
       "2  CC1(C)OC(=O)C(Oc2ccc3[nH]ccc3c2)=C1c1ccc(S(C)(...       CHEMBL322276\n",
       "3            Cc1ccc(-c2ccc(S(C)(=O)=O)cc2)n1C1CCCCC1        CHEMBL43864\n",
       "4  CS(=O)(=O)c1ccc(-n2cc(C(F)(F)F)nc2-c2cc(Cl)cc(...        CHEMBL45090"
      ]
     },
     "execution_count": 4,
     "metadata": {},
     "output_type": "execute_result"
    }
   ],
   "source": [
    "smiles_df.head()"
   ]
  },
  {
   "cell_type": "code",
   "execution_count": 5,
   "id": "af01dba4",
   "metadata": {},
   "outputs": [
    {
     "name": "stdout",
     "output_type": "stream",
     "text": [
      "Created successfully!\n"
     ]
    }
   ],
   "source": [
    "smiles_df.to_csv('smiles_for_paddle.csv')\n",
    "print(\"Created successfully!\")"
   ]
  },
  {
   "cell_type": "markdown",
   "id": "7947d66f",
   "metadata": {},
   "source": [
    "## Create a classification dataset containing only the \"Molecule ChEMBL ID\" and \"Activity\" columns for the next steps"
   ]
  },
  {
   "cell_type": "code",
   "execution_count": 6,
   "id": "44bae672",
   "metadata": {},
   "outputs": [],
   "source": [
    "data_for_classification = pd.read_csv('standard_data_for_future_work.csv')"
   ]
  },
  {
   "cell_type": "code",
   "execution_count": 7,
   "id": "b20d3b02",
   "metadata": {},
   "outputs": [],
   "source": [
    "data_for_classification= data_for_classification[['Molecule ChEMBL ID', 'Activity']]"
   ]
  },
  {
   "cell_type": "code",
   "execution_count": 8,
   "id": "5fc62331",
   "metadata": {},
   "outputs": [
    {
     "data": {
      "text/html": [
       "<div>\n",
       "<style scoped>\n",
       "    .dataframe tbody tr th:only-of-type {\n",
       "        vertical-align: middle;\n",
       "    }\n",
       "\n",
       "    .dataframe tbody tr th {\n",
       "        vertical-align: top;\n",
       "    }\n",
       "\n",
       "    .dataframe thead th {\n",
       "        text-align: right;\n",
       "    }\n",
       "</style>\n",
       "<table border=\"1\" class=\"dataframe\">\n",
       "  <thead>\n",
       "    <tr style=\"text-align: right;\">\n",
       "      <th></th>\n",
       "      <th>Molecule ChEMBL ID</th>\n",
       "      <th>Activity</th>\n",
       "    </tr>\n",
       "  </thead>\n",
       "  <tbody>\n",
       "    <tr>\n",
       "      <th>2978</th>\n",
       "      <td>CHEMBL5094564</td>\n",
       "      <td>0</td>\n",
       "    </tr>\n",
       "    <tr>\n",
       "      <th>2979</th>\n",
       "      <td>CHEMBL5087242</td>\n",
       "      <td>0</td>\n",
       "    </tr>\n",
       "    <tr>\n",
       "      <th>2980</th>\n",
       "      <td>CHEMBL5089355</td>\n",
       "      <td>1</td>\n",
       "    </tr>\n",
       "    <tr>\n",
       "      <th>2981</th>\n",
       "      <td>CHEMBL4758581</td>\n",
       "      <td>1</td>\n",
       "    </tr>\n",
       "    <tr>\n",
       "      <th>2982</th>\n",
       "      <td>CHEMBL5286930</td>\n",
       "      <td>1</td>\n",
       "    </tr>\n",
       "  </tbody>\n",
       "</table>\n",
       "</div>"
      ],
      "text/plain": [
       "     Molecule ChEMBL ID  Activity\n",
       "2978      CHEMBL5094564         0\n",
       "2979      CHEMBL5087242         0\n",
       "2980      CHEMBL5089355         1\n",
       "2981      CHEMBL4758581         1\n",
       "2982      CHEMBL5286930         1"
      ]
     },
     "execution_count": 8,
     "metadata": {},
     "output_type": "execute_result"
    }
   ],
   "source": [
    "data_for_classification.tail()"
   ]
  },
  {
   "cell_type": "code",
   "execution_count": 9,
   "id": "5fe3dea6",
   "metadata": {},
   "outputs": [
    {
     "data": {
      "text/plain": [
       "(2983, 2)"
      ]
     },
     "execution_count": 9,
     "metadata": {},
     "output_type": "execute_result"
    }
   ],
   "source": [
    "data_for_classification.shape"
   ]
  },
  {
   "cell_type": "code",
   "execution_count": 10,
   "id": "e8fe2e4d",
   "metadata": {},
   "outputs": [
    {
     "name": "stdout",
     "output_type": "stream",
     "text": [
      "Created successfully!\n"
     ]
    }
   ],
   "source": [
    "data_for_classification.to_csv('data_for_classification.csv')\n",
    "print(\"Created successfully!\")"
   ]
  },
  {
   "cell_type": "markdown",
   "id": "01cc963f",
   "metadata": {},
   "source": [
    "## Dataset after Calculating Molecular Fingerprints\n"
   ]
  },
  {
   "cell_type": "code",
   "execution_count": 11,
   "id": "eb71a28a",
   "metadata": {},
   "outputs": [],
   "source": [
    "fingerprint_df= pd.read_csv('GraphonlyFingerprints.csv')"
   ]
  },
  {
   "cell_type": "code",
   "execution_count": 12,
   "id": "9cc65f62",
   "metadata": {},
   "outputs": [
    {
     "data": {
      "text/plain": [
       "(2983, 1025)"
      ]
     },
     "execution_count": 12,
     "metadata": {},
     "output_type": "execute_result"
    }
   ],
   "source": [
    "fingerprint_df.shape"
   ]
  },
  {
   "cell_type": "code",
   "execution_count": 13,
   "id": "7ff679a5",
   "metadata": {
    "scrolled": true
   },
   "outputs": [
    {
     "data": {
      "text/html": [
       "<div>\n",
       "<style scoped>\n",
       "    .dataframe tbody tr th:only-of-type {\n",
       "        vertical-align: middle;\n",
       "    }\n",
       "\n",
       "    .dataframe tbody tr th {\n",
       "        vertical-align: top;\n",
       "    }\n",
       "\n",
       "    .dataframe thead th {\n",
       "        text-align: right;\n",
       "    }\n",
       "</style>\n",
       "<table border=\"1\" class=\"dataframe\">\n",
       "  <thead>\n",
       "    <tr style=\"text-align: right;\">\n",
       "      <th></th>\n",
       "      <th>Name</th>\n",
       "      <th>GraphFP1</th>\n",
       "      <th>GraphFP2</th>\n",
       "      <th>GraphFP3</th>\n",
       "      <th>GraphFP4</th>\n",
       "      <th>GraphFP5</th>\n",
       "      <th>GraphFP6</th>\n",
       "      <th>GraphFP7</th>\n",
       "      <th>GraphFP8</th>\n",
       "      <th>GraphFP9</th>\n",
       "      <th>...</th>\n",
       "      <th>GraphFP1015</th>\n",
       "      <th>GraphFP1016</th>\n",
       "      <th>GraphFP1017</th>\n",
       "      <th>GraphFP1018</th>\n",
       "      <th>GraphFP1019</th>\n",
       "      <th>GraphFP1020</th>\n",
       "      <th>GraphFP1021</th>\n",
       "      <th>GraphFP1022</th>\n",
       "      <th>GraphFP1023</th>\n",
       "      <th>GraphFP1024</th>\n",
       "    </tr>\n",
       "  </thead>\n",
       "  <tbody>\n",
       "    <tr>\n",
       "      <th>0</th>\n",
       "      <td>CHEMBL416126</td>\n",
       "      <td>0</td>\n",
       "      <td>0</td>\n",
       "      <td>1</td>\n",
       "      <td>0</td>\n",
       "      <td>1</td>\n",
       "      <td>0</td>\n",
       "      <td>0</td>\n",
       "      <td>0</td>\n",
       "      <td>0</td>\n",
       "      <td>...</td>\n",
       "      <td>0</td>\n",
       "      <td>0</td>\n",
       "      <td>0</td>\n",
       "      <td>0</td>\n",
       "      <td>0</td>\n",
       "      <td>0</td>\n",
       "      <td>0</td>\n",
       "      <td>0</td>\n",
       "      <td>0</td>\n",
       "      <td>0</td>\n",
       "    </tr>\n",
       "    <tr>\n",
       "      <th>1</th>\n",
       "      <td>CHEMBL143776</td>\n",
       "      <td>0</td>\n",
       "      <td>0</td>\n",
       "      <td>0</td>\n",
       "      <td>0</td>\n",
       "      <td>0</td>\n",
       "      <td>0</td>\n",
       "      <td>0</td>\n",
       "      <td>0</td>\n",
       "      <td>0</td>\n",
       "      <td>...</td>\n",
       "      <td>0</td>\n",
       "      <td>0</td>\n",
       "      <td>0</td>\n",
       "      <td>0</td>\n",
       "      <td>0</td>\n",
       "      <td>0</td>\n",
       "      <td>0</td>\n",
       "      <td>0</td>\n",
       "      <td>0</td>\n",
       "      <td>0</td>\n",
       "    </tr>\n",
       "    <tr>\n",
       "      <th>2</th>\n",
       "      <td>CHEMBL322276</td>\n",
       "      <td>0</td>\n",
       "      <td>0</td>\n",
       "      <td>1</td>\n",
       "      <td>0</td>\n",
       "      <td>0</td>\n",
       "      <td>0</td>\n",
       "      <td>0</td>\n",
       "      <td>0</td>\n",
       "      <td>0</td>\n",
       "      <td>...</td>\n",
       "      <td>0</td>\n",
       "      <td>0</td>\n",
       "      <td>0</td>\n",
       "      <td>0</td>\n",
       "      <td>0</td>\n",
       "      <td>0</td>\n",
       "      <td>0</td>\n",
       "      <td>0</td>\n",
       "      <td>0</td>\n",
       "      <td>0</td>\n",
       "    </tr>\n",
       "    <tr>\n",
       "      <th>3</th>\n",
       "      <td>CHEMBL43864</td>\n",
       "      <td>0</td>\n",
       "      <td>0</td>\n",
       "      <td>1</td>\n",
       "      <td>0</td>\n",
       "      <td>0</td>\n",
       "      <td>0</td>\n",
       "      <td>0</td>\n",
       "      <td>0</td>\n",
       "      <td>0</td>\n",
       "      <td>...</td>\n",
       "      <td>0</td>\n",
       "      <td>0</td>\n",
       "      <td>0</td>\n",
       "      <td>0</td>\n",
       "      <td>0</td>\n",
       "      <td>0</td>\n",
       "      <td>0</td>\n",
       "      <td>0</td>\n",
       "      <td>0</td>\n",
       "      <td>0</td>\n",
       "    </tr>\n",
       "    <tr>\n",
       "      <th>4</th>\n",
       "      <td>CHEMBL45090</td>\n",
       "      <td>0</td>\n",
       "      <td>0</td>\n",
       "      <td>0</td>\n",
       "      <td>0</td>\n",
       "      <td>0</td>\n",
       "      <td>0</td>\n",
       "      <td>0</td>\n",
       "      <td>1</td>\n",
       "      <td>0</td>\n",
       "      <td>...</td>\n",
       "      <td>0</td>\n",
       "      <td>0</td>\n",
       "      <td>0</td>\n",
       "      <td>0</td>\n",
       "      <td>0</td>\n",
       "      <td>0</td>\n",
       "      <td>0</td>\n",
       "      <td>0</td>\n",
       "      <td>0</td>\n",
       "      <td>0</td>\n",
       "    </tr>\n",
       "  </tbody>\n",
       "</table>\n",
       "<p>5 rows × 1025 columns</p>\n",
       "</div>"
      ],
      "text/plain": [
       "           Name  GraphFP1  GraphFP2  GraphFP3  GraphFP4  GraphFP5  GraphFP6  \\\n",
       "0  CHEMBL416126         0         0         1         0         1         0   \n",
       "1  CHEMBL143776         0         0         0         0         0         0   \n",
       "2  CHEMBL322276         0         0         1         0         0         0   \n",
       "3   CHEMBL43864         0         0         1         0         0         0   \n",
       "4   CHEMBL45090         0         0         0         0         0         0   \n",
       "\n",
       "   GraphFP7  GraphFP8  GraphFP9  ...  GraphFP1015  GraphFP1016  GraphFP1017  \\\n",
       "0         0         0         0  ...            0            0            0   \n",
       "1         0         0         0  ...            0            0            0   \n",
       "2         0         0         0  ...            0            0            0   \n",
       "3         0         0         0  ...            0            0            0   \n",
       "4         0         1         0  ...            0            0            0   \n",
       "\n",
       "   GraphFP1018  GraphFP1019  GraphFP1020  GraphFP1021  GraphFP1022  \\\n",
       "0            0            0            0            0            0   \n",
       "1            0            0            0            0            0   \n",
       "2            0            0            0            0            0   \n",
       "3            0            0            0            0            0   \n",
       "4            0            0            0            0            0   \n",
       "\n",
       "   GraphFP1023  GraphFP1024  \n",
       "0            0            0  \n",
       "1            0            0  \n",
       "2            0            0  \n",
       "3            0            0  \n",
       "4            0            0  \n",
       "\n",
       "[5 rows x 1025 columns]"
      ]
     },
     "execution_count": 13,
     "metadata": {},
     "output_type": "execute_result"
    }
   ],
   "source": [
    "fingerprint_df.head()"
   ]
  },
  {
   "cell_type": "markdown",
   "id": "b036ca77",
   "metadata": {},
   "source": [
    "## Add the \"Activity\" column to the dataset containing molecular fingerprints"
   ]
  },
  {
   "cell_type": "code",
   "execution_count": 14,
   "id": "2e580a97",
   "metadata": {},
   "outputs": [],
   "source": [
    "classification_prep_data = fingerprint_df.copy()"
   ]
  },
  {
   "cell_type": "code",
   "execution_count": 15,
   "id": "ae55ecdf",
   "metadata": {},
   "outputs": [],
   "source": [
    "activity = []\n",
    "for i in data_for_classification['Activity']:\n",
    "    activity.append(i)"
   ]
  },
  {
   "cell_type": "code",
   "execution_count": 16,
   "id": "00aeebb9",
   "metadata": {},
   "outputs": [],
   "source": [
    "classification_prep_data['Activity'] = activity"
   ]
  },
  {
   "cell_type": "code",
   "execution_count": 17,
   "id": "a98f4f82",
   "metadata": {},
   "outputs": [
    {
     "data": {
      "text/html": [
       "<div>\n",
       "<style scoped>\n",
       "    .dataframe tbody tr th:only-of-type {\n",
       "        vertical-align: middle;\n",
       "    }\n",
       "\n",
       "    .dataframe tbody tr th {\n",
       "        vertical-align: top;\n",
       "    }\n",
       "\n",
       "    .dataframe thead th {\n",
       "        text-align: right;\n",
       "    }\n",
       "</style>\n",
       "<table border=\"1\" class=\"dataframe\">\n",
       "  <thead>\n",
       "    <tr style=\"text-align: right;\">\n",
       "      <th></th>\n",
       "      <th>Name</th>\n",
       "      <th>GraphFP1</th>\n",
       "      <th>GraphFP2</th>\n",
       "      <th>GraphFP3</th>\n",
       "      <th>GraphFP4</th>\n",
       "      <th>GraphFP5</th>\n",
       "      <th>GraphFP6</th>\n",
       "      <th>GraphFP7</th>\n",
       "      <th>GraphFP8</th>\n",
       "      <th>GraphFP9</th>\n",
       "      <th>...</th>\n",
       "      <th>GraphFP1016</th>\n",
       "      <th>GraphFP1017</th>\n",
       "      <th>GraphFP1018</th>\n",
       "      <th>GraphFP1019</th>\n",
       "      <th>GraphFP1020</th>\n",
       "      <th>GraphFP1021</th>\n",
       "      <th>GraphFP1022</th>\n",
       "      <th>GraphFP1023</th>\n",
       "      <th>GraphFP1024</th>\n",
       "      <th>Activity</th>\n",
       "    </tr>\n",
       "  </thead>\n",
       "  <tbody>\n",
       "    <tr>\n",
       "      <th>0</th>\n",
       "      <td>CHEMBL416126</td>\n",
       "      <td>0</td>\n",
       "      <td>0</td>\n",
       "      <td>1</td>\n",
       "      <td>0</td>\n",
       "      <td>1</td>\n",
       "      <td>0</td>\n",
       "      <td>0</td>\n",
       "      <td>0</td>\n",
       "      <td>0</td>\n",
       "      <td>...</td>\n",
       "      <td>0</td>\n",
       "      <td>0</td>\n",
       "      <td>0</td>\n",
       "      <td>0</td>\n",
       "      <td>0</td>\n",
       "      <td>0</td>\n",
       "      <td>0</td>\n",
       "      <td>0</td>\n",
       "      <td>0</td>\n",
       "      <td>1</td>\n",
       "    </tr>\n",
       "    <tr>\n",
       "      <th>1</th>\n",
       "      <td>CHEMBL143776</td>\n",
       "      <td>0</td>\n",
       "      <td>0</td>\n",
       "      <td>0</td>\n",
       "      <td>0</td>\n",
       "      <td>0</td>\n",
       "      <td>0</td>\n",
       "      <td>0</td>\n",
       "      <td>0</td>\n",
       "      <td>0</td>\n",
       "      <td>...</td>\n",
       "      <td>0</td>\n",
       "      <td>0</td>\n",
       "      <td>0</td>\n",
       "      <td>0</td>\n",
       "      <td>0</td>\n",
       "      <td>0</td>\n",
       "      <td>0</td>\n",
       "      <td>0</td>\n",
       "      <td>0</td>\n",
       "      <td>1</td>\n",
       "    </tr>\n",
       "    <tr>\n",
       "      <th>2</th>\n",
       "      <td>CHEMBL322276</td>\n",
       "      <td>0</td>\n",
       "      <td>0</td>\n",
       "      <td>1</td>\n",
       "      <td>0</td>\n",
       "      <td>0</td>\n",
       "      <td>0</td>\n",
       "      <td>0</td>\n",
       "      <td>0</td>\n",
       "      <td>0</td>\n",
       "      <td>...</td>\n",
       "      <td>0</td>\n",
       "      <td>0</td>\n",
       "      <td>0</td>\n",
       "      <td>0</td>\n",
       "      <td>0</td>\n",
       "      <td>0</td>\n",
       "      <td>0</td>\n",
       "      <td>0</td>\n",
       "      <td>0</td>\n",
       "      <td>1</td>\n",
       "    </tr>\n",
       "    <tr>\n",
       "      <th>3</th>\n",
       "      <td>CHEMBL43864</td>\n",
       "      <td>0</td>\n",
       "      <td>0</td>\n",
       "      <td>1</td>\n",
       "      <td>0</td>\n",
       "      <td>0</td>\n",
       "      <td>0</td>\n",
       "      <td>0</td>\n",
       "      <td>0</td>\n",
       "      <td>0</td>\n",
       "      <td>...</td>\n",
       "      <td>0</td>\n",
       "      <td>0</td>\n",
       "      <td>0</td>\n",
       "      <td>0</td>\n",
       "      <td>0</td>\n",
       "      <td>0</td>\n",
       "      <td>0</td>\n",
       "      <td>0</td>\n",
       "      <td>0</td>\n",
       "      <td>1</td>\n",
       "    </tr>\n",
       "    <tr>\n",
       "      <th>4</th>\n",
       "      <td>CHEMBL45090</td>\n",
       "      <td>0</td>\n",
       "      <td>0</td>\n",
       "      <td>0</td>\n",
       "      <td>0</td>\n",
       "      <td>0</td>\n",
       "      <td>0</td>\n",
       "      <td>0</td>\n",
       "      <td>1</td>\n",
       "      <td>0</td>\n",
       "      <td>...</td>\n",
       "      <td>0</td>\n",
       "      <td>0</td>\n",
       "      <td>0</td>\n",
       "      <td>0</td>\n",
       "      <td>0</td>\n",
       "      <td>0</td>\n",
       "      <td>0</td>\n",
       "      <td>0</td>\n",
       "      <td>0</td>\n",
       "      <td>1</td>\n",
       "    </tr>\n",
       "  </tbody>\n",
       "</table>\n",
       "<p>5 rows × 1026 columns</p>\n",
       "</div>"
      ],
      "text/plain": [
       "           Name  GraphFP1  GraphFP2  GraphFP3  GraphFP4  GraphFP5  GraphFP6  \\\n",
       "0  CHEMBL416126         0         0         1         0         1         0   \n",
       "1  CHEMBL143776         0         0         0         0         0         0   \n",
       "2  CHEMBL322276         0         0         1         0         0         0   \n",
       "3   CHEMBL43864         0         0         1         0         0         0   \n",
       "4   CHEMBL45090         0         0         0         0         0         0   \n",
       "\n",
       "   GraphFP7  GraphFP8  GraphFP9  ...  GraphFP1016  GraphFP1017  GraphFP1018  \\\n",
       "0         0         0         0  ...            0            0            0   \n",
       "1         0         0         0  ...            0            0            0   \n",
       "2         0         0         0  ...            0            0            0   \n",
       "3         0         0         0  ...            0            0            0   \n",
       "4         0         1         0  ...            0            0            0   \n",
       "\n",
       "   GraphFP1019  GraphFP1020  GraphFP1021  GraphFP1022  GraphFP1023  \\\n",
       "0            0            0            0            0            0   \n",
       "1            0            0            0            0            0   \n",
       "2            0            0            0            0            0   \n",
       "3            0            0            0            0            0   \n",
       "4            0            0            0            0            0   \n",
       "\n",
       "   GraphFP1024  Activity  \n",
       "0            0         1  \n",
       "1            0         1  \n",
       "2            0         1  \n",
       "3            0         1  \n",
       "4            0         1  \n",
       "\n",
       "[5 rows x 1026 columns]"
      ]
     },
     "execution_count": 17,
     "metadata": {},
     "output_type": "execute_result"
    }
   ],
   "source": [
    "classification_prep_data.head()"
   ]
  },
  {
   "cell_type": "code",
   "execution_count": 18,
   "id": "922c4d32",
   "metadata": {},
   "outputs": [
    {
     "data": {
      "text/plain": [
       "(2983, 1026)"
      ]
     },
     "execution_count": 18,
     "metadata": {},
     "output_type": "execute_result"
    }
   ],
   "source": [
    "classification_prep_data.shape"
   ]
  },
  {
   "cell_type": "markdown",
   "id": "e94ea617",
   "metadata": {},
   "source": [
    "## Save the dataset to a file for future use\n"
   ]
  },
  {
   "cell_type": "code",
   "execution_count": 19,
   "id": "7abd25af",
   "metadata": {},
   "outputs": [
    {
     "name": "stdout",
     "output_type": "stream",
     "text": [
      "Created successfully!\n"
     ]
    }
   ],
   "source": [
    "classification_prep_data.to_csv('classification_prep_data.csv')\n",
    "print(\"Created successfully!\")"
   ]
  },
  {
   "cell_type": "markdown",
   "id": "3a9a6344",
   "metadata": {},
   "source": [
    "## Drop the \"Name\" column to prepare the dataset for calculations"
   ]
  },
  {
   "cell_type": "code",
   "execution_count": 20,
   "id": "17aead0d",
   "metadata": {},
   "outputs": [],
   "source": [
    "classification_prep_data = classification_prep_data.drop(['Name'], axis = 1)"
   ]
  },
  {
   "cell_type": "code",
   "execution_count": 21,
   "id": "d1cc9945",
   "metadata": {},
   "outputs": [
    {
     "data": {
      "text/html": [
       "<div>\n",
       "<style scoped>\n",
       "    .dataframe tbody tr th:only-of-type {\n",
       "        vertical-align: middle;\n",
       "    }\n",
       "\n",
       "    .dataframe tbody tr th {\n",
       "        vertical-align: top;\n",
       "    }\n",
       "\n",
       "    .dataframe thead th {\n",
       "        text-align: right;\n",
       "    }\n",
       "</style>\n",
       "<table border=\"1\" class=\"dataframe\">\n",
       "  <thead>\n",
       "    <tr style=\"text-align: right;\">\n",
       "      <th></th>\n",
       "      <th>GraphFP1</th>\n",
       "      <th>GraphFP2</th>\n",
       "      <th>GraphFP3</th>\n",
       "      <th>GraphFP4</th>\n",
       "      <th>GraphFP5</th>\n",
       "      <th>GraphFP6</th>\n",
       "      <th>GraphFP7</th>\n",
       "      <th>GraphFP8</th>\n",
       "      <th>GraphFP9</th>\n",
       "      <th>GraphFP10</th>\n",
       "      <th>...</th>\n",
       "      <th>GraphFP1016</th>\n",
       "      <th>GraphFP1017</th>\n",
       "      <th>GraphFP1018</th>\n",
       "      <th>GraphFP1019</th>\n",
       "      <th>GraphFP1020</th>\n",
       "      <th>GraphFP1021</th>\n",
       "      <th>GraphFP1022</th>\n",
       "      <th>GraphFP1023</th>\n",
       "      <th>GraphFP1024</th>\n",
       "      <th>Activity</th>\n",
       "    </tr>\n",
       "  </thead>\n",
       "  <tbody>\n",
       "    <tr>\n",
       "      <th>0</th>\n",
       "      <td>0</td>\n",
       "      <td>0</td>\n",
       "      <td>1</td>\n",
       "      <td>0</td>\n",
       "      <td>1</td>\n",
       "      <td>0</td>\n",
       "      <td>0</td>\n",
       "      <td>0</td>\n",
       "      <td>0</td>\n",
       "      <td>0</td>\n",
       "      <td>...</td>\n",
       "      <td>0</td>\n",
       "      <td>0</td>\n",
       "      <td>0</td>\n",
       "      <td>0</td>\n",
       "      <td>0</td>\n",
       "      <td>0</td>\n",
       "      <td>0</td>\n",
       "      <td>0</td>\n",
       "      <td>0</td>\n",
       "      <td>1</td>\n",
       "    </tr>\n",
       "    <tr>\n",
       "      <th>1</th>\n",
       "      <td>0</td>\n",
       "      <td>0</td>\n",
       "      <td>0</td>\n",
       "      <td>0</td>\n",
       "      <td>0</td>\n",
       "      <td>0</td>\n",
       "      <td>0</td>\n",
       "      <td>0</td>\n",
       "      <td>0</td>\n",
       "      <td>0</td>\n",
       "      <td>...</td>\n",
       "      <td>0</td>\n",
       "      <td>0</td>\n",
       "      <td>0</td>\n",
       "      <td>0</td>\n",
       "      <td>0</td>\n",
       "      <td>0</td>\n",
       "      <td>0</td>\n",
       "      <td>0</td>\n",
       "      <td>0</td>\n",
       "      <td>1</td>\n",
       "    </tr>\n",
       "    <tr>\n",
       "      <th>2</th>\n",
       "      <td>0</td>\n",
       "      <td>0</td>\n",
       "      <td>1</td>\n",
       "      <td>0</td>\n",
       "      <td>0</td>\n",
       "      <td>0</td>\n",
       "      <td>0</td>\n",
       "      <td>0</td>\n",
       "      <td>0</td>\n",
       "      <td>0</td>\n",
       "      <td>...</td>\n",
       "      <td>0</td>\n",
       "      <td>0</td>\n",
       "      <td>0</td>\n",
       "      <td>0</td>\n",
       "      <td>0</td>\n",
       "      <td>0</td>\n",
       "      <td>0</td>\n",
       "      <td>0</td>\n",
       "      <td>0</td>\n",
       "      <td>1</td>\n",
       "    </tr>\n",
       "    <tr>\n",
       "      <th>3</th>\n",
       "      <td>0</td>\n",
       "      <td>0</td>\n",
       "      <td>1</td>\n",
       "      <td>0</td>\n",
       "      <td>0</td>\n",
       "      <td>0</td>\n",
       "      <td>0</td>\n",
       "      <td>0</td>\n",
       "      <td>0</td>\n",
       "      <td>0</td>\n",
       "      <td>...</td>\n",
       "      <td>0</td>\n",
       "      <td>0</td>\n",
       "      <td>0</td>\n",
       "      <td>0</td>\n",
       "      <td>0</td>\n",
       "      <td>0</td>\n",
       "      <td>0</td>\n",
       "      <td>0</td>\n",
       "      <td>0</td>\n",
       "      <td>1</td>\n",
       "    </tr>\n",
       "    <tr>\n",
       "      <th>4</th>\n",
       "      <td>0</td>\n",
       "      <td>0</td>\n",
       "      <td>0</td>\n",
       "      <td>0</td>\n",
       "      <td>0</td>\n",
       "      <td>0</td>\n",
       "      <td>0</td>\n",
       "      <td>1</td>\n",
       "      <td>0</td>\n",
       "      <td>0</td>\n",
       "      <td>...</td>\n",
       "      <td>0</td>\n",
       "      <td>0</td>\n",
       "      <td>0</td>\n",
       "      <td>0</td>\n",
       "      <td>0</td>\n",
       "      <td>0</td>\n",
       "      <td>0</td>\n",
       "      <td>0</td>\n",
       "      <td>0</td>\n",
       "      <td>1</td>\n",
       "    </tr>\n",
       "  </tbody>\n",
       "</table>\n",
       "<p>5 rows × 1025 columns</p>\n",
       "</div>"
      ],
      "text/plain": [
       "   GraphFP1  GraphFP2  GraphFP3  GraphFP4  GraphFP5  GraphFP6  GraphFP7  \\\n",
       "0         0         0         1         0         1         0         0   \n",
       "1         0         0         0         0         0         0         0   \n",
       "2         0         0         1         0         0         0         0   \n",
       "3         0         0         1         0         0         0         0   \n",
       "4         0         0         0         0         0         0         0   \n",
       "\n",
       "   GraphFP8  GraphFP9  GraphFP10  ...  GraphFP1016  GraphFP1017  GraphFP1018  \\\n",
       "0         0         0          0  ...            0            0            0   \n",
       "1         0         0          0  ...            0            0            0   \n",
       "2         0         0          0  ...            0            0            0   \n",
       "3         0         0          0  ...            0            0            0   \n",
       "4         1         0          0  ...            0            0            0   \n",
       "\n",
       "   GraphFP1019  GraphFP1020  GraphFP1021  GraphFP1022  GraphFP1023  \\\n",
       "0            0            0            0            0            0   \n",
       "1            0            0            0            0            0   \n",
       "2            0            0            0            0            0   \n",
       "3            0            0            0            0            0   \n",
       "4            0            0            0            0            0   \n",
       "\n",
       "   GraphFP1024  Activity  \n",
       "0            0         1  \n",
       "1            0         1  \n",
       "2            0         1  \n",
       "3            0         1  \n",
       "4            0         1  \n",
       "\n",
       "[5 rows x 1025 columns]"
      ]
     },
     "execution_count": 21,
     "metadata": {},
     "output_type": "execute_result"
    }
   ],
   "source": [
    "classification_prep_data.head()"
   ]
  },
  {
   "cell_type": "code",
   "execution_count": 22,
   "id": "47b3337d",
   "metadata": {},
   "outputs": [
    {
     "data": {
      "text/plain": [
       "(2983, 1025)"
      ]
     },
     "execution_count": 22,
     "metadata": {},
     "output_type": "execute_result"
    }
   ],
   "source": [
    "classification_prep_data.shape"
   ]
  },
  {
   "cell_type": "code",
   "execution_count": 23,
   "id": "facfbf59",
   "metadata": {},
   "outputs": [
    {
     "data": {
      "image/png": "[encoded data removed]",
      "text/plain": [
       "<Figure size 1000x600 with 1 Axes>"
      ]
     },
     "metadata": {},
     "output_type": "display_data"
    }
   ],
   "source": [
    "# Create the bar plot\n",
    "plt.figure(figsize=(10, 6))\n",
    "sns.set(style=\"whitegrid\")\n",
    "plot = sns.countplot(x='Activity', data=classification_prep_data, palette='viridis')\n",
    "\n",
    "\n",
    "plot.set_xlabel('Activity', fontsize=14)\n",
    "plot.set_ylabel('Count', fontsize=14)\n",
    "# plot.set_title('Distribution of Activity Classes', fontsize=16)\n",
    "\n",
    "for p in plot.patches:\n",
    "    plot.annotate(f'{p.get_height()}', (p.get_x() + p.get_width() / 2., p.get_height()), \n",
    "                  ha='center', va='center', xytext=(0, 10), textcoords='offset points', fontsize=12)\n",
    "\n",
    "plt.tight_layout()\n",
    "plt.savefig('activity_distribution.png', dpi=300, bbox_inches='tight')\n",
    "plt.show()"
   ]
  },
  {
   "cell_type": "markdown",
   "id": "e19a3023",
   "metadata": {},
   "source": [
    "## Split the data into training and testing sets for model evaluation"
   ]
  },
  {
   "cell_type": "code",
   "execution_count": 24,
   "id": "b7d33fb1",
   "metadata": {},
   "outputs": [],
   "source": [
    "X = classification_prep_data.copy()\n",
    "y = X.pop('Activity')"
   ]
  },
  {
   "cell_type": "code",
   "execution_count": 25,
   "id": "52687b2b",
   "metadata": {},
   "outputs": [
    {
     "data": {
      "text/plain": [
       "(2983, 1024)"
      ]
     },
     "execution_count": 25,
     "metadata": {},
     "output_type": "execute_result"
    }
   ],
   "source": [
    "X.shape"
   ]
  },
  {
   "cell_type": "code",
   "execution_count": 26,
   "id": "d3729648",
   "metadata": {},
   "outputs": [
    {
     "data": {
      "text/plain": [
       "(2983,)"
      ]
     },
     "execution_count": 26,
     "metadata": {},
     "output_type": "execute_result"
    }
   ],
   "source": [
    "y.shape"
   ]
  },
  {
   "cell_type": "code",
   "execution_count": 27,
   "id": "f0ba895e",
   "metadata": {},
   "outputs": [],
   "source": [
    "train_x, test_x, train_y, test_y = train_test_split(X, y, test_size=0.20, random_state=42)"
   ]
  },
  {
   "cell_type": "code",
   "execution_count": 28,
   "id": "c9b596e9",
   "metadata": {},
   "outputs": [
    {
     "data": {
      "text/plain": [
       "(2386, 1024)"
      ]
     },
     "execution_count": 28,
     "metadata": {},
     "output_type": "execute_result"
    }
   ],
   "source": [
    "train_x.shape"
   ]
  },
  {
   "cell_type": "code",
   "execution_count": 29,
   "id": "a1d6c9e7",
   "metadata": {},
   "outputs": [
    {
     "data": {
      "text/plain": [
       "(2386,)"
      ]
     },
     "execution_count": 29,
     "metadata": {},
     "output_type": "execute_result"
    }
   ],
   "source": [
    "train_y.shape"
   ]
  },
  {
   "cell_type": "code",
   "execution_count": 30,
   "id": "cc163282",
   "metadata": {},
   "outputs": [
    {
     "data": {
      "text/plain": [
       "(597, 1024)"
      ]
     },
     "execution_count": 30,
     "metadata": {},
     "output_type": "execute_result"
    }
   ],
   "source": [
    "test_x.shape"
   ]
  },
  {
   "cell_type": "code",
   "execution_count": 31,
   "id": "02f03800",
   "metadata": {},
   "outputs": [
    {
     "data": {
      "text/plain": [
       "(597,)"
      ]
     },
     "execution_count": 31,
     "metadata": {},
     "output_type": "execute_result"
    }
   ],
   "source": [
    "test_y.shape"
   ]
  },
  {
   "cell_type": "markdown",
   "id": "4292b36c",
   "metadata": {},
   "source": [
    "## Define a function to calculate the mean accuracy score using cross-validation\n"
   ]
  },
  {
   "cell_type": "code",
   "execution_count": 32,
   "id": "dd37f693",
   "metadata": {},
   "outputs": [],
   "source": [
    "def my_score(X, y, model):\n",
    "    k_fold = KFold(n_splits = 5, shuffle=True, random_state = 42)\n",
    "    score = cross_val_score(model, X, y, cv= k_fold, scoring = 'accuracy')\n",
    "    score = score.mean()\n",
    "    return score"
   ]
  },
  {
   "cell_type": "markdown",
   "id": "ae8c4fdf",
   "metadata": {},
   "source": [
    "## Initialize a dictionary of classifiers for model training and evaluation"
   ]
  },
  {
   "cell_type": "code",
   "execution_count": 33,
   "id": "6a92a256",
   "metadata": {},
   "outputs": [],
   "source": [
    "classifiers = {\n",
    "    'RandomForest': RandomForestClassifier(random_state=42),\n",
    "    'XGBoost': XGBClassifier(seed = 42),\n",
    "    'SVM': SVC(probability=True, random_state=42),\n",
    "    'AdaBoost': AdaBoostClassifier(random_state=42),\n",
    "    'Bagging': BaggingClassifier(random_state=42),\n",
    "    'ExtraTrees': ExtraTreesClassifier(random_state=42),\n",
    "    'GradientBoosting': GradientBoostingClassifier(random_state=42),\n",
    "}"
   ]
  },
  {
   "cell_type": "code",
   "execution_count": null,
   "id": "b784ce51",
   "metadata": {},
   "outputs": [],
   "source": [
    "# Evaluate each classifier: calculate training and testing metrics, including accuracy, precision, recall, \n",
    "# F1-score, MCC, and ROC AUC\n",
    "results = {}\n",
    "for name, clf in classifiers.items():\n",
    "    # Start measuring time  \n",
    "    start_time = time.time() \n",
    "    \n",
    "    # Training accuracy \n",
    "    train_accuracy = my_score(train_x, train_y, clf) \n",
    "    \n",
    "    # model prediction\n",
    "    clf.fit(train_x, train_y)  \n",
    "    prediction = clf.predict(test_x)\n",
    "    \n",
    "    # Calculate test_accuracy\n",
    "    test_accuracy = accuracy_score(test_y, prediction)\n",
    "    \n",
    "     # Calculate precision, recall, F1-score, and MCC  \n",
    "    precision = precision_score(test_y, prediction)  \n",
    "    recall = recall_score(test_y, prediction)  \n",
    "    f1 = f1_score(test_y, prediction)  \n",
    "    mcc = matthews_corrcoef(test_y, prediction)  \n",
    "    \n",
    "    # Compute ROC AUC\n",
    "    prediction_probabilities = clf.predict_proba(test_x)[:, 1] \n",
    "    fpr, tpr, thresholds= roc_curve(test_y, prediction_probabilities)\n",
    "    roc_auc = auc(fpr, tpr)\n",
    "    \n",
    "     # Calculate processing time in minutes  \n",
    "    process_time = (time.time() - start_time) / 60\n",
    "\n",
    "    # Store results in the results dictionary  \n",
    "    results[name] = {  \n",
    "        'train_accuracy': train_accuracy,\n",
    "        'test_accuracy': test_accuracy, \n",
    "        'precision': precision,  \n",
    "        'recall': recall,  \n",
    "        'f1_score': f1,  \n",
    "        'mcc': mcc,  \n",
    "        'roc_auc': roc_auc,  \n",
    "        f'{name}_fpr': fpr,  \n",
    "        f'{name}_tpr': tpr,  \n",
    "        'process_time_minutes': process_time,\n",
    "    } "
   ]
  },
  {
   "cell_type": "code",
   "execution_count": 35,
   "id": "ea5ff179",
   "metadata": {},
   "outputs": [],
   "source": [
    "# results"
   ]
  },
  {
   "cell_type": "code",
   "execution_count": 36,
   "id": "fc0b5703",
   "metadata": {},
   "outputs": [],
   "source": [
    "# Create a new dictionary to organize and simplify the results for each classifier\n",
    "new_results={}\n",
    "for name, value in results.items():\n",
    "    new_results[name] = {  \n",
    "    'train_accuracy': results[name]['train_accuracy'],    \n",
    "    'test_accuracy': results[name]['test_accuracy'], \n",
    "    'precision': results[name]['precision'],  \n",
    "    'recall': results[name]['recall'],  \n",
    "    'f1_score': results[name]['f1_score'],  \n",
    "    'mcc': results[name]['mcc'],  \n",
    "    'roc_auc': results[name]['roc_auc'],  \n",
    "    'process_time_minutes': results[name]['process_time_minutes'],  \n",
    "    } "
   ]
  },
  {
   "cell_type": "code",
   "execution_count": 37,
   "id": "0b36f587",
   "metadata": {},
   "outputs": [],
   "source": [
    "# new_results"
   ]
  },
  {
   "cell_type": "code",
   "execution_count": 38,
   "id": "af9fb8a7",
   "metadata": {},
   "outputs": [],
   "source": [
    "# Initialize a dictionary to store evaluation metrics for each model in a structured format\n",
    "data = {\n",
    "    'Model': [],\n",
    "    'Train Accuracy': [],\n",
    "    'Test Accuracy': [],\n",
    "    'Precision': [],\n",
    "    'Recall': [],\n",
    "    'F1 Score': [],\n",
    "    'MCC': [],\n",
    "    'ROC AUC': [],\n",
    "    'Process Time (minutes)': []\n",
    "}"
   ]
  },
  {
   "cell_type": "code",
   "execution_count": 39,
   "id": "ef102ab2",
   "metadata": {},
   "outputs": [],
   "source": [
    "# Populate the data dictionary with evaluation metrics from new_results for each model\n",
    "for name, value in new_results.items():\n",
    "    data['Model'].append(name)\n",
    "    data['Train Accuracy'].append(value['train_accuracy'])\n",
    "    data['Test Accuracy'].append(value['test_accuracy'])\n",
    "    data['Precision'].append(value['precision'])\n",
    "    data['Recall'].append(value['recall'])\n",
    "    data['F1 Score'].append(value['f1_score'])\n",
    "    data['MCC'].append(value['mcc'])\n",
    "    data['ROC AUC'].append(value['roc_auc'])\n",
    "    data['Process Time (minutes)'].append(value['process_time_minutes'])\n",
    "# data"
   ]
  },
  {
   "cell_type": "code",
   "execution_count": 40,
   "id": "35a0e30a",
   "metadata": {},
   "outputs": [
    {
     "name": "stdout",
     "output_type": "stream",
     "text": [
      "Excel file 'model_evaluation_results_updated.xlsx' has been created.\n"
     ]
    }
   ],
   "source": [
    "# Convert to DataFrame\n",
    "df = pd.DataFrame(data)\n",
    "\n",
    "# Save to Excel file\n",
    "df.to_excel('model_evaluation_results_updated.xlsx', index=False)\n",
    "\n",
    "print(\"Excel file 'model_evaluation_results_updated.xlsx' has been created.\")"
   ]
  },
  {
   "cell_type": "markdown",
   "id": "3ea0c073",
   "metadata": {},
   "source": [
    "## Plot the Receiver Operating Characteristic (ROC) curve for each classifier and save the figure"
   ]
  },
  {
   "cell_type": "code",
   "execution_count": 41,
   "id": "1757c2dc",
   "metadata": {},
   "outputs": [
    {
     "data": {
      "image/png": "[encoded data removed]",
      "text/plain": [
       "<Figure size 1000x600 with 1 Axes>"
      ]
     },
     "metadata": {},
     "output_type": "display_data"
    }
   ],
   "source": [
    "plt.figure(figsize=(10, 6))  \n",
    "for name in classifiers.keys():  \n",
    "    plt.plot(  \n",
    "        results[name][f'{name}_fpr'],  \n",
    "        results[name][f'{name}_tpr'],  \n",
    "        label=f'{name} (AUC = {results[name][\"roc_auc\"]:.2f})',  \n",
    "    )  \n",
    "\n",
    "plt.plot([0, 1], [0, 1], 'k--')  # Diagonal line for no discrimination  \n",
    "plt.xlim([0.0, 1.0])  \n",
    "plt.ylim([0.0, 1.05])  \n",
    "plt.xlabel('Inactive (False Positive Rate)')  \n",
    "plt.ylabel('Active (True Positive Rate)')  \n",
    "# plt.title('Receiver Operating Characteristic (ROC) Curve')  \n",
    "plt.legend(loc=\"lower right\")  \n",
    "plt.grid()  \n",
    "plt.savefig('roc_curve.png', dpi =300)  # Save the figure for publication  \n",
    "plt.show()  "
   ]
  },
  {
   "cell_type": "markdown",
   "id": "15dadaa6",
   "metadata": {},
   "source": [
    "## Compare the accuracy scores of different models using a horizontal bar chart"
   ]
  },
  {
   "cell_type": "code",
   "execution_count": 42,
   "id": "01394b59",
   "metadata": {},
   "outputs": [
    {
     "data": {
      "image/png": "[encoded data removed]",
      "text/plain": [
       "<Figure size 1000x600 with 1 Axes>"
      ]
     },
     "metadata": {},
     "output_type": "display_data"
    }
   ],
   "source": [
    "plt.figure(figsize=(10, 6))  \n",
    "model_names = list(results.keys())  \n",
    "accuracies = [results[name]['test_accuracy'] for name in model_names]  \n",
    "\n",
    "plt.barh(model_names, accuracies, color='lightblue')  # You can choose a single color for bars or add more  \n",
    "plt.xlabel('Accuracy Score')  \n",
    "# plt.title('Accuracy Comparison of Different Models')  \n",
    "plt.xlim(0, 1)  # Assuming accuracy ranges from 0 to 1  \n",
    "plt.grid(axis='x')  \n",
    "plt.savefig('accuracy_comparison.png', dpi = 300)  # Save the figure for publication  \n",
    "plt.show()  "
   ]
  }
 ],
 "metadata": {
  "kernelspec": {
   "display_name": "Python 3 (ipykernel)",
   "language": "python",
   "name": "python3"
  },
  "language_info": {
   "codemirror_mode": {
    "name": "ipython",
    "version": 3
   },
   "file_extension": ".py",
   "mimetype": "text/x-python",
   "name": "python",
   "nbconvert_exporter": "python",
   "pygments_lexer": "ipython3",
   "version": "3.10.12"
  }
 },
 "nbformat": 4,
 "nbformat_minor": 5
}
